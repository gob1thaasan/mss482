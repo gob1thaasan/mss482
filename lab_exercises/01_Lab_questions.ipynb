{
 "cells": [
  {
   "cell_type": "markdown",
   "id": "bddea726-328c-49dc-b4e6-3f81c881d422",
   "metadata": {
    "id": "fRuRcAt3F_wS"
   },
   "source": [
    "\n",
    "# MSS482 - GRAPHING TECHNOLOGY IN MATHEMATICS AND SCIENCE\n",
    "\n",
    "**SEMESTER 1 2023/2024**\n",
    "\n",
    "\n",
    ">R.U.Gobithaasan (2023). School of Mathematical Sciences, Universiti Sains Malaysia.\n",
    "[Official Website](https://math.usm.my/academic-profile/705-gobithaasan-rudrusamy) \n",
    "\n",
    "\n",
    "<p align=\"center\">\n",
    "     © 2023 R.U. Gobithaasan All Rights Reserved.\n",
    "</p>"
   ]
  },
  {
   "cell_type": "markdown",
   "id": "9257fbb0-60a0-40a8-b70d-2c64cbb1ec4c",
   "metadata": {},
   "source": [
    "# Lab exercise: Introduction to Python    "
   ]
  },
  {
   "cell_type": "markdown",
   "id": "77794f1a-d526-45cb-a4ce-85b2238890ac",
   "metadata": {
    "jp-MarkdownHeadingCollapsed": true,
    "tags": []
   },
   "source": [
    "## Fill up the following declaration details:\n",
    "**I certify that this report is my own work, based on my personal study and/or research. I also certify that this report has not previously been submitted for assessment in any other unit, and that I have not copied in part or whole or otherwise plagiarised the work of other students and/or persons.**\n",
    "- Name:\n",
    "- Matrix Number: \n",
    "- Date: \n"
   ]
  },
  {
   "cell_type": "markdown",
   "id": "716164b2-a3f2-45ce-910d-f3a1cfcff826",
   "metadata": {},
   "source": [
    "<b>Q1: What is the data type of the following variables?</b>\n",
    "\n",
    "1. x = 4 <br>\n",
    "2. y = true <br>\n",
    "3. z = 3.7 <br>\n",
    "4. s = \"This is a string\" <br>"
   ]
  },
  {
   "cell_type": "code",
   "execution_count": null,
   "metadata": {},
   "outputs": [],
   "source": []
  },
  {
   "cell_type": "markdown",
   "id": "e8076eac-590a-4b65-999d-19dfe0a73dfb",
   "metadata": {},
   "source": [
    "<b>Q2: Perform the following arithmetic operations:<b>\n",
    "\n",
    "Let $z = 3.7$. Find <br>\n",
    "a. $z - 2$ <br>\n",
    "b. $z \\div3 $ <br>\n",
    "c. nearest integer value when $z \\div 3$ <br>\n",
    "d. $z^2$ <br>\n",
    "e. $\\sqrt{z^2}$  <br>\n",
    "f. $z^2$ (use `pow()`) <br>\n",
    "g. round off $z$ to its nearest integer <br>\n"
   ]
  },
  {
   "cell_type": "code",
   "execution_count": null,
   "metadata": {},
   "outputs": [],
   "source": []
  },
  {
   "cell_type": "markdown",
   "id": "f0fd9b7c-20d8-423b-8caa-c32ed4a71c53",
   "metadata": {},
   "source": [
    "<b>Q3 : Using `math` module find <b>\n",
    "    \n",
    "1. Let $x = 4$; <br>\n",
    "a. $\\sqrt{x}$ <br>\n",
    "b. $x^2$ <br>\n",
    "c. $e^x$<br>\n",
    "\n",
    "2. Let $z = {3}{\\pi}$  <br>\n",
    "a. $sin(z)$ <br>\n",
    "b. $tanh(z)$ <br>\n",
    "    \n",
    "3. Let $x = nan$ and check is it 'not a number' <br>\n",
    "    \n",
    "4. Let $x = \\infty$ and check whether it is infinite or not <br>\n",
    "     "
   ]
  },
  {
   "cell_type": "code",
   "execution_count": null,
   "metadata": {},
   "outputs": [],
   "source": []
  },
  {
   "cell_type": "markdown",
   "id": "2552f2ac-2261-46e9-bb9b-3d8710525283",
   "metadata": {},
   "source": [
    "<b> Q4 : If y1 = True and y2 = False, find the following logical operators\n",
    "    \n",
    "1. Logical AND operator <br>\n",
    "2. Logical OR operator <br>\n",
    "3. Logical NOT operator <br>"
   ]
  },
  {
   "cell_type": "code",
   "execution_count": null,
   "metadata": {},
   "outputs": [],
   "source": []
  },
  {
   "cell_type": "markdown",
   "id": "3ec84e46-cc61-4aa7-815b-3e4779c5a156",
   "metadata": {},
   "source": [
    "<b>Q5 : For the given string excute the following statements.\n",
    "  \n",
    "A string is 'This is a string'; <br>\n",
    "\n",
    "a. print the first word of the string  <br>\n",
    "b. replace 'a' with 'another' <br>\n",
    "c. replace 'is' with 'at' <br>\n",
    "d. find the position of 'a' <br>\n"
   ]
  },
  {
   "cell_type": "code",
   "execution_count": null,
   "metadata": {},
   "outputs": [],
   "source": []
  },
  {
   "cell_type": "markdown",
   "id": "14c66424-9af6-4bc5-b441-0425c21a2861",
   "metadata": {},
   "source": [
    "### 1.2 Data Types or called Containers"
   ]
  },
  {
   "cell_type": "markdown",
   "id": "f91b5af1-9084-4815-9e83-2de76277d7e4",
   "metadata": {},
   "source": [
    "<b> Q6 : Execute the following statements. <b>\n",
    "    \n",
    "1. Given intlist = [1,3,4,7,9] <br>\n",
    "a. What is the data type of the given sequence <br>\n",
    "b. Find the third elements from the list <br>\n",
    "c. Find the last three elements from the list <br>\n",
    "d. How many elements present in the list <br>\n",
    "e. What is the sum of all the element in the list <br>\n",
    "d. Insert  '11' to the list and then remove added element  <br>\n",
    "e. Concatenate [11,13,15] to the given list  <br>\n",
    "f. Replicate the list three times  <br>\n",
    "g. Replace the second element with 4<br>\n",
    "f. Sort elements of the given list in decending order  <br>\n",
    "     \n",
    "2. Create a list between 0 and 10 with the stepsize of two. (Name the list intlist2) \n"
   ]
  },
  {
   "cell_type": "code",
   "execution_count": null,
   "metadata": {},
   "outputs": [],
   "source": []
  },
  {
   "cell_type": "markdown",
   "id": "dadfbe6b-b53b-40f5-99b2-200cd57ab0a0",
   "metadata": {},
   "source": [
    "<b> Q7 : Given keys = ['apples', 'oranges', 'bananas', 'cherries'] and values = [3, 4, 2, 10] <b>\n",
    "    \n",
    "1. Convert the two given list into a dictionary (define the new dictionary as fruits) <br>\n",
    "2. Sort the keys from the 'fruits' dictionary <br>\n",
    "3. Sort the items in 'fruits' dictionary by keys in ascending order <br>\n",
    "4. Sort the items in 'fruits' dictionary by values in ascending order <br>"
   ]
  },
  {
   "cell_type": "code",
   "execution_count": null,
   "metadata": {},
   "outputs": [],
   "source": []
  },
  {
   "cell_type": "markdown",
   "id": "7e23ecca-9ef2-4d99-b017-40b9a2ffec44",
   "metadata": {},
   "source": [
    "<b> Q8 : Execute the following statements<b> \n",
    "    \n",
    "1. Print an empty set\n",
    "2. Given y1 = {'c', 'd', 'e', 'f','e'}; y2 = {'x','c','d', 'f', 'e'}; y3 = {'c','a','t'} <br>\n",
    "a. print y1 <br>\n",
    "b. what is the data type of y1 <br>\n",
    "c. 'd' is an element of y1. Is the statement true?<br>\n",
    "d. y1 is equals to y2. Is the statement true?<br>\n",
    "e. Find the common element in y2 and y3 <br>"
   ]
  },
  {
   "cell_type": "code",
   "execution_count": null,
   "metadata": {},
   "outputs": [],
   "source": []
  },
  {
   "cell_type": "markdown",
   "id": "35fa80b1-e73f-4d19-97ec-f1c19f2d6ff8",
   "metadata": {},
   "source": [
    "<b> Q9 : Given x=10, write a program to check whether the given number x is <b>\n",
    "    \n",
    "1. even or odd using if else statement.\n",
    "2. negative, positive or zero using if-elif-else statement."
   ]
  },
  {
   "cell_type": "code",
   "execution_count": null,
   "metadata": {},
   "outputs": [],
   "source": []
  },
  {
   "cell_type": "markdown",
   "id": "4bd63fc5-7bfc-4bd8-bf08-e27133144eeb",
   "metadata": {},
   "source": [
    "<b> Q10 : Create function named `message` with output of \"Selamat Datang Ke USM\"<b>"
   ]
  },
  {
   "cell_type": "code",
   "execution_count": null,
   "metadata": {},
   "outputs": [],
   "source": []
  },
  {
   "cell_type": "markdown",
   "id": "6d72d0b8-7365-4e02-9d62-2b715f8721e5",
   "metadata": {},
   "source": [
    "<b> Q11 : Write a function to perform a query on even number. The Function should return a boolean output: True if the given number is even, else the output is False. Find the following values are even or not  <b>\n",
    "    \n",
    "1. 3\n",
    "2. 40\n",
    "3. 3.2"
   ]
  },
  {
   "cell_type": "code",
   "execution_count": null,
   "metadata": {},
   "outputs": [],
   "source": []
  },
  {
   "cell_type": "markdown",
   "id": "ae0825e0-d749-44c3-98d5-26be1214a089",
   "metadata": {},
   "source": [
    "<b> Q12 : Represent $f2(x,y,z) = x^2+y^3+\\sqrt{z}$  in the form of a function in Python and  find $f2(x)$\n",
    "    when $x=2$, $y=3$, $z=4$ and $x=3$, $y=5$,  $z=2.4$ <b>"
   ]
  },
  {
   "cell_type": "code",
   "execution_count": null,
   "metadata": {},
   "outputs": [],
   "source": []
  },
  {
   "cell_type": "markdown",
   "id": "758889c9-6f83-4e0b-bed0-b554e958d7fe",
   "metadata": {},
   "source": [
    "<b> Q13 : Given Area and its details:\n",
    "[('G', 'Gelugor', 11700),('M', 'Minden', 11800), ('J', 'Jelutong', 11600), ('BL', 'Bayan Lepas', 11900)] \n",
    "\n",
    "a. First write the list of tuples as a CSV file.  <b>\n",
    "b. Next call the text file and print each area, e.g., as follows: Area= Gelugor ( G ) Postcode: 11700  <b>\n"
   ]
  },
  {
   "cell_type": "code",
   "execution_count": null,
   "metadata": {},
   "outputs": [],
   "source": []
  },
  {
   "cell_type": "markdown",
   "metadata": {},
   "source": [
    "<b> Q14 : Load the csv file using the `np.loadtxt` function using Numpy package.\n",
    "\n",
    " Tips: there is a file in the folder called `data` named `populations.csv`. The data describes the populations of hares and lynxes (and carrots) in northern Canada during 20 years"
   ]
  },
  {
   "cell_type": "code",
   "execution_count": null,
   "metadata": {},
   "outputs": [],
   "source": []
  },
  {
   "cell_type": "markdown",
   "metadata": {},
   "source": [
    "<b> Q15 : \n",
    "\n",
    "1. Load the csv file using Pandas package as Dataframe.\n",
    "\n",
    "TIPS: A [DataFrame](https://pandas.pydata.org/docs/getting_started/intro_tutorials/01_table_oriented.html#) is a 2-dimensional data structure that can store data of different types (including characters, integers, floating point values, categorical data and more) in columns. It is similar to a spreadsheet, an array or a table.\n",
    "\n",
    "2. Compute its basic statistics.\n"
   ]
  },
  {
   "cell_type": "code",
   "execution_count": null,
   "metadata": {},
   "outputs": [],
   "source": []
  },
  {
   "cell_type": "code",
   "execution_count": null,
   "metadata": {},
   "outputs": [],
   "source": []
  }
 ],
 "metadata": {
  "kernelspec": {
   "display_name": "Python 3 (ipykernel)",
   "language": "python",
   "name": "python3"
  },
  "language_info": {
   "codemirror_mode": {
    "name": "ipython",
    "version": 3
   },
   "file_extension": ".py",
   "mimetype": "text/x-python",
   "name": "python",
   "nbconvert_exporter": "python",
   "pygments_lexer": "ipython3",
   "version": "3.10.13"
  }
 },
 "nbformat": 4,
 "nbformat_minor": 5
}
