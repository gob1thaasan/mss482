{
 "cells": [
  {
   "cell_type": "markdown",
   "metadata": {},
   "source": [
    "---\n",
    "<h1 style=\"text-align: center;\">\n",
    "\n",
    "School of Mathematical Sciences,\n",
    "Universiti Sains Malaysia\n",
    "\n",
    "MSS482: Graphing Technology in Mathematics and Science\n",
    "\n",
    "Semester I: Academic Session 2023/2024\n",
    "\n",
    "</h1>\n",
    "\n",
    ">R.U.Gobithaasan (2023). School of Mathematical Sciences, Universiti Sains Malaysia.\n",
    "[Official Website](https://math.usm.my/academic-profile/705-gobithaasan-rudrusamy) \n",
    "---"
   ]
  },
  {
   "cell_type": "markdown",
   "metadata": {},
   "source": [
    "## Assignment 4: 7.5%\n",
    "- CLO1(P01/C3)=2.5%, \n",
    "- CLO2(P04/P4)= 5%\n",
    "\n",
    "### Due: 19th January 2023 (5.00 PM)\n",
    "\n",
    "1. This is an individual assignment. \n",
    "2. Please submit a softcopy of your Jupyter notebook (PDF and *.ipynb file) with `MSS482_Assignment4_YourName.ipynb` in the title via Elearn@USM.\n",
    "3. You are required to use Python and Jupyter notebook to complete this task. \n",
    "4. Answer all questions.\n"
   ]
  },
  {
   "cell_type": "markdown",
   "metadata": {},
   "source": [
    "## Fill up the following declaration details:\n",
    "**I certify that this report is my own work, based on my personal study and/or research. I also certify that this report has not previously been submitted for assessment in any other unit, and that I have not copied in part or whole or otherwise plagiarised the work of other students and/or persons.**\n",
    "- Name: \n",
    "- Matrix Number: \n",
    "- Date: \n"
   ]
  },
  {
   "cell_type": "markdown",
   "metadata": {},
   "source": [
    "## Read the instruction below before filling up your answers:\n",
    "Let your matrix number denoted as S54321. For computation below, ignore the first letter and use your matrix number by letting $\\mathbf{(\\alpha , \\beta, \\delta, \\gamma, \\kappa, \\lambda) =(1,5,4,3,2,6)}$. Hence replace explicitly the values of greek letters as $\\alpha = 1, \\beta = 5, \\delta =4, \\gamma = 3, \\kappa = 2, \\lambda =6$.\n",
    "\n",
    "For example:\n",
    "\n",
    "**Q0.** Compute $(\\beta * \\gamma * \\kappa)+{\\lambda})$:\n",
    "\n",
    "**ANSWER** `(5*3*2) + 6`"
   ]
  },
  {
   "cell_type": "markdown",
   "metadata": {},
   "source": [
    "> In case the greek letter you're asked to use is zero, and it is unsuitable to solve the question, then you may replace with $\\alpha$. For example, let $\\beta =0 $, then you may replace as follows with a short note.\n",
    "\n",
    "**Q0.** Compute $(\\beta * \\gamma * \\kappa)+{\\lambda})$\n",
    " - since $\\beta =0$, $\\alpha = 1$ is used instead as follows: \n",
    " \n",
    " $(\\alpha * \\gamma * \\kappa)+{\\lambda})$ \n",
    "\n",
    " - **ANSWER** `(1*3*2) + 6`"
   ]
  },
  {
   "cell_type": "markdown",
   "metadata": {
    "tags": []
   },
   "source": [
    "---\n",
    "<h1 style=\"text-align: center;\">\n",
    "\n",
    "Assessment Rubric for Assignment 2 \n",
    "MSS482 Graphing Technology in Mathematics and Science \n",
    "Semester I, Academic Session 2023/2024\n",
    "\n",
    "\n",
    "</h1>\n",
    "\n",
    "|Attribute |Assessment Criteria |Weightage (%) | 0 - 1.0|1.1 - 2.0 |2.1 - 3.0 |3.1 - 4.0 | 4.1 - 5.0| Marks |\n",
    "|:---:|:---:|:---:|:---:|:---:|:---:|:---:|:---:|:---:|\n",
    "|Cognitive Domain (CO1,P01,C3)| (a) Solving method and command |2.5|Not propose and solve |Propose and select |Propose and select |Propose and select appropriate command |Propose and select with skills | \n",
    "| Psychomotor Domain I (CO2,PO2,P4) |(a) Organize and construct  |2.5|Not able to organize and construct report |Able to organize and construct report with limited clarity and require further improvements |Able to organize and construct report fairly but require work |Able to organize and construct report clearly |Able to organize and construct report with excellent clarity|\n",
    "|Psychomotor Domain II (CO2,PO2,P4) |(b) Display / Visualize |2.5|No effort to create and display the output |Minimal effort to create and display the output|Sufficient effort to create and display the output |Good effort to create and display the output |Excellent effort to create and display the output|\n",
    "| || | | | | | Total||\n",
    "\n",
    "---\n"
   ]
  },
  {
   "cell_type": "markdown",
   "metadata": {
    "tags": []
   },
   "source": [
    "# ASSIGNMENT (4) QUESTIONS"
   ]
  },
  {
   "cell_type": "markdown",
   "metadata": {},
   "source": [
    "**Q1(CLO1, 3M):** Penguins' dataset:\n",
    "\n",
    "The penguins dataset, available in the Seaborn library, contains information about penguins collected from the Palmer Archipelago near the Antarctic.  The dataset includes various measurements and attributes of three penguin species.\n",
    "\n",
    "1. Show all the details of the information after loading penguins dataset as data as dataframe by running `penguins = sns.load_dataset('penguins')` \n",
    "2. Examine for missing values (NaN values) and print the rows containing `NaN` values by running: `penguins[penguins.isnull().any(axis=1)]`\n",
    "3. Next, modify the data by removing all the missing values and save the dataframe as 'penguins' by running: `penguins = penguins.dropna()`"
   ]
  },
  {
   "cell_type": "markdown",
   "metadata": {},
   "source": [
    "> penguins' dataset:\n",
    "\n",
    "The penguins dataset, available in the Seaborn library, contains information about penguins collected from the Palmer Archipelago near the Antarctic.  The dataset includes various measurements and attributes of three penguin species:\n",
    "\n",
    "- Adélie\n",
    "- Chinstrap\n",
    "- Gentoo\n",
    "\n",
    "features in the dataset include:\n",
    "\n",
    "- Culmen Length and Depth: Measurements of the penguin's bill (culmen) length and depth. The penguin's bill (culmen) refers to the beak or the upper ridge of the bird's bill, extending from the tip to the base where it meets the forehead. \n",
    "- Flipper Length: The length of the penguin's flipper.\n",
    "- Body Mass: The body mass of the penguin.\n",
    "- Island: The island where the penguins were found (Torgersen, Biscoe, Dream).\n",
    "- Sex: The gender of the penguin (male, female).\n",
    "- Species: The species of the penguin (Adélie, Chinstrap, Gentoo)."
   ]
  },
  {
   "cell_type": "code",
   "execution_count": null,
   "metadata": {},
   "outputs": [],
   "source": []
  },
  {
   "cell_type": "markdown",
   "metadata": {},
   "source": [
    "> Printout `NaN` rows:"
   ]
  },
  {
   "cell_type": "code",
   "execution_count": null,
   "metadata": {},
   "outputs": [],
   "source": []
  },
  {
   "cell_type": "markdown",
   "metadata": {},
   "source": [
    "> drop missing values:"
   ]
  },
  {
   "cell_type": "code",
   "execution_count": null,
   "metadata": {},
   "outputs": [],
   "source": []
  },
  {
   "cell_type": "markdown",
   "metadata": {},
   "source": [
    "**Q2(CLO2, 1M):** Perform the following tasks for `penguins` dataframe.\n",
    "\n",
    "1. Display the $\\kappa_{th}$ row's data for `penguins` dataframe. TIPS use `dataframe.iloc[i]`.\n",
    "2. Display the types of species of penguins and their respective counts available in the dataset.\n",
    "3. Display a scatter plot using `sns.swarmplot`with `x=\"species\"`, and y=`\"body_mass_g\"`. Color the points based on `sex`. What can you conclude from this plot?\\\n",
    "      TIPS: [see doc](https://seaborn.pydata.org/generated/seaborn.swarmplot.html) "
   ]
  },
  {
   "cell_type": "code",
   "execution_count": null,
   "metadata": {},
   "outputs": [],
   "source": []
  },
  {
   "cell_type": "code",
   "execution_count": null,
   "metadata": {},
   "outputs": [],
   "source": []
  },
  {
   "cell_type": "code",
   "execution_count": null,
   "metadata": {},
   "outputs": [],
   "source": []
  },
  {
   "cell_type": "markdown",
   "metadata": {},
   "source": [
    "**Q3(CLO2, 1M):**  Construct a boxplot with `x=\"species\"`, and y=`\"body_mass_g\"`, and show the means for each species in this plot. Visually inspect whether the assumptions of one-way ANOVA is met. Based on this plot, draw a conclusion if the body mass means of the penguins are similar. "
   ]
  },
  {
   "cell_type": "code",
   "execution_count": null,
   "metadata": {},
   "outputs": [],
   "source": []
  },
  {
   "cell_type": "markdown",
   "metadata": {},
   "source": [
    "**Q4(CLO1, 2M):** Discover whether the body mass means of the penguins are similar among species using `f_oneway` function available from `scipy.stats`. "
   ]
  },
  {
   "cell_type": "code",
   "execution_count": null,
   "metadata": {},
   "outputs": [],
   "source": []
  },
  {
   "cell_type": "markdown",
   "metadata": {},
   "source": [
    "**Q5(CLO1, 3M):** Examine whether the body mass means of the penguins are similar among species using `sm.stats.anova_lm`. Next, using the residual from this model, capture its normality using `stats.shapiro`. Also use `stats.levene`to examine for homogeneity of variance."
   ]
  },
  {
   "cell_type": "code",
   "execution_count": null,
   "metadata": {},
   "outputs": [],
   "source": []
  },
  {
   "cell_type": "code",
   "execution_count": null,
   "metadata": {},
   "outputs": [],
   "source": []
  },
  {
   "cell_type": "code",
   "execution_count": null,
   "metadata": {},
   "outputs": [],
   "source": []
  },
  {
   "cell_type": "markdown",
   "metadata": {},
   "source": [
    "**Q6(CLO2, 3M):** Perform a post-hoc Testing using Tukey Honestly Significant Difference [HSD](https://docs.scipy.org/doc/scipy/reference/generated/scipy.stats.tukey_hsd.html) to see which species significantly differ from each other. Display the results and discuss your findings."
   ]
  },
  {
   "cell_type": "code",
   "execution_count": null,
   "metadata": {},
   "outputs": [],
   "source": []
  },
  {
   "cell_type": "markdown",
   "metadata": {},
   "source": [
    "---"
   ]
  },
  {
   "cell_type": "markdown",
   "metadata": {},
   "source": [
    "**Q7(CLO2, 3M):** Given a sample dataset from our imaginary **crop yield experiment** contains data about:\n",
    "\n",
    "- fertilizer type (Brand A, Brand B, Brand C)\n",
    "- planting density (1 = low density, 2 = high density)\n",
    "- planting location in the field (blocks 1, 2, 3, or 4)\n",
    "- final crop yield (in bushels per acre).\n",
    "\n",
    "1. Display the crops's dataset by running the following code:\\\n",
    "`df = pd.read_csv(\"https://raw.githubusercontent.com/gob1thaasan/mss482/main/data/crop_yield.csv\")`\n",
    "\n",
    "2. Demonstrate the difference in average crop yield according to fertilizer type using One-Way ANOVA using `statsmodels.formula.api`. Next, report your findings based on Tukey HSD post-hoc testing.\\\n",
    "TIPS: rework the steps shown in the reference below from R language to Python code:\\\n",
    "[Bevans, R. (2023, June 22). One-way ANOVA | When and How to Use It (With Examples). Scribbr. Retrieved January 2, 2024,](https://www.scribbr.com/statistics/one-way-anova/)\n",
    "3. Conduct assumption verifications for ANOVA testing.\n",
    "4. Display significant differences in a plot with `TukeyHSDResults.plot_simultaneous` available in `statsmodels.stats.multicomp`.\n"
   ]
  },
  {
   "cell_type": "markdown",
   "metadata": {},
   "source": [
    "> Loading the data"
   ]
  },
  {
   "cell_type": "code",
   "execution_count": null,
   "metadata": {},
   "outputs": [],
   "source": []
  },
  {
   "cell_type": "markdown",
   "metadata": {},
   "source": [
    "> One-way ANOVA with `statsmodels.formula.api `"
   ]
  },
  {
   "cell_type": "code",
   "execution_count": null,
   "metadata": {},
   "outputs": [],
   "source": []
  },
  {
   "cell_type": "markdown",
   "metadata": {},
   "source": [
    "> Assumptions check"
   ]
  },
  {
   "cell_type": "code",
   "execution_count": null,
   "metadata": {},
   "outputs": [],
   "source": []
  },
  {
   "cell_type": "code",
   "execution_count": null,
   "metadata": {},
   "outputs": [],
   "source": []
  },
  {
   "cell_type": "markdown",
   "metadata": {},
   "source": [
    "> Post-hoc testing"
   ]
  },
  {
   "cell_type": "code",
   "execution_count": null,
   "metadata": {},
   "outputs": [],
   "source": []
  },
  {
   "cell_type": "markdown",
   "metadata": {},
   "source": [
    "> Visuals for post-hoc test"
   ]
  },
  {
   "cell_type": "code",
   "execution_count": null,
   "metadata": {},
   "outputs": [],
   "source": []
  }
 ],
 "metadata": {
  "kernelspec": {
   "display_name": "Python 3 (ipykernel)",
   "language": "python",
   "name": "python3"
  },
  "language_info": {
   "codemirror_mode": {
    "name": "ipython",
    "version": 3
   },
   "file_extension": ".py",
   "mimetype": "text/x-python",
   "name": "python",
   "nbconvert_exporter": "python",
   "pygments_lexer": "ipython3",
   "version": "3.11.6"
  },
  "toc-autonumbering": false,
  "toc-showcode": false,
  "toc-showmarkdowntxt": false,
  "toc-showtags": false
 },
 "nbformat": 4,
 "nbformat_minor": 4
}
