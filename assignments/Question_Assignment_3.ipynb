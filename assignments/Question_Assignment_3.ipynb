{
 "cells": [
  {
   "cell_type": "markdown",
   "metadata": {},
   "source": [
    "---\n",
    "<h1 style=\"text-align: center;\">\n",
    "\n",
    "School of Mathematical Sciences,\n",
    "Universiti Sains Malaysia\n",
    "\n",
    "MSS482: Graphing Technology in Mathematics and Science\n",
    "\n",
    "Semester I: Academic Session 2023/2024\n",
    "\n",
    "</h1>\n",
    "\n",
    ">R.U.Gobithaasan (2023). School of Mathematical Sciences, Universiti Sains Malaysia.\n",
    "[Official Website](https://math.usm.my/academic-profile/705-gobithaasan-rudrusamy) \n",
    "---"
   ]
  },
  {
   "cell_type": "markdown",
   "metadata": {},
   "source": [
    "## Assignment 3: 7.5%\n",
    "- CLO1(P01/C3)=2.5%, \n",
    "- CLO2(P04/P4)= 5%\n",
    "\n",
    "### Due: 5th January 2023 (5.00 PM)\n",
    "\n",
    "1. This is an individual assignment. \n",
    "2. Please submit a softcopy of your Jupyter notebook (PDF and *.ipynb file) with `MSS482_Assignment3_YourName.ipynb` in the title via Elearn@USM.\n",
    "3. You are required to use Python and Jupyter notebook to complete this task. \n",
    "4. Answer all questions.\n"
   ]
  },
  {
   "cell_type": "markdown",
   "metadata": {},
   "source": [
    "## Fill up the following declaration details:\n",
    "**I certify that this report is my own work, based on my personal study and/or research. I also certify that this report has not previously been submitted for assessment in any other unit, and that I have not copied in part or whole or otherwise plagiarised the work of other students and/or persons.**\n",
    "- Name: \n",
    "- Matrix Number: \n",
    "- Date: \n"
   ]
  },
  {
   "cell_type": "markdown",
   "metadata": {},
   "source": [
    "## Read the instruction below before filling up your answers:\n",
    "Let your matrix number denoted as S54321. For computation below, ignore the first letter and use your matrix number by letting $\\mathbf{(\\alpha , \\beta, \\delta, \\gamma, \\kappa, \\lambda) =(1,5,4,3,2,6)}$. Hence replace explicitly the values of greek letters as $\\alpha = 1, \\beta = 5, \\delta =4, \\gamma = 3, \\kappa = 2, \\lambda =6$.\n",
    "\n",
    "For example:\n",
    "\n",
    "**Q0.** Compute $(\\beta * \\gamma * \\kappa)+{\\lambda})$:\n",
    "\n",
    "**ANSWER** `(5*3*2) + 6`"
   ]
  },
  {
   "cell_type": "markdown",
   "metadata": {
    "tags": []
   },
   "source": [
    "(4*3*2)+1\n",
    "---\n",
    "<h1 style=\"text-align: center;\">\n",
    "\n",
    "Assessment Rubric for Assignment 2 \n",
    "MSS482 Graphing Technology in Mathematics and Science \n",
    "Semester I, Academic Session 2023/2024\n",
    "\n",
    "\n",
    "</h1>\n",
    "\n",
    "|Attribute |Assessment Criteria |Weightage (%) | 0 - 1.0|1.1 - 2.0 |2.1 - 3.0 |3.1 - 4.0 | 4.1 - 5.0| Marks |\n",
    "|:---:|:---:|:---:|:---:|:---:|:---:|:---:|:---:|:---:|\n",
    "|Cognitive Domain (CO1,P01,C3)| (a) Solving method and command |2.5|Not propose and solve |Propose and select |Propose and select |Propose and select appropriate command |Propose and select with skills | \n",
    "| Psychomotor Domain I (CO2,PO2,P4) |(a) Organize and construct  |2.5|Not able to organize and construct report |Able to organize and construct report with limited clarity and require further improvements |Able to organize and construct report fairly but require work |Able to organize and construct report clearly |Able to organize and construct report with excellent clarity|\n",
    "|Psychomotor Domain II (CO2,PO2,P4) |(b) Display / Visualize |2.5|No effort to create and display the output |Minimal effort to create and display the output|Sufficient effort to create and display the output |Good effort to create and display the output |Excellent effort to create and display the output|\n",
    "| || | | | | | Total||\n",
    "\n",
    "---\n"
   ]
  },
  {
   "cell_type": "markdown",
   "metadata": {
    "tags": []
   },
   "source": [
    "# ASSIGNMENT (3) QUESTIONS"
   ]
  },
  {
   "cell_type": "markdown",
   "metadata": {},
   "source": [
    "# Exercise:\n",
    "1. carry out simple visualzation for the data above.\n",
    "2. Try loading seaborn dataset carry out descriptive statistics. \n",
    "    - TIPS: refer to examples shown in: https://seaborn.pydata.org/tutorial/distributions.html\n",
    "    - the list of dataset can be obtained from https://github.com/mwaskom/seaborn-data"
   ]
  },
  {
   "cell_type": "markdown",
   "metadata": {},
   "source": [
    "**Q1(CLO1, 1M):** Go to the website below and download the dataset named `day.csv` to your machine."
   ]
  },
  {
   "cell_type": "markdown",
   "metadata": {},
   "source": [
    "**Additional Information:**\n",
    "\n",
    "https://archive.ics.uci.edu/dataset/275/bike+sharing+dataset\n",
    "\n",
    "This dataset contains the hourly and daily count of rental bikes between years 2011 and 2012 in Capital bikeshare system with the corresponding weather and seasonal information.\n",
    "\n",
    "Additional Information\n",
    "\n",
    "Bike sharing systems are new generation of traditional bike rentals where whole process from membership, rental and return back has become automatic. Through these systems, user is able to easily rent a bike from a particular position and return back at another position. Currently, there are about over 500 bike-sharing programs around the world which is composed of over 500 thousands bicycles. Today, there exists great interest in these systems due to their important role in traffic, environmental and health issues. \n",
    "\n",
    "Apart from interesting real world applications of bike sharing systems, the characteristics of data being generated by these systems make them attractive for the research. Opposed to other transport services such as bus or subway, the duration of travel, departure and arrival position is explicitly recorded in these systems. This feature turns bike sharing system into a virtual sensor network that can be used for sensing mobility in the city. Hence, it is expected that most of important events in the city could be detected via monitoring these data.\n"
   ]
  },
  {
   "cell_type": "markdown",
   "metadata": {},
   "source": [
    "**Q2(CLO1, 1M):** Load `day.csv` as data as dataframe in here as `bike_sharing_data` and show all the details of the information. "
   ]
  },
  {
   "cell_type": "code",
   "execution_count": null,
   "metadata": {},
   "outputs": [],
   "source": []
  },
  {
   "cell_type": "markdown",
   "metadata": {},
   "source": [
    "**Q3(CLO2, 1M):** Display first $\\kappa$ lines of `bike_sharing_data`. Explain whether the feature is numeric or categorical."
   ]
  },
  {
   "cell_type": "code",
   "execution_count": null,
   "metadata": {},
   "outputs": [],
   "source": []
  },
  {
   "cell_type": "markdown",
   "metadata": {},
   "source": [
    "**Q4(CLO2, 1M):** Display the names of the features for this data."
   ]
  },
  {
   "cell_type": "code",
   "execution_count": null,
   "metadata": {},
   "outputs": [],
   "source": []
  },
  {
   "cell_type": "markdown",
   "metadata": {},
   "source": [
    "**Q5(CLO1, 1M):** Compute the descriptive statistics of all the features for this data."
   ]
  },
  {
   "cell_type": "code",
   "execution_count": null,
   "metadata": {},
   "outputs": [],
   "source": []
  },
  {
   "cell_type": "markdown",
   "metadata": {},
   "source": [
    "**Q6(CLO1, 1M):** Use the right command to extract the categories available for `mnth`, `season`, `holiday`, and `working day`."
   ]
  },
  {
   "cell_type": "code",
   "execution_count": null,
   "metadata": {},
   "outputs": [],
   "source": []
  },
  {
   "cell_type": "markdown",
   "metadata": {},
   "source": [
    "**Q7(CLO2, 1M):** Construct boxplots to show counts (`cnt`) of total rental bikes including both casual and registered grouped by working days (`workingday`)"
   ]
  },
  {
   "cell_type": "code",
   "execution_count": null,
   "metadata": {},
   "outputs": [],
   "source": []
  },
  {
   "cell_type": "markdown",
   "metadata": {},
   "source": [
    "**Q8(CLO2, 1M):** Construct two dataframes representing `working day` (1) and `nonworking day` (0), name them as `workingday` and `nonworkingday` respectively. \n",
    "1. Show the shape of each dataframe.\n",
    "2. Extract the $\\lambda_{th}$ line's data for `working data` dataframe. TIPS use `df.iloc[i]`"
   ]
  },
  {
   "cell_type": "code",
   "execution_count": null,
   "metadata": {},
   "outputs": [],
   "source": []
  },
  {
   "cell_type": "code",
   "execution_count": null,
   "metadata": {},
   "outputs": [],
   "source": []
  },
  {
   "cell_type": "markdown",
   "metadata": {},
   "source": [
    "**Q9(CLO1, 1M):** Sample 231 observations from each dataframe extracted above and rename as sample_1 (for `workingday`) and sample_2 (for `nonworkingday`)"
   ]
  },
  {
   "cell_type": "code",
   "execution_count": null,
   "metadata": {},
   "outputs": [],
   "source": []
  },
  {
   "cell_type": "markdown",
   "metadata": {},
   "source": [
    "**Q10(CLO2, 1M):** Based on these two samples you obtained above, check if there is a **statistical mean difference of number of bicycles** rented on working and nonworking day.\n",
    "1. Identify the right type of test to use.\n",
    "2. Make sure to check the assumptions are met for the chosen test. Use the statistical and visualization tools to show your work.  TIPS: standardize the difference between these two dataset before checking its normality using a function from `sklearn.preprocessing import scale`.\n",
    "        - each plot must be labelled.\n",
    "        - each assumption and findings must be explained.\n",
    "3. Summarize the outcome by writing a five sentences summary. "
   ]
  },
  {
   "cell_type": "markdown",
   "metadata": {},
   "source": [
    ">  test to use?"
   ]
  },
  {
   "cell_type": "code",
   "execution_count": null,
   "metadata": {},
   "outputs": [],
   "source": []
  },
  {
   "cell_type": "markdown",
   "metadata": {},
   "source": [
    ">  normality"
   ]
  },
  {
   "cell_type": "code",
   "execution_count": null,
   "metadata": {},
   "outputs": [],
   "source": []
  },
  {
   "cell_type": "markdown",
   "metadata": {},
   "source": [
    "> more on normality"
   ]
  },
  {
   "cell_type": "code",
   "execution_count": null,
   "metadata": {},
   "outputs": [],
   "source": []
  },
  {
   "cell_type": "markdown",
   "metadata": {},
   "source": [
    ">t test"
   ]
  },
  {
   "cell_type": "code",
   "execution_count": null,
   "metadata": {},
   "outputs": [],
   "source": []
  },
  {
   "cell_type": "markdown",
   "metadata": {},
   "source": [
    "> concluding remark"
   ]
  },
  {
   "cell_type": "markdown",
   "metadata": {},
   "source": []
  }
 ],
 "metadata": {
  "kernelspec": {
   "display_name": "Python 3 (ipykernel)",
   "language": "python",
   "name": "python3"
  },
  "language_info": {
   "codemirror_mode": {
    "name": "ipython",
    "version": 3
   },
   "file_extension": ".py",
   "mimetype": "text/x-python",
   "name": "python",
   "nbconvert_exporter": "python",
   "pygments_lexer": "ipython3",
   "version": "3.11.6"
  },
  "toc-autonumbering": false,
  "toc-showcode": false,
  "toc-showmarkdowntxt": false,
  "toc-showtags": false
 },
 "nbformat": 4,
 "nbformat_minor": 4
}
