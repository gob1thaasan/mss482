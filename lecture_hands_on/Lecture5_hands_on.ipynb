{
 "cells": [
  {
   "cell_type": "markdown",
   "id": "6027a45f-d731-4ff1-8527-b4db811bb2f9",
   "metadata": {
    "id": "fRuRcAt3F_wS"
   },
   "source": [
    "\n",
    "# MSS482 - GRAPHING TECHNOLOGY IN MATHEMATICS AND SCIENCE\n",
    "\n",
    "**SEMESTER 1 2023/2024**\n",
    "\n",
    "\n",
    ">R.U.Gobithaasan (2023). School of Mathematical Sciences, Universiti Sains Malaysia.\n",
    "[Official Website](https://math.usm.my/academic-profile/705-gobithaasan-rudrusamy) \n",
    "\n",
    "\n",
    "<p align=\"center\">\n",
    "     © 2023 R.U. Gobithaasan All Rights Reserved.\n",
    "</p>"
   ]
  },
  {
   "cell_type": "markdown",
   "id": "ac9069ae-3da6-41b9-88f1-cb26da15581c",
   "metadata": {},
   "source": [
    "# Comparing means with Analysis of Variance (ANOVA)\n",
    "- https://www.pythonfordatascience.org/anova-python/\n",
    "- https://www.pythonfordatascience.org/factorial-anova-python/\n"
   ]
  },
  {
   "cell_type": "markdown",
   "id": "db82e975-28ad-49ac-9960-82538ce11fd0",
   "metadata": {},
   "source": [
    "5.1 One Way ANOVA <br>\n",
    " - using `scipy.stats`\n",
    " - using `statsmodels`\n",
    "\n",
    "5.2. Factorial ANOVA <br>\n",
    " - to be continued ...\n",
    "\n"
   ]
  },
  {
   "cell_type": "markdown",
   "id": "d14ade7d",
   "metadata": {},
   "source": [
    "### requirements\n",
    "\n",
    "> Install the following: `!python -m pip install pandas`\n",
    "1. pandas\n",
    "2. scipy\n",
    "3. statsmodels\n",
    "4. matplotlib\n",
    "5. seaborn"
   ]
  },
  {
   "cell_type": "markdown",
   "id": "31aad3b9-a5ff-430c-bda0-922d8e3de635",
   "metadata": {
    "tags": []
   },
   "source": [
    "### Dataset: Online Dataset sources\n",
    "\n",
    "**Online Sources:** \n",
    "- statsmodels: https://www.statsmodels.org/stable/anova.html\n",
    "- scipy.stats: https://docs.scipy.org/doc/scipy/reference/generated/scipy.stats.f_oneway.html \n",
    "- Python for Data Science: https://www.pythonfordatascience.org/anova-python/\n",
    "- DataCamp: https://campus.datacamp.com/courses/experimental-design-in-python/design-considerations-in-experimental-design?ex=8\n",
    "- Analytics Vidhya: https://www.analyticsvidhya.com/blog/2020/06/introduction-anova-statistics-data-science-covid-python/ \n",
    "\n",
    "\n"
   ]
  },
  {
   "cell_type": "markdown",
   "id": "fe0cf54e",
   "metadata": {},
   "source": [
    "### Tips"
   ]
  },
  {
   "cell_type": "code",
   "execution_count": null,
   "id": "1ba723a9",
   "metadata": {},
   "outputs": [],
   "source": [
    "# Magic command to display Matplotlib plots inline :https://ipython.readthedocs.io/en/stable/interactive/magics.html\n",
    "%matplotlib inline\n",
    "# To ignore warnings, use the following code to make the display more attractive.\n",
    "# Import seaborn and matplotlib.\n",
    "import warnings\n",
    "warnings.filterwarnings(\"ignore\")"
   ]
  },
  {
   "cell_type": "markdown",
   "id": "aa413f35",
   "metadata": {},
   "source": [
    "# Introduction: Analysis of Variance (ANOVA)\n",
    "1. https://www.doi.org/10.1017/CBO9780511790942.028\n",
    "2. https://www.doi.org/10.1111/J.1365-2125.1983.TB01544.X\n",
    "3. https://doi.org/10.2307/2281205\n",
    "\n",
    "\n",
    "- Analysis of variance (ANOVA) is a statistical technique used to determine if there are any significant differences between the means of two or more groups. \n",
    "- When working from the ANOVA framework, independent variables are sometimes referred to as factors and the number of groups within each variable are called levels, i.e. one variable with 3 categories could be referred to as a factor with 3 levels.\n",
    "- It allows researchers to compare the variability within groups to the variability between groups, providing insights into the factors that may be influencing the observed differences. \n",
    "- ANOVA is an omnibus parametric test. The term \"omnibus\" in statistics refers to a single test that evaluates multiple aspects or components simultaneously. "
   ]
  },
  {
   "cell_type": "markdown",
   "id": "613151aa",
   "metadata": {},
   "source": [
    "**The assumptions of the ANOVA test**\n",
    " The assumptions are the same as the general assumptions for any parametric test:\n",
    "\n",
    "1. **Independence of observations:** the data were collected using statistically valid sampling methods, and there are no hidden relationships among observations. If your data fail to meet this assumption because you have a confounding variable that you need to control for statistically, use an ANOVA with blocking variables.\n",
    "2. **Normally-distributed response variable:** The values of the dependent variable follow a normal distribution.\n",
    "3. **Homogeneity of variance:** The variation within each group being compared is similar for every group. If the variances are different among the groups, then ANOVA probably isn’t the right fit for the data.\n"
   ]
  },
  {
   "cell_type": "markdown",
   "id": "4ebf7e78",
   "metadata": {},
   "source": [
    "## Comparison between ANOVA and t-test\n",
    "\n",
    ">Purpose:\n",
    "- **ANOVA:** Used to compare means among three or more groups.\n",
    "- **t-test:** Used to compare means between two groups.\n",
    "\n",
    ">Number of Groups:\n",
    "- **ANOVA:** Compares means across multiple groups simultaneously.\n",
    "- **t-test:** Compares means between two groups only.\n",
    "\n",
    ">Applicability:\n",
    "- **ANOVA:** Suitable when comparing means of more than two groups to determine if any group differs significantly.\n",
    "- **t-test:** Appropriate when comparing means between two groups specifically.\n",
    "\n",
    ">Variation:\n",
    "- **ANOVA:** Considers both between-group and within-group variation to assess differences.\n",
    "- **t-test:** Does not differentiate between within-group and between-group variation; focuses on differences between two specific groups.\n",
    "\n",
    "> Statistical Test:\n",
    "- **ANOVA:** Utilizes the F-statistic to determine if group means are significantly different.\n",
    "- **t-test:** Employs the t-statistic to evaluate if means of two groups are significantly different.\n",
    "\n",
    ">Assumptions:\n",
    "- **ANOVA:** Assumes homogeneity of variances and approximately normally distributed data across groups.\n",
    "- **t-test:** Requires homogeneity of variances and assumes normality within each group.\n",
    "\n",
    "> Use Cases:\n",
    "- **ANOVA:** Commonly applied in experiments with multiple treatments, groups, or factors.\n",
    "- **t-test:** Frequently used in simple comparisons such as before vs. after treatment, control vs. experimental groups.\n",
    "\n",
    "> Post-hoc Testing:\n",
    "- **ANOVA:** Often followed by post-hoc tests (e.g., Tukey's HSD, Bonferroni correction) to identify specific group differences.\n",
    "- **t-test:** Not typically followed by post-hoc tests as it deals with comparisons between two groups only.\n",
    "\n",
    "> Conclusion:\n",
    "- **ANOVA:** Determines if there are overall differences among multiple group means.\n",
    "- **t-test:** Specifically compares means between two groups to determine if they are significantly different.\n",
    "---"
   ]
  },
  {
   "cell_type": "markdown",
   "id": "6a66217b",
   "metadata": {},
   "source": [
    "## Details: Analysis of Variance (ANOVA)\n",
    "\n",
    "ANOVA examines the total variance in a dataset and decomposes it into different sources of variation:\n",
    "\n",
    "1. **Between-group variation:** Variation among the means of the groups being compared.\n",
    "2. **Within-group variation:** Variation within each group or category.\n",
    "\n",
    "- [See mathematical details](https://www.pythonfordatascience.org/anova-python/)\n",
    "\n",
    "- The fundamental concept behind ANOVA is to compare the ratio of between-group variance to within-group variance. If the between-group variance is significantly larger than the within-group variance, it suggests that the means of the groups are not equal and that there is at least one group that differs significantly from the others.\n",
    "\n",
    "- There are different types of ANOVA based on the experimental design:\n",
    "\n",
    "1. **One-way ANOVA:** Compares the means of three or more independent groups to determine if there are differences between them based on a single factor or variable.\n",
    "2. **two-way ANOVA:** Analyzes the influence of **two (or more)** different independent variables (factors). This is considered a type of factorial ANOVA.\n",
    "3. **N-way ANOVA: (Multiple Factorial) ANOVA:** Deals with more than two independent variables affecting a dependent variable.\n",
    "\n",
    ">The procedure involves calculating several key statistics, including the F-statistic, which is used to determine the statistical significance of the differences between group means. The F-statistic is calculated by dividing the between-group variance by the within-group variance.\n",
    "\n",
    "- If the calculated F-value is greater than the critical value obtained from an F-distribution table or if the p-value associated with the F-value is less than a chosen significance level (often 0.05), then it is concluded that there are significant differences among the group means.\n",
    "\n",
    "- ASSUMPTIONS: it's essential to ensure that the assumptions of ANOVA, such as independence, normality and homogeneity of variances, are met before interpreting the results.\n",
    "\n",
    "- Post-hoc tests, like Tukey's HSD (Honestly Significant Difference), Scheffe's test, or Bonferroni correction, may be conducted after ANOVA to determine which specific group means differ significantly from each other when dealing with multiple groups.\n"
   ]
  },
  {
   "cell_type": "markdown",
   "id": "1b1e9cc3",
   "metadata": {},
   "source": [
    "# ONE-WAY ANOVA\n",
    "\n",
    "- In a one-way anova (also known as a one-factor, single-factor, or single-classification anova), there is one measurement variable and one nominal variable.\n",
    "- Use one-way anova when you have **one nominal variable and one measurement variable**; the nominal variable divides the measurements into two or more groups. \n",
    "- You make multiple observations of the measurement variable for each value of the nominal variable. \n",
    "- It tests whether the means of the measurement variable are the same for the different groups.\n",
    "- If there are two variables being compared it would technically be called a two-way, or two factor, ANOVA if both variables are categorical. \n",
    "- It could be called an ANCOVA if the second variable is continuous. The \"C\" doesn't stand for continuous, it stands for covariate.\n"
   ]
  },
  {
   "cell_type": "markdown",
   "id": "a0ea2024",
   "metadata": {},
   "source": [
    "> Using `scipy.stats`\n",
    "\n",
    "- https://docs.scipy.org/doc/scipy/reference/generated/scipy.stats.f_oneway.html\n",
    "\n",
    "\n",
    "### Hypothesis\n",
    "- H0: the means of the measurement variable are the same for the different categories of data.\n",
    "- H1: they are not all the same.\n",
    "\n",
    "\n"
   ]
  },
  {
   "cell_type": "markdown",
   "id": "b2cda08b",
   "metadata": {},
   "source": [
    "> Example from: \n",
    "https://www.biostathandbook.com/onewayanova.html\n",
    "\n",
    "For example, here are some data on a **shell measurement**:\n",
    "\n",
    "- MEASUREMENT VARIABLE: (the length of the anterior adductor muscle (AAM) scar , standardized by dividing by length; \"AAM length\") in the mussel Mytilus trossulus \n",
    "- NOMINAL VARIABLE: from five locations: Tillamook, Oregon; Newport, Oregon; Petersburg, Alaska; Magadan, Russia; and Tvarminne, Finland, (taken from a much larger data set used in McDonald et al. (1991)).\n"
   ]
  },
  {
   "cell_type": "markdown",
   "id": "7259dee2",
   "metadata": {},
   "source": [
    "<center>\n",
    "<img src=\"../images/labelled_shell.jpg\" alt=\"Four Assumptions of Regression\" width=\"300\" height=\"150\"/>\n",
    "</center>\n",
    "\n",
    "[(source)](https://www.museum.zoo.cam.ac.uk/anatomy-bivalve/inside-shell)\n"
   ]
  },
  {
   "cell_type": "code",
   "execution_count": null,
   "id": "4a8e4d62",
   "metadata": {},
   "outputs": [],
   "source": [
    "tillamook = [0.0571, 0.0813, 0.0831, 0.0976, 0.0817, 0.0859, 0.0735,\n",
    "             0.0659, 0.0923, 0.0836]\n",
    "newport = [0.0873, 0.0662, 0.0672, 0.0819, 0.0749, 0.0649, 0.0835,\n",
    "           0.0725]\n",
    "petersburg = [0.0974, 0.1352, 0.0817, 0.1016, 0.0968, 0.1064, 0.105]\n",
    "magadan = [0.1033, 0.0915, 0.0781, 0.0685, 0.0677, 0.0697, 0.0764,\n",
    "           0.0689]\n",
    "tvarminne = [0.0703, 0.1026, 0.0956, 0.0973, 0.1039, 0.1045]\n",
    "\n",
    "import pandas as pd \n",
    "# dictionary of lists \n",
    "dict = {'tillamook': tillamook, 'newport ': newport , 'petersburg': petersburg, 'magadan':magadan, 'tvarminne': tvarminne}  \n",
    "df = pd.DataFrame.from_dict(dict,orient='index') \n",
    "df = df.transpose()\n",
    "df"
   ]
  },
  {
   "cell_type": "markdown",
   "id": "87305d1b",
   "metadata": {},
   "source": [
    "<div class=\"alert alert-block alert-warning\">\n",
    "The test is applied to samples from two or more groups, possibly with differing sizes.\n",
    "</div>"
   ]
  },
  {
   "cell_type": "code",
   "execution_count": null,
   "id": "3d067612",
   "metadata": {},
   "outputs": [],
   "source": [
    "df.describe()"
   ]
  },
  {
   "cell_type": "code",
   "execution_count": null,
   "id": "7019b4ed",
   "metadata": {},
   "outputs": [],
   "source": [
    "df.boxplot()"
   ]
  },
  {
   "cell_type": "markdown",
   "id": "f50dc9c5",
   "metadata": {},
   "source": [
    "For the example data set;\n",
    "\n",
    "    - the null hypothesis is that the mean AAM length is the same at each location,\n",
    "    - the alternative hypothesis is that the mean AAM lengths are not all the same."
   ]
  },
  {
   "cell_type": "code",
   "execution_count": null,
   "id": "62ffbc60",
   "metadata": {},
   "outputs": [],
   "source": [
    "import numpy as np\n",
    "from scipy.stats import f_oneway\n",
    "f_oneway(tillamook, newport, petersburg, magadan, tvarminne)\n",
    "\n",
    "f_statistic, p_value = f_oneway(tillamook, newport, petersburg, magadan, tvarminne)\n",
    "print(f\"F-statistic: {f_statistic}\")\n",
    "print(f\"p-value: {p_value}\")\n",
    "\n",
    "# Print the significance level using if-else statements\n",
    "if p_value < 0.05:\n",
    "    print(f\"The p-value ({p_value:.4f}) is less than 0.05. There is a significant difference between the means of these datasets.\")\n",
    "else:\n",
    "    print(f\"The p-value ({p_value:.4f}) is greater than or equal to 0.05. There is no significant difference between the means these datasets.\")\n"
   ]
  },
  {
   "cell_type": "markdown",
   "id": "1625bf15",
   "metadata": {},
   "source": [
    "> `difficile.csv` dataset: Example from: https://www.pythonfordatascience.org/anova-python/"
   ]
  },
  {
   "cell_type": "markdown",
   "id": "14b5fb2b",
   "metadata": {},
   "source": [
    "- A new medication was developed to increase the libido of those who take the medication. The purpose of this study was to test for a difference between the dosage levels. Below is a dummy dataset:\n",
    "    - person id\n",
    "    - dose given (nominal: 'placebo', 'low', 'high')\n",
    "    - libido level (measurement)\n",
    "\n",
    "keywords:\n",
    "\n",
    "    - libido:  dorongan seks\n",
    "    - placebo: sesuatu bahan atau rawatan diberikan dengan tiada kesan terapeutik(contohnya, pil gula)\n"
   ]
  },
  {
   "cell_type": "code",
   "execution_count": null,
   "id": "ca16a37f",
   "metadata": {},
   "outputs": [],
   "source": [
    "df = pd.read_csv(\"https://raw.githubusercontent.com/gob1thaasan/mss482/main/data/difficile.csv\")\n",
    "df.info()\n",
    "df"
   ]
  },
  {
   "cell_type": "code",
   "execution_count": null,
   "id": "d4cf4ce4",
   "metadata": {},
   "outputs": [],
   "source": [
    "df.drop('person', axis= 1, inplace= True)\n",
    "\n",
    "# Recoding value from numeric to string\n",
    "df['dose'].replace({1: 'placebo', 2: 'low', 3: 'high'}, inplace= True)\n",
    "df.sample(10)"
   ]
  },
  {
   "cell_type": "code",
   "execution_count": null,
   "id": "e37bb345",
   "metadata": {},
   "outputs": [],
   "source": [
    "high_dose = df['libido'][df['dose'] == 'high']\n",
    "low_dose = df['libido'][df['dose'] == 'low']\n",
    "placebo = df['libido'][df['dose'] == 'placebo']\n",
    "\n",
    "dict = {'high_dose': high_dose.values, 'low_dose': low_dose.values , 'placebo': placebo.values}  \n",
    "df_ordered = pd.DataFrame.from_dict(dict,orient='index') \n",
    "df_ordered = df_ordered.transpose()\n",
    "df_ordered"
   ]
  },
  {
   "cell_type": "code",
   "execution_count": null,
   "id": "ff4a60ba",
   "metadata": {},
   "outputs": [],
   "source": [
    "#import seaborn as sns\n",
    "#sns.boxplot(df)\n",
    "\n",
    "df_ordered.describe()"
   ]
  },
  {
   "cell_type": "code",
   "execution_count": null,
   "id": "5853aeb5",
   "metadata": {},
   "outputs": [],
   "source": [
    "import scipy.stats as stats\n",
    "\n",
    "f_statistic, p_value = stats.f_oneway(high_dose,low_dose,placebo)\n",
    "print(f\"F-statistic: {f_statistic}\")\n",
    "print(f\"p-value: {p_value}\")\n",
    "\n",
    "# Print the significance level using if-else statements\n",
    "if p_value < 0.05:\n",
    "    print(f\"The p-value ({p_value:.4f}) is less than 0.05. There is a significant difference between the means of these datasets.\")\n",
    "else:\n",
    "    print(f\"The p-value ({p_value:.4f}) is greater than or equal to 0.05. There is no significant difference between the means these datasets.\")\n"
   ]
  },
  {
   "cell_type": "markdown",
   "id": "3bda8fc3",
   "metadata": {},
   "source": [
    "> There is a statistically significant difference between the dosage levels representing the groups and their effects to libido.\n"
   ]
  },
  {
   "cell_type": "markdown",
   "id": "d7fe8aba",
   "metadata": {},
   "source": [
    "> USING `statsmodels`\n",
    "\n",
    "This method conducts a one-way ANOVA in two steps:\n",
    "\n",
    "1. **Fit the model using an estimation method:** The default estimation method in most statistical software packages is ordinary least squares. It's one of many types of estimation methods that aim to provide estimates of the parameter \n",
    "\n",
    "2. **Pass fitted model into ANOVA method to produce ANOVA table:** Wer can then check the significance statistics.\n",
    "\n",
    ">The general structure for entering the equation is:\\\n",
    "`ols(\"outcome_variable ~ independent_variable\", data= data_frame).fit()`\n",
    "\n",
    "We can add `C` around the variable name `independent_variable` explicitly indicates that the variable should be treated as categorical.\\\n",
    "`ols(\"outcome_variable ~ C(independent_variable)\", data= data_frame).fit()`\n",
    "\n",
    "In the code below there is an argument `typ` in the `anova_lm` method; this determines how the sum of squares is calculated. \n",
    "see for details: https://md.psych.bio.uni-goettingen.de/mv/unit/lm_cat/lm_cat_unbal_ss_explained.html\n"
   ]
  },
  {
   "cell_type": "code",
   "execution_count": null,
   "id": "fc6de5b3",
   "metadata": {},
   "outputs": [],
   "source": [
    "import statsmodels.api as sm\n",
    "from statsmodels.formula.api import ols\n",
    "\n",
    "#the independent variable will be categorical. \n",
    "# y ~ C(x)\n",
    "model = ols('libido ~ C(dose)', data=df).fit()\n",
    "\n",
    "\n",
    "aov_table = sm.stats.anova_lm(model, typ=2)\n",
    "aov_table"
   ]
  },
  {
   "cell_type": "markdown",
   "id": "b4aef28d",
   "metadata": {},
   "source": [
    "<div class=\"alert alert-block alert-alert-info\">\n",
    "\n",
    "1. There is a statistically significant difference between the groups and their effects the libido with, F= 5.12, p-value= 0.0247.\n",
    "\n",
    "2. In order to tell which groups differed significantly, post-hoc tests need to be conducted. Before one goes through that work, the assumptions should be checked first in case any modifications need to be made to the model.\n",
    "\n",
    "\n",
    "</div>\n",
    "\n"
   ]
  },
  {
   "cell_type": "markdown",
   "id": "2cf83b8e",
   "metadata": {},
   "source": [
    "#### ANOVA assumptions"
   ]
  },
  {
   "cell_type": "markdown",
   "id": "e40006ef",
   "metadata": {},
   "source": [
    ">1. INDEPENDENCE\n",
    "This assumption is tested when the study is designed; all groups are mutually exclusive, i.e. an individual can only belong in one group. Also, this means that the data is not repeated measures (not collected through time). In this example, this condition is met.\n",
    "\n",
    "    "
   ]
  },
  {
   "cell_type": "markdown",
   "id": "1cd2f286",
   "metadata": {},
   "source": [
    "> 2. Normality:\n",
    "The assumption of normality is tested on the residuals of the model when coming from an ANOVA or regression framework. One method for testing the assumption of normality is the Shapiro-Wilk test: `shapiro()` method from scipy.stats with output: (W-test statistic, p-value)."
   ]
  },
  {
   "cell_type": "code",
   "execution_count": null,
   "id": "25bc8ee5",
   "metadata": {},
   "outputs": [],
   "source": [
    "model.resid"
   ]
  },
  {
   "cell_type": "code",
   "execution_count": null,
   "id": "40def426",
   "metadata": {},
   "outputs": [],
   "source": [
    "import scipy.stats as stats\n",
    "stats.shapiro(model.resid)"
   ]
  },
  {
   "cell_type": "markdown",
   "id": "af489c15",
   "metadata": {},
   "source": [
    "    The test is non-significant, W= 0.9167, p= 0.1715, which indicates that the residuals are normally distributed."
   ]
  },
  {
   "cell_type": "markdown",
   "id": "fae02ecd",
   "metadata": {},
   "source": [
    "> 3. HOMOGENEITY OF VARIANCE\n",
    "The final assumption is that all groups have equal variances; we use the Levene's test of homogeneity of variances `levene()` method from Scipy.stats."
   ]
  },
  {
   "cell_type": "code",
   "execution_count": null,
   "id": "050e0e1d",
   "metadata": {},
   "outputs": [],
   "source": [
    "stats.levene(high_dose,low_dose, placebo)"
   ]
  },
  {
   "cell_type": "markdown",
   "id": "8fd24908",
   "metadata": {},
   "source": [
    "    Levene's test of homogeneity of variances is not significant which indicates that the groups have non-statistically significant difference in their varability. Again, it may be worthwhile to check this assumption visually as well."
   ]
  },
  {
   "cell_type": "code",
   "execution_count": null,
   "id": "29dcb594",
   "metadata": {},
   "outputs": [],
   "source": [
    "import matplotlib.pyplot as plt\n",
    "fig = plt.figure(figsize= (3, 3))\n",
    "ax = fig.add_subplot(111)\n",
    "\n",
    "ax.set_title(\"Box Plot of Libido by Dosage\", fontsize= 10)\n",
    "ax.set\n",
    "\n",
    "data = [placebo,low_dose,high_dose ]\n",
    "ax.boxplot(data,\n",
    "           labels= ['Placebo', 'Low', 'High'],\n",
    "           showmeans= True)\n",
    "\n",
    "plt.xlabel(\"Drug Dosage\")\n",
    "plt.ylabel(\"Libido Score\")\n",
    "\n",
    "plt.show()"
   ]
  },
  {
   "cell_type": "markdown",
   "id": "130e4ef9",
   "metadata": {},
   "source": [
    "    Similar body size : Indicate similar variability or dispersion in the data, which can be related to a average variance; the graphical testing of homogeneity of variances supports the statistical testing findings which is the groups have equal variance.\n",
    "\n",
    "\n",
    "- There are different ways to handle heteroskedasticity (unequal variance) and a decision needs to be made. Some options include, use a parametric test such as the Welch's t-test:\\\n",
    "`t_stat, p_value = stats.ttest_ind(group1, group2, equal_var=False)`\n",
    "- The traditional t-test assumes equal variances (also known as homogeneity of variances) between the two groups being compared. However, when this assumption is violated or when the sample sizes or variances between the groups are unequal, using Welch's t-test becomes more appropriate."
   ]
  },
  {
   "cell_type": "markdown",
   "id": "a7c55932",
   "metadata": {},
   "source": [
    "Next thing to do is Post-Hoc Testing: \\\n",
    "[see this link](https://www.pythonfordatascience.org/anova-python/)\n",
    "- By conducting post-hoc tests or planned comparisons it allows one to see which group(s) significantly differ from each other; remember that the ANOVA is an omnibus test! Let's try:\n",
    "    - Tukey Honestly Significant Difference [HSD](https://docs.scipy.org/doc/scipy/reference/generated/scipy.stats.tukey_hsd.html) "
   ]
  },
  {
   "cell_type": "code",
   "execution_count": null,
   "id": "aa60232d",
   "metadata": {},
   "outputs": [],
   "source": [
    "import statsmodels.stats.multicomp as mc\n",
    "\n",
    "comp = mc.MultiComparison(df['libido'], df['dose'])\n",
    "post_hoc_res = comp.tukeyhsd()\n",
    "post_hoc_res.summary()"
   ]
  },
  {
   "cell_type": "markdown",
   "id": "6af0bbe9",
   "metadata": {},
   "source": [
    "- **FWER** is the familywise error rate, i.e. what \n",
    " is being set to and controlled at\n",
    "- **group1** and **group2** columns are the groups being compared\n",
    "- **meandiff** is the difference between the group means\n",
    "- **p-adj** is the corrected p-value which takes into account the multiple comparisons being conducted\n",
    "- **lower** is the lower band of the confidence interval. In the current example the confidence interval at the 95% level since \n",
    "= 0.05.\n",
    "- **upper** is the upper band of the confidence interval. In the current example the confidence interval at the 95% level since \n",
    "= 0.05.\n",
    "- **reject** is the decision rule based on the corrected p-value\n"
   ]
  },
  {
   "cell_type": "code",
   "execution_count": null,
   "id": "5102f3ad",
   "metadata": {},
   "outputs": [],
   "source": [
    "post_hoc_res.plot_simultaneous(ylabel= \"Drug Dose\", xlabel= \"Score Difference\", figsize=(4,3))\n",
    "plt.show()"
   ]
  },
  {
   "cell_type": "markdown",
   "id": "b01de76b",
   "metadata": {},
   "source": [
    "<div class=\"alert alert-block alert-alert-info\">\n",
    "<b>Post-Hoc Testing:</b>\n",
    "\n",
    "- Using Tukey HSD to test for differences between groups indicates that there is a statistically significant difference in libido score between those who took the placebo and those who took the high dosage of the medication, no other groups differed significantly. \n",
    "- What this indicates is that the high dosage of the medication is effective at increasing libido, but the low dosage is not.\n",
    "</div class>"
   ]
  },
  {
   "cell_type": "markdown",
   "id": "3bd20e53",
   "metadata": {},
   "source": [
    "<div class=\"alert alert-block alert-danger\">\n",
    "<b>Exercise:</b> Carry out Post-Hoc Testing for shell measurement data (example above). Report your findings based on the locations and the sizes.\n",
    "\n",
    "</div>"
   ]
  },
  {
   "cell_type": "code",
   "execution_count": null,
   "id": "b67780f1",
   "metadata": {},
   "outputs": [],
   "source": [
    "tillamook = [0.0571, 0.0813, 0.0831, 0.0976, 0.0817, 0.0859, 0.0735,\n",
    "             0.0659, 0.0923, 0.0836]\n",
    "newport = [0.0873, 0.0662, 0.0672, 0.0819, 0.0749, 0.0649, 0.0835,\n",
    "           0.0725]\n",
    "petersburg = [0.0974, 0.1352, 0.0817, 0.1016, 0.0968, 0.1064, 0.105]\n",
    "magadan = [0.1033, 0.0915, 0.0781, 0.0685, 0.0677, 0.0697, 0.0764,\n",
    "           0.0689]\n",
    "tvarminne = [0.0703, 0.1026, 0.0956, 0.0973, 0.1039, 0.1045]\n",
    "\n",
    "import pandas as pd \n",
    "# dictionary of lists \n",
    "dict = {'tillamook': tillamook, 'newport ': newport , 'petersburg': petersburg, 'magadan':magadan, 'tvarminne': tvarminne}  \n",
    "df = pd.DataFrame.from_dict(dict,orient='index') \n",
    "df = df.transpose()\n",
    "df"
   ]
  },
  {
   "cell_type": "markdown",
   "id": "63d8fb3a",
   "metadata": {},
   "source": [
    "---\n",
    "#  N-way ANOVA: (Multiple Factorial) ANOVA\n",
    "\n",
    "[source](https://www.pythonfordatascience.org/factorial-anova-python/)"
   ]
  },
  {
   "cell_type": "markdown",
   "id": "ed5cff07",
   "metadata": {},
   "source": [
    "\n",
    "- Since this is an N-way ANOVA there will be at least 2 variables - they don't both have to be categorical. \n",
    "- Some variables can be categorical and others continuous, if this is the case, the analysis is called an analysis of covariance (ANCOVA). \n",
    "- The approach with an ANCOVA is no different than an N-factor ANOVA, but nonetheless, ANCOVA has it's own demonstration.\n",
    "- Ideally one should be comfortable with conducting and interpreting an one-way ANOVA before conducting the N-way ANOVA. \n",
    "- When analyzing a model where there are more than two factors the analysis can get complex quickly; a 3-way ANOVA is not that much more complex, but anything over three is definitely complex. This will be seen shortly.\n",
    "\n",
    "Before one can start analyzing the factors themselves, the overall model needs to be significant at the pre-determined significance level (alpha level which is commonly set to 0.05). The statistic being evaluated is the F-statistic.\n",
    "\n",
    "\n",
    "Some examples of **N-way ANOVAs** include:\n",
    "\n",
    "- Testing the combined effects of vaccination (vaccinated or not vaccinated) and health status (healthy or pre-existing condition) *on the rate of flu infection in a population.*\n",
    "- Testing the effects of feed type (type A, B, or C) and barn crowding (not crowded, somewhat crowded, very crowded) *on the final weight of chickens in a commercial farming operation.*\n",
    "- Testing the effects of marital status (married, single, divorced, widowed), job status (employed, self-employed, unemployed, retired), and family history (no family history, some family history) *on the incidence of depression in a population.*\n",
    "\n",
    "\n",
    "> When conducting an ANOVA with multiple factors, all factors should be tested for an interaction before looking at their individual main effects. If the interaction between the variables are non-significant, then remove a variable from the interaction and conduct the analysis again. \n",
    "\n",
    "First a 2-factor ANOVA example will be discussed then the discussion will be expanded to discuss a 3-factor ANOVA which will exemplify how complex ANOVAs can get when using multiple factors."
   ]
  },
  {
   "cell_type": "markdown",
   "id": "fc0e9b4e",
   "metadata": {},
   "source": [
    "### Parametric test assumptions\n",
    "\n",
    "1. Independence\n",
    "2. Population distributions are normal: **Central Limit Theorem**\n",
    "3. Samples have equal variances\n",
    "\n",
    "### Hypothesis\n",
    "- H0: the means of the measurement variable are the same for the different categories of data.\n",
    "- H1: they are not all the same.\n",
    "\n",
    "One rejects the the null hypothesis,H0 if the computed F-static is greater than the critical F-statistic. The critical F-statistic is determined by the degrees of freedom and $\\alpha$ value.\\\n",
    "        Reject H0 if **calculated F-statistics > critical F-statistics** \n"
   ]
  },
  {
   "cell_type": "markdown",
   "id": "bce6c6be",
   "metadata": {},
   "source": [
    "- When conducting an ANOVA with multiple factors, all factors should be tested for an interaction before looking at their individual main effects. \n",
    "- If the interaction between the variables are non-significant, then remove a variable from the interaction and conduct the analysis again. \n",
    "- First a 2-way ANOVA example will be discussed then the discussion will be expanded to discuss a 3-way ANOVA which will exemplify how complex ANOVAs can get when using multiple factors.\n",
    "\n"
   ]
  },
  {
   "cell_type": "markdown",
   "id": "27d67749",
   "metadata": {},
   "source": [
    "## 2-Way Anova\n",
    "[ref](https://www.biostathandbook.com/twowayanova.html)\n"
   ]
  },
  {
   "cell_type": "markdown",
   "id": "703535aa",
   "metadata": {},
   "source": [
    ">Example: A researcher is testing if there is a difference in effect between drug types and disease types on systolic blood pressure. \n",
    "\n",
    "    dependent variable: systolic blood pressure\n",
    "    independent variables: drug type and disease \n",
    "    \n",
    "- The model will look like:\\\n",
    "`systolic ~ drug + disease + drug:disease`\n",
    "\n",
    "where `drug:disease` denotes the test for an **interaction** between the two:\n",
    "\n",
    "- If the interaction term is significant it indicates that the effect of the **type of drug on systolic blood pressure is dependent on the type of disease**. \n",
    "\n",
    "- To determine which combination of drug and disease type are significantly different than the others, one has to conduct planned comparisons or post-hoc tests.\n",
    "\n",
    "- If the interaction is non-significant, then it is removed from the model and the model is re-run. The reduced model will now be \\\n",
    "`systolic ~ drug + disease`\n",
    "\n",
    "where one is now testing for **the main effects of the independent variables themselves**."
   ]
  },
  {
   "cell_type": "markdown",
   "id": "911798d4",
   "metadata": {},
   "source": [
    "---"
   ]
  },
  {
   "cell_type": "markdown",
   "id": "de0dd1d8",
   "metadata": {},
   "source": [
    "<div class=\"alert alert-block alert-warning\">\n",
    "<b> Example of hypothetical crop yield based on three factors.\n",
    "\n",
    " First, we will only consider two factors as a demo before proceeding with the complete experiment.</b> \n",
    "</div>"
   ]
  },
  {
   "cell_type": "markdown",
   "id": "d8158e7a",
   "metadata": {},
   "source": [
    "Given a sample dataset from our imaginary **crop yield experiment** contains data about:\n",
    "\n",
    "- fertilizer type (Brand A, Brand B, Brand C)\n",
    "- planting density (1 = low density, 2 = high density)\n",
    "- planting location in the field (blocks 1, 2, 3, or 4)\n",
    "- final crop yield (in bushels per acre).\n",
    "\n",
    "    Dependent variable: crop yield\n",
    "    independent variables: density and fertilizer \n",
    "\n"
   ]
  },
  {
   "cell_type": "code",
   "execution_count": null,
   "id": "cb81ca5c",
   "metadata": {},
   "outputs": [],
   "source": [
    "import pandas as pd\n",
    "df = pd.read_csv(\"https://raw.githubusercontent.com/gob1thaasan/mss482/main/data/crop_yield.csv\")\n",
    "df.info()"
   ]
  },
  {
   "cell_type": "code",
   "execution_count": null,
   "id": "e022bb22",
   "metadata": {},
   "outputs": [],
   "source": [
    "df['fertilizer'].value_counts()"
   ]
  },
  {
   "cell_type": "code",
   "execution_count": null,
   "id": "041e86d9",
   "metadata": {},
   "outputs": [],
   "source": [
    "df['fertilizer'].describe()"
   ]
  },
  {
   "cell_type": "code",
   "execution_count": null,
   "id": "96574e04",
   "metadata": {},
   "outputs": [],
   "source": [
    "df['density'].value_counts()"
   ]
  },
  {
   "cell_type": "code",
   "execution_count": null,
   "id": "127d8c62",
   "metadata": {},
   "outputs": [],
   "source": [
    "df_simplified= df[['Yield', 'fertilizer', 'density']]\n",
    "df_simplified.sample(10)"
   ]
  },
  {
   "cell_type": "code",
   "execution_count": null,
   "id": "714aba7f",
   "metadata": {},
   "outputs": [],
   "source": [
    "df_simplified.describe()"
   ]
  },
  {
   "cell_type": "markdown",
   "id": "344a5dd0",
   "metadata": {},
   "source": [
    ">There are at least 3 approaches, commonly called Type I, II and III sums of squares. Which type to use has led to an ongoing controversy in the field of statistics (for an overview, see [Heer](https://www.jstor.org/stable/2684597)). However, it essentially comes down to testing different hypotheses about the data. Type I, II and III Sums of Squares.\n",
    "\n",
    "- [Type I error](https://md.psych.bio.uni-goettingen.de/mv/unit/lm_cat/lm_cat_unbal_ss_explained.html): This tests the main effect of first factor, followed by the main effect of second factor after the main effect of first factor, followed by the next factor in sequence. Note that this is often not the hypothesis that is of interest when dealing with unbalanced data. \n",
    "\n",
    "- [Type II error](https://md.psych.bio.uni-goettingen.de/mv/unit/lm_cat/lm_cat_unbal_ss_explained.html): If the interactions are not significant, type II gives a more powerful test. \n",
    "\n",
    "- [Type III Error](https://md.psych.bio.uni-goettingen.de/mv/unit/lm_cat/lm_cat_unbal_ss_explained.html): This type tests for the presence of a main effect after the other main effect and interaction. This approach is therefore valid in the presence of significant interactions. "
   ]
  },
  {
   "cell_type": "code",
   "execution_count": null,
   "id": "924d6769",
   "metadata": {},
   "outputs": [],
   "source": [
    "import statsmodels.api as sm\n",
    "from statsmodels.formula.api import ols\n",
    "\n",
    "# use a ‘ * ‘ to specify the interaction effect between the variables.\n",
    "# add ‘Sum ‘ to use type III error for interaction investigation.\n",
    "model = ols(\"Yield ~ C(fertilizer,Sum) + C(density,Sum) + C(fertilizer,Sum)*C(density,Sum)\", data=df_simplified).fit()\n",
    "print(model.aic, model.bic)\n",
    "\n",
    "aov_table = sm.stats.anova_lm(model, typ=3)\n",
    "aov_table"
   ]
  },
  {
   "cell_type": "code",
   "execution_count": null,
   "id": "7d1cd19a",
   "metadata": {},
   "outputs": [],
   "source": [
    "5.325001e-01"
   ]
  },
  {
   "cell_type": "markdown",
   "id": "adbb6be6",
   "metadata": {},
   "source": [
    "- The model summary first lists the independent variables being tested (`fertilizer` and `density`). Followed by the interaction ( `C(fertilizer):C(density)`)\n",
    "- Next is the `Residual` which is the variation in the dependent variable that isn’t explained by the independent variables.\n",
    "\n",
    "The following columns provide information needed to interpret the model:\n",
    "\n",
    "1. **df** shows the degrees of freedom for each variable (number of levels in the variable minus 1).\n",
    "2. **sum sq** is the sum of squares (indicates the variation between the group means created by the levels of the independent variable and the overall mean).\n",
    "3. **F** value is the test statistic from the F test (the mean square of the variable divided by the mean square of each parameter).\n",
    "4. **Pr(>F)** is the p value of the F statistic, and shows how likely it is that the F value calculated from the F test would have occurred if the null hypothesis of no difference was true."
   ]
  },
  {
   "cell_type": "markdown",
   "id": "47968dde",
   "metadata": {},
   "source": [
    ">The interaction term `C(fertilizer):C(density)` is not significant (p>0.05); it indicates that **the effect of the type of fertilizer on crop yield is NOT dependent on the type of density.**\n",
    "\n",
    "We will conduct post-hoc test to determine which combination of fertilizer and density type are significantly different than the others.\n"
   ]
  },
  {
   "cell_type": "code",
   "execution_count": null,
   "id": "be9de1b8",
   "metadata": {},
   "outputs": [],
   "source": [
    "import statsmodels.api as sm\n",
    "from statsmodels.formula.api import ols\n",
    "\n",
    "model = ols(\"Yield ~ C(fertilizer) + C(density) \", data=df_simplified).fit()\n",
    "print(model.aic, model.bic)\n",
    "\n",
    "aov_table = sm.stats.anova_lm(model, typ=2)\n",
    "aov_table"
   ]
  },
  {
   "cell_type": "markdown",
   "id": "d1ac765a",
   "metadata": {},
   "source": [
    "> From this output we can see that both fertilizer type and planting density explain a significant amount of variation in average crop yield (p values < 0.05).\n",
    "\n",
    "- The AIC model with the best fit is with lower value. This comparison reveals that the two-way ANOVA without any interaction between fertilizer and density is significantly better."
   ]
  },
  {
   "cell_type": "markdown",
   "id": "2937dc99",
   "metadata": {},
   "source": [
    "Next, we carry out post-hoc Tukey HSD test, to check the combinations of levels between these two variables"
   ]
  },
  {
   "cell_type": "code",
   "execution_count": null,
   "id": "0f6504a5",
   "metadata": {},
   "outputs": [],
   "source": [
    "import statsmodels.stats.multicomp as mc\n",
    "\n",
    "interaction_groups = df_simplified.fertilizer.astype(str) + \" & \" + \"density_\" + df_simplified.density.astype(str)\n",
    "\n",
    "comp = mc.MultiComparison(df_simplified['Yield'], interaction_groups)\n",
    "post_hoc_res = comp.tukeyhsd()\n",
    "post_hoc_res.summary()"
   ]
  },
  {
   "cell_type": "code",
   "execution_count": null,
   "id": "82a84f4b",
   "metadata": {},
   "outputs": [],
   "source": [
    "import matplotlib.pyplot as plt\n",
    "\n",
    "post_hoc_res.plot_simultaneous(ylabel= \"interactions\", xlabel= \"crop yield\", figsize=(4,3))\n",
    "plt.show()"
   ]
  },
  {
   "cell_type": "markdown",
   "id": "216f02a8",
   "metadata": {},
   "source": [
    "### Three factors: Three-way ANOVA"
   ]
  },
  {
   "cell_type": "markdown",
   "id": "8d001f43",
   "metadata": {},
   "source": [
    "<div class=\"alert alert-block alert-warning\">\n",
    "<b> Let's investigate all three factors.</b> \n",
    "</div>\n",
    "\n",
    "In this example a farmer wants to test the effects of different combinations of fertilizer, the density, and the location of planting into block. The farmer decided to bin the planting position of block into categories into {1,2,3,4}. Thus, this study looks like the following:\n",
    "\n",
    "- fertilizer type (Brand A, Brand B, Brand C)\n",
    "- planting density (1 = low density, 2 = high density)\n",
    "- planting location in the field (blocks 1, 2, 3, or 4)\n",
    "- final crop yield (in bushels per acre).\n",
    "\n",
    "        Dependent variable: crop yield\n",
    "        independent variables: fertilizer, density and block\n",
    "\n",
    "The analysis design will look at the interaction of the 3 factors as follows:\n",
    "\n",
    "1. `crop_yield ~ fertilizer + density + block + fertilizer:density:block` (identify insignificant terms, remove them and re-run)\n",
    "2. `crop_yield ~ fertilizer + density + block + fertilizer:density + fertilizer:block + density:block` (possible combinations) \n",
    "\n",
    "From here, if all the interaction terms are statistically significant then one checks the assumptions and proceeds from there. However, if any of the interaction terms are non-significant then they need to be removed and the model needs to be re-run.\n",
    "\n",
    "This process is completed until all non-significant interaction terms are removed. In the final model, if a factor is not in an interaction term then one can interprete the main effects of that factor, whereas if a factor is in an interaction term then that factor needs to be interpreted as such. A final crop yield table will be shown next, and the interpretation will follow."
   ]
  },
  {
   "cell_type": "markdown",
   "id": "60436a85",
   "metadata": {},
   "source": [
    "1. `crop_yield ~ fertilizer + density + block + fertilizer:density:block`"
   ]
  },
  {
   "cell_type": "code",
   "execution_count": null,
   "id": "5c1ba0e8",
   "metadata": {},
   "outputs": [],
   "source": [
    "import statsmodels.api as sm\n",
    "from statsmodels.formula.api import ols\n",
    "\n",
    "# use a ‘ * ‘ to specify the interaction effect between the variables.\n",
    "model = ols(\"Yield ~ C(fertilizer,Sum) + C(density,Sum) + C(block,Sum) + C(fertilizer,Sum) * C(density,Sum) * C(block,Sum)\", data=df).fit()\n",
    "\n",
    "print(model.aic, model.bic)\n",
    "aov_table = sm.stats.anova_lm(model, typ=3)\n",
    "aov_table"
   ]
  },
  {
   "cell_type": "code",
   "execution_count": null,
   "id": "2d7a099e",
   "metadata": {},
   "outputs": [],
   "source": [
    "4.007837e-03 < 5.0e-02"
   ]
  },
  {
   "cell_type": "markdown",
   "id": "4e0be351",
   "metadata": {},
   "source": [
    "> The values of interaction term for F-statistic is significant it means the overall model explains a statistically significant amount of variance which then permits one to look at the interaction term: 4.007837e-03 < 5.0e-02"
   ]
  },
  {
   "cell_type": "code",
   "execution_count": null,
   "id": "c116e8df",
   "metadata": {},
   "outputs": [],
   "source": [
    "import statsmodels.api as sm\n",
    "from statsmodels.formula.api import ols\n",
    "\n",
    "# use a ‘ * ‘ to specify the interaction effect between the variables.\n",
    "model = ols(\"Yield ~ C(fertilizer,Sum) + C(density,Sum) + C(block,Sum) + C(density,Sum) * C(block,Sum)\", data=df).fit()\n",
    "\n",
    "print(model.aic, model.bic)\n",
    "aov_table = sm.stats.anova_lm(model, typ=3)\n",
    "aov_table"
   ]
  },
  {
   "cell_type": "markdown",
   "id": "16fa8098",
   "metadata": {},
   "source": [
    "> In the Final Crop Yield ANOVA Table the only remaining significant interaction is between density and block. This would indicate the effect of density and block on the crop yield is synergistic and that different combinations of the levels produce different crop yields. Whereas the effect of fertilizer on crop yield is statistically significant but is not synergistic with the other factors."
   ]
  },
  {
   "cell_type": "markdown",
   "id": "0d8b9495",
   "metadata": {},
   "source": [
    "> doublecheck with the main factors, without interaction terms."
   ]
  },
  {
   "cell_type": "code",
   "execution_count": null,
   "id": "53fa88ba",
   "metadata": {},
   "outputs": [],
   "source": [
    "import statsmodels.api as sm\n",
    "from statsmodels.formula.api import ols\n",
    "\n",
    "# use a ‘ * ‘ to specify the interaction effect between the variables.\n",
    "model_verify = ols(\"Yield ~ C(fertilizer) + C(density) + C(block)\", data=df).fit()\n",
    "\n",
    "print(model_verify.aic, model_verify.bic)\n",
    "aov_table = sm.stats.anova_lm(model_verify, typ=2)\n",
    "aov_table"
   ]
  },
  {
   "cell_type": "code",
   "execution_count": null,
   "id": "0ac6f2b2",
   "metadata": {},
   "outputs": [],
   "source": [
    "import statsmodels.stats.multicomp as mc\n",
    "\n",
    "interaction_groups = df.fertilizer.astype(str) + \" + \" + \"den_\" + df.density.astype(str)+ \" & \" + \"block_\" + df.block.astype(str)\n",
    "\n",
    "comp = mc.MultiComparison(df_simplified['Yield'], interaction_groups)\n",
    "post_hoc_res = comp.tukeyhsd()\n",
    "post_hoc_res.summary()"
   ]
  },
  {
   "cell_type": "code",
   "execution_count": null,
   "id": "4faf2233",
   "metadata": {},
   "outputs": [],
   "source": [
    "import matplotlib.pyplot as plt\n",
    "\n",
    "post_hoc_res.plot_simultaneous(ylabel= \"interactions\", xlabel= \"crop yield\", figsize=(4,3))\n",
    "plt.show()"
   ]
  },
  {
   "cell_type": "markdown",
   "id": "561e7a25",
   "metadata": {},
   "source": [
    ">This comparison reveals that the three-way ANOVA with fertilizer Brand C give highest crop yield and the lowest using fertilizer Brand A. \n",
    ">There are interaction between density planting and plan location, where high density planting (level 2) at block 2 gives the best crop yield and the lowest crop yield is when low density planting at block 1 is carried out."
   ]
  },
  {
   "cell_type": "markdown",
   "id": "6623c034",
   "metadata": {},
   "source": [
    "---"
   ]
  },
  {
   "cell_type": "markdown",
   "id": "ed0825c2",
   "metadata": {},
   "source": [
    "<div class=\"alert alert-block alert-warning\">\n",
    "<b> Exercise. A study was designed to determine the optimal operating conditions to maximize yield. The study assessed temperature settings, chemical supply companies, and two mixing methods. Use `manuf` dataset and cary out 3-Way ANOVA to identify </b> \n",
    "\n",
    "- You may refer to this [link](https://www.pythonfordatascience.org/factorial-anova-python/#test_with_python) for details.\n",
    "- statsmodels provides data sets (i.e. data and meta-data) for use in examples, tutorials, model testing, etc.Many more datasets available in here: https://www.statsmodels.org/devel/datasets/index.html \n",
    "</div>\n"
   ]
  },
  {
   "cell_type": "code",
   "execution_count": null,
   "id": "fff3320b",
   "metadata": {},
   "outputs": [],
   "source": [
    "import statsmodels.api as sm\n",
    "manufac = sm.datasets.webuse('manuf')\n",
    "manufac.info()"
   ]
  },
  {
   "cell_type": "code",
   "execution_count": null,
   "id": "286ceae4",
   "metadata": {},
   "outputs": [],
   "source": [
    "manufac.sample(10)"
   ]
  },
  {
   "cell_type": "markdown",
   "id": "ff785d2a",
   "metadata": {},
   "source": [
    "> Identify each levels first before proceeding to ANOVA"
   ]
  },
  {
   "cell_type": "code",
   "execution_count": null,
   "id": "7371eb4f",
   "metadata": {},
   "outputs": [],
   "source": [
    "manufac['temperature'].value_counts()"
   ]
  },
  {
   "cell_type": "code",
   "execution_count": null,
   "id": "d8d99368",
   "metadata": {},
   "outputs": [],
   "source": [
    "manufac['chemical'].value_counts()"
   ]
  },
  {
   "cell_type": "code",
   "execution_count": null,
   "id": "f4bf428a",
   "metadata": {},
   "outputs": [],
   "source": [
    "manufac['method'].value_counts()"
   ]
  },
  {
   "cell_type": "code",
   "execution_count": null,
   "id": "d6078e72",
   "metadata": {},
   "outputs": [],
   "source": []
  },
  {
   "cell_type": "markdown",
   "id": "03dfe7a2",
   "metadata": {},
   "source": [
    "---"
   ]
  },
  {
   "cell_type": "markdown",
   "id": "4c2551a2",
   "metadata": {},
   "source": [
    "Browse link below fro more dataset which can be retrieved from `statsmodels:`\n",
    "- https://www.statsmodels.org/devel/datasets/\n",
    "- https://vincentarelbundock.github.io/Rdatasets/articles/data.html"
   ]
  },
  {
   "cell_type": "code",
   "execution_count": null,
   "id": "0a66b966",
   "metadata": {},
   "outputs": [],
   "source": [
    "import statsmodels.api as sm\n",
    "\n",
    "duncan_prestige = sm.datasets.get_rdataset(\"Duncan\", \"carData\")\n",
    "print(duncan_prestige.__doc__)"
   ]
  },
  {
   "cell_type": "code",
   "execution_count": null,
   "id": "4c9f3ce2",
   "metadata": {},
   "outputs": [],
   "source": [
    "duncan_prestige.data.sample(5)"
   ]
  },
  {
   "cell_type": "code",
   "execution_count": null,
   "id": "951d2f29",
   "metadata": {},
   "outputs": [],
   "source": []
  }
 ],
 "metadata": {
  "kernelspec": {
   "display_name": "Python 3 (ipykernel)",
   "language": "python",
   "name": "python3"
  },
  "language_info": {
   "codemirror_mode": {
    "name": "ipython",
    "version": 3
   },
   "file_extension": ".py",
   "mimetype": "text/x-python",
   "name": "python",
   "nbconvert_exporter": "python",
   "pygments_lexer": "ipython3",
   "version": "3.11.6"
  }
 },
 "nbformat": 4,
 "nbformat_minor": 5
}
