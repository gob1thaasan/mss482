{
 "cells": [
  {
   "cell_type": "markdown",
   "id": "6027a45f-d731-4ff1-8527-b4db811bb2f9",
   "metadata": {
    "id": "fRuRcAt3F_wS"
   },
   "source": [
    "\n",
    "# MSS482 - GRAPHING TECHNOLOGY IN MATHEMATICS AND SCIENCE\n",
    "\n",
    "**SEMESTER 1 2023/2024**\n",
    "\n",
    "\n",
    ">R.U.Gobithaasan (2023). School of Mathematical Sciences, Universiti Sains Malaysia.\n",
    "[Official Website](https://math.usm.my/academic-profile/705-gobithaasan-rudrusamy) \n",
    "\n",
    "\n",
    "<p align=\"center\">\n",
    "     © 2023 R.U. Gobithaasan All Rights Reserved.\n",
    "</p>"
   ]
  },
  {
   "cell_type": "markdown",
   "id": "ac9069ae-3da6-41b9-88f1-cb26da15581c",
   "metadata": {},
   "source": [
    "# Hands-on: Introduction to Python"
   ]
  },
  {
   "cell_type": "markdown",
   "id": "db82e975-28ad-49ac-9960-82538ce11fd0",
   "metadata": {},
   "source": [
    "1.1 Python Prelimineries <br>\n",
    "    a) Python installation  <br>\n",
    "    b) Using Jupyter lab <br>\n",
    "    c) Markdown Cells <br>\n",
    "    d) Python Ecosystem & Libraries <br>\n",
    "    \n",
    "1.2. Python Data Types \\& Containers <br>\n",
    "    a) Data Types <br>\n",
    "    b) Control flow statement <br>\n",
    "    c) User-Defined Functions <br>\n",
    "\n",
    "1.3. Sample of Dataset <br>\n",
    "    a) Numpy <br>\n",
    "    b) Pandas <br>\n"
   ]
  },
  {
   "cell_type": "markdown",
   "id": "31aad3b9-a5ff-430c-bda0-922d8e3de635",
   "metadata": {
    "tags": []
   },
   "source": [
    "## Python Prelimineries\n",
    "\n",
    "**References:** \n",
    "- [w3schools Online Materials](https://www.w3schools.com/python/)\n",
    "-  [SciPi Lecture Notes](http://scipy-lectures.org/)\n",
    "- Robert Johansson, Numerical Python: Scientific Computing and Data Science Applications with Numpy, SciPy and Matplotlib (2019, Apress).\n",
    "- Donaldson Toby,Python: Visual QuickStart Guide (2008, Peachpit Press).\n",
    "- Tony Gaddis-Starting Out with Python,(2018,Global Edition-Pearson Education)\n",
    "- Robert Johansson August, Introduction to Scientific Computing in Python Continuum Analytics, (2015)"
   ]
  },
  {
   "cell_type": "markdown",
   "id": "e701b51c-b8c3-4335-b827-8bdf543ed41d",
   "metadata": {
    "id": "GoEpgiMoFnBT",
    "tags": []
   },
   "source": [
    "### Some shortcuts for formatting notebook"
   ]
  },
  {
   "cell_type": "markdown",
   "id": "70252261-ca4b-4c94-9ad0-1e6d3bae5502",
   "metadata": {
    "id": "jRjDVMJbFnBQ"
   },
   "source": [
    "# Command line reference\n",
    "Click on this link to see all the commands available: \n",
    "- [Windows commands](https://docs.microsoft.com/en-us/windows-server/administration/windows-commands/windows-commands)\n",
    "- [Mac](https://developer.apple.com/library/archive/documentation/OpenSource/Conceptual/ShellScripting/CommandLInePrimer/CommandLine.html)\n",
    "\n",
    "- you can run the command lines in python cell by adding ! in front of the command"
   ]
  },
  {
   "cell_type": "markdown",
   "id": "5ec3a097-bb38-4803-ac1c-2e8ca9f0cea7",
   "metadata": {
    "id": "DeabwSXIFnBR",
    "tags": []
   },
   "source": [
    "# Using Jupyter Notebook\n",
    "\n",
    "Depending the way you install Python and its location, you may run the following comannd in command prompt to run jupyter notebook or jupyterlab:\n",
    "\n",
    "\n",
    "- to run jupyterlab:\n",
    "> - `py -m jupyterlab`\n",
    "> - `jupyter-lab`\n",
    "\n",
    "- to run notebook, use any of this command:\n",
    "> - `py -m notebook`\n",
    "> - `python -m notebook`\n",
    "> - `jupyter notebook`\n",
    "\n",
    "\n",
    "\n",
    "Reference: [StackOverFlow](https://stackoverflow.com/questions/41034866/running-jupyter-via-command-line-on-windows)"
   ]
  },
  {
   "cell_type": "code",
   "execution_count": 1,
   "id": "28fa4d5a-28d2-45b8-9888-063b1fd26483",
   "metadata": {
    "id": "ti_lZu30FnBR",
    "outputId": "9d9e4669-4f83-4734-867c-9fc59ea96c4d",
    "tags": []
   },
   "outputs": [
    {
     "name": "stdout",
     "output_type": "stream",
     "text": [
      "/Applications/miniconda3/envs/TFlow/bin/python\n"
     ]
    }
   ],
   "source": [
    "!which python #for Mac/Linux"
   ]
  },
  {
   "cell_type": "markdown",
   "id": "dd07d305-c81d-4249-af9d-6bfbb9dec1cf",
   "metadata": {
    "id": "FtPh8-LFFnBT"
   },
   "source": [
    " - b: Create a new cell below the currently selected cell. \n",
    "- a: Create a new cell above the currently selected cell. \n",
    "- d-d Delete the currently selected cell.\n",
    "- 1 to 6: Heading cell of level 1 to 6.\n",
    "- x: Cut currently selected cell.\n",
    "- c: Copy currently selected cell. \n",
    "- v: Paste cell from the clipboard. \n",
    "- m: Convert a cell to a markdown cell. \n",
    "- y: Convert a cell to a code cell. \n",
    "- Up: Select previous cell.\n",
    "- Down: Select next cell.\n",
    "- Enter: Enter edit mode.\n",
    "- Escape: Exit edit mode.\n",
    "- Shift-Enter: Run the cell.\n",
    "- h: Display a help window with a list of all available keyboard shortcuts.\n",
    "- 0-0: Restart the kernel. \n",
    "- i-i: Interrupt an executing cell. \n",
    "- s: Save the notebook."
   ]
  },
  {
   "cell_type": "markdown",
   "id": "ce56ef0b-826a-4d35-8897-4039f3e372f9",
   "metadata": {},
   "source": [
    "### Markdown Cells"
   ]
  },
  {
   "cell_type": "markdown",
   "id": "a899521d-c067-44ab-8307-b0a304a00748",
   "metadata": {
    "id": "DmmcFgtmFnBU"
   },
   "source": [
    "Fonts:\n",
    "\n",
    "- italics: *text*\n",
    "- bold: **text**\n",
    "- stike-through: ~~text~~\n",
    "- fixed-width: `text`\n",
    "- url: [URL text](https://www.google.com.my/maps/)\n",
    "- Vertatim( with tab):\n",
    "\n",
    "        def func(x):\n",
    "            return x ** 2\n",
    "            \n",
    "- New paragraph: with an empty line."
   ]
  },
  {
   "cell_type": "markdown",
   "id": "afcb669f-7dfe-4f8e-b820-e1fbb88ecafd",
   "metadata": {
    "id": "hm4syVelFnBV"
   },
   "source": [
    "- Types of headers:\n",
    "\n",
    "# Level 1 heading \n",
    "## Level 2 heading \n",
    "### Level 3 heading"
   ]
  },
  {
   "cell_type": "markdown",
   "id": "6480ac13-5cb5-464b-ab91-30208715019e",
   "metadata": {
    "id": "hV2qFSacFnBV"
   },
   "source": [
    "- Block quote:\n",
    "> Text here is indented and offset\n",
    "> from the main text body."
   ]
  },
  {
   "cell_type": "markdown",
   "id": "ef444aea-72c5-43ed-9582-9bf9aedff6d8",
   "metadata": {
    "id": "2FnNCU0eFnBV"
   },
   "source": [
    "- Unordered list (use - or * ):\n",
    "* Item one\n",
    "* Item two\n",
    "* Item three"
   ]
  },
  {
   "cell_type": "markdown",
   "id": "6fe289a6-b295-4bb1-89f9-5b3b911a4223",
   "metadata": {
    "id": "YIvmYd43FnBW"
   },
   "source": [
    "- Ordered list:\n",
    "1. Item one\n",
    "2. Item two\n",
    "3. Item three"
   ]
  },
  {
   "cell_type": "markdown",
   "id": "13a5c4a7-45ff-43f3-a712-21262fc95c4b",
   "metadata": {
    "id": "kBKU8HWOFnBW",
    "tags": []
   },
   "source": [
    "Table:\n",
    "\n",
    "| A | B | C | \n",
    "|---|---|---| \n",
    "|1|2|3 | \n",
    "|4|5|6 |"
   ]
  },
  {
   "cell_type": "markdown",
   "id": "fb4f2dfb-20e8-4290-bba9-09a795d95555",
   "metadata": {
    "id": "RsmlqQjbFnBX",
    "tags": []
   },
   "source": [
    "### Inline LateX equation:\n",
    "\n",
    "$f2(x,y,z) = x^2 + y^3 + \\sqrt{z}$\n"
   ]
  },
  {
   "cell_type": "markdown",
   "id": "9dd056ed-4f45-47d8-b7d1-6f0478068feb",
   "metadata": {
    "id": "jtMpQJYRFnBX"
   },
   "source": [
    "- colored boxes"
   ]
  },
  {
   "cell_type": "markdown",
   "id": "4c50d1ce-1748-4420-b02a-f04d8722e811",
   "metadata": {
    "id": "wV9v36L-FnBX",
    "tags": []
   },
   "source": [
    "<div class=\"alert alert-block alert-info\">\n",
    "<b>Tip:</b> Use blue boxes (alert-info) for tips and notes. \n",
    "If it’s a note, you don’t have to include the word “Note”.\n",
    "</div>"
   ]
  },
  {
   "cell_type": "markdown",
   "id": "0a8dd2a8-6d9c-4425-bb8d-14d6ceb24033",
   "metadata": {
    "id": "FQ9qX_7zFnBX",
    "tags": []
   },
   "source": [
    "<div class=\"alert alert-block alert-warning\">\n",
    "<b>Example:</b> Use yellow boxes for examples that are not \n",
    "inside code cells, or use for mathematical formulas if needed.\n",
    "</div>"
   ]
  },
  {
   "cell_type": "markdown",
   "id": "2bde9921-72aa-43a1-a35b-4008b6cec6ff",
   "metadata": {
    "id": "vOu-IIyUFnBX"
   },
   "source": [
    "<div class=\"alert alert-block alert-success\">\n",
    "<b>Up to you:</b> Use green boxes sparingly, and only for some specific \n",
    "purpose that the other boxes can't cover. For example, if you have a lot \n",
    "of related content to link to, maybe you decide to use green boxes for \n",
    "related links from each section of a notebook.\n",
    "</div>"
   ]
  },
  {
   "cell_type": "markdown",
   "id": "936a20cc-4c05-435a-bdf0-0de92b29f0dc",
   "metadata": {
    "id": "RaGahKAwFnBY"
   },
   "source": [
    "<div class=\"alert alert-block alert-danger\">\n",
    "<b>Just don't:</b> In general, avoid the red boxes. These should only be\n",
    "used for actions that might cause data loss or another major issue.\n",
    "</div>"
   ]
  },
  {
   "cell_type": "markdown",
   "id": "0aff2be3-5924-4b2b-ad7e-bf349d52dd43",
   "metadata": {
    "id": "BkcNmqXUFnBY"
   },
   "source": [
    "- simple [geometric shapes](https://www.w3schools.com/charsets/ref_utf_geometric.asp)"
   ]
  },
  {
   "cell_type": "markdown",
   "id": "4d109115-ed7a-4a67-ac20-a3fa45468f58",
   "metadata": {
    "id": "gWWODToOFnBY"
   },
   "source": [
    "<p>I will display a :</p>\n",
    "\n",
    "1. triangle: &#9658;\n",
    "2. black box &#9726;\n",
    "3. white box &#9634;"
   ]
  },
  {
   "cell_type": "markdown",
   "id": "68b00768-f37b-42eb-87d2-3159b5f3f62d",
   "metadata": {
    "id": "7mdVAh_hFnBY",
    "tags": []
   },
   "source": [
    "## Python Ecosystem & Libraries"
   ]
  },
  {
   "cell_type": "markdown",
   "id": "1866fda9-3e7b-4672-9fa8-dce3d4b022b7",
   "metadata": {
    "id": "8v-UGEdPFnBY",
    "tags": []
   },
   "source": [
    "What is a Python module/package/library?\n",
    "\n",
    "its also known as a package or library with written python functions available so that we directly use them.\n",
    "\n",
    "The Python Package Index (PyPI) is a repository of software for the Python programming language. Many packages can directly be loaded in your machine.\n",
    "\n",
    "\n",
    "run command: \n",
    "> python -m pip install *module*\n",
    "\n",
    "where *module* is the name of the module you want to install. For example to install a module called **pandas**:\n",
    "> python -m pip install pandas\n",
    "\n",
    "Core numeric libraries\n",
    "- **Numpy**: numerical computing with powerful numerical arrays objects, and routines to manip-\n",
    "ulate them. [Numpy](http://www.numpy.org/) \n",
    "\n",
    "- **Scipy**: high-level numerical routines. Optimization, regression, interpolation, etc. [Scipy](http://www.scipy.org/)\n",
    "\n",
    "- **Matplotlib**: 2-D visualization, “publication-ready” plots [Matplotlib](http://matplotlib.org/)\n",
    "\n",
    "source: [SciPi Lecture Notes](http://scipy-lectures.org/)"
   ]
  },
  {
   "cell_type": "markdown",
   "metadata": {},
   "source": [
    "### PyPI · The Python Package Index ##\n",
    "\n",
    "What is a Python module/package/library?\n",
    "-  its also known as a package or library with written python functions available so that we directly use them. \n",
    "\n",
    "-  [The Python Package Index (PyPI)](https://pypi.org/) is a repository of software for the Python programming language. Many packages can directly be loaded in your machine.\n",
    "\n"
   ]
  },
  {
   "cell_type": "code",
   "execution_count": 2,
   "metadata": {},
   "outputs": [
    {
     "name": "stdout",
     "output_type": "stream",
     "text": [
      "Name: pip\n",
      "Version: 23.3.1\n",
      "Summary: The PyPA recommended tool for installing Python packages.\n",
      "Home-page: https://pip.pypa.io/\n",
      "Author: The pip developers\n",
      "Author-email: distutils-sig@python.org\n",
      "License: MIT\n",
      "Location: /Applications/miniconda3/envs/TFlow/lib/python3.10/site-packages\n",
      "Requires: \n",
      "Required-by: \n",
      "Note: you may need to restart the kernel to use updated packages.\n"
     ]
    }
   ],
   "source": [
    "pip show pip"
   ]
  },
  {
   "cell_type": "code",
   "execution_count": 3,
   "metadata": {},
   "outputs": [
    {
     "name": "stdout",
     "output_type": "stream",
     "text": [
      "Requirement already satisfied: pip in /Applications/miniconda3/envs/TFlow/lib/python3.10/site-packages (23.3.1)\n"
     ]
    }
   ],
   "source": [
    "!python -m pip install --upgrade pip"
   ]
  },
  {
   "cell_type": "markdown",
   "id": "9e00e27b-002c-4d71-b7ff-11e7d527945e",
   "metadata": {
    "tags": []
   },
   "source": [
    "#### Installed packages"
   ]
  },
  {
   "cell_type": "code",
   "execution_count": 4,
   "metadata": {},
   "outputs": [
    {
     "name": "stdout",
     "output_type": "stream",
     "text": [
      "Package                      Version\n",
      "---------------------------- ------------\n",
      "absl-py                      2.0.0\n",
      "alphashape                   1.3.1\n",
      "appnope                      0.1.3\n",
      "asttokens                    2.4.1\n",
      "astunparse                   1.6.3\n",
      "attrs                        23.1.0\n",
      "Bottleneck                   1.3.5\n",
      "cachetools                   5.3.2\n",
      "certifi                      2023.11.17\n",
      "charset-normalizer           3.3.2\n",
      "click                        8.1.7\n",
      "click-log                    0.4.0\n",
      "click-plugins                1.1.1\n",
      "cligj                        0.7.2\n",
      "cloudpickle                  2.2.1\n",
      "comm                         0.1.4\n",
      "contourpy                    1.2.0\n",
      "cycler                       0.11.0\n",
      "Cython                       3.0.6\n",
      "cytoolz                      0.12.2\n",
      "dask                         2023.11.0\n",
      "debugpy                      1.6.7\n",
      "decorator                    5.1.1\n",
      "Deprecated                   1.2.14\n",
      "descartes                    1.1.0\n",
      "exceptiongroup               1.2.0\n",
      "executing                    2.0.1\n",
      "Fiona                        1.9.1\n",
      "flatbuffers                  23.5.26\n",
      "fonttools                    4.25.0\n",
      "fsspec                       2023.10.0\n",
      "gast                         0.5.4\n",
      "GDAL                         3.6.2\n",
      "geopandas                    0.9.0\n",
      "google-auth                  2.24.0\n",
      "google-auth-oauthlib         1.1.0\n",
      "google-pasta                 0.2.0\n",
      "gudhi                        3.8.0\n",
      "hopcroftkarp                 1.2.5\n",
      "idna                         3.6\n",
      "imagecodecs                  2023.1.23\n",
      "imageio                      2.31.4\n",
      "importlib-metadata           7.0.0\n",
      "ipykernel                    6.26.0\n",
      "ipython                      8.18.1\n",
      "jedi                         0.19.1\n",
      "joblib                       1.2.0\n",
      "jupyter_client               8.6.0\n",
      "jupyter_core                 5.5.0\n",
      "keras                        2.15.0\n",
      "kiwisolver                   1.4.4\n",
      "lazy_loader                  0.3\n",
      "libclang                     16.0.6\n",
      "locket                       1.0.0\n",
      "mapclassify                  2.5.0\n",
      "Markdown                     3.5.1\n",
      "MarkupSafe                   2.1.3\n",
      "matplotlib                   3.8.0\n",
      "matplotlib-inline            0.1.6\n",
      "ml-dtypes                    0.2.0\n",
      "munch                        2.5.0\n",
      "munkres                      1.1.4\n",
      "nest-asyncio                 1.5.8\n",
      "networkx                     3.1\n",
      "numexpr                      2.8.7\n",
      "numpy                        1.26.2\n",
      "oauthlib                     3.2.2\n",
      "opt-einsum                   3.3.0\n",
      "packaging                    23.2\n",
      "pandas                       2.1.1\n",
      "parso                        0.8.3\n",
      "partd                        1.4.1\n",
      "persim                       0.3.2\n",
      "pexpect                      4.8.0\n",
      "pickleshare                  0.7.5\n",
      "Pillow                       10.0.1\n",
      "pip                          23.3.1\n",
      "platformdirs                 4.0.0\n",
      "prompt-toolkit               3.0.41\n",
      "protobuf                     4.23.4\n",
      "psutil                       5.9.0\n",
      "ptyprocess                   0.7.0\n",
      "pure-eval                    0.2.2\n",
      "pyasn1                       0.5.1\n",
      "pyasn1-modules               0.3.0\n",
      "Pygments                     2.17.2\n",
      "pyparsing                    3.0.9\n",
      "pyproj                       3.1.0\n",
      "python-dateutil              2.8.2\n",
      "pytz                         2023.3.post1\n",
      "PyWavelets                   1.4.1\n",
      "PyYAML                       6.0.1\n",
      "pyzmq                        25.1.0\n",
      "requests                     2.31.0\n",
      "requests-oauthlib            1.3.1\n",
      "ripser                       0.6.4\n",
      "rsa                          4.9\n",
      "Rtree                        1.0.1\n",
      "scikit-image                 0.20.0\n",
      "scikit-learn                 1.3.0\n",
      "scipy                        1.11.4\n",
      "setuptools                   68.0.0\n",
      "shapely                      2.0.1\n",
      "six                          1.16.0\n",
      "stack-data                   0.6.2\n",
      "tensorboard                  2.15.1\n",
      "tensorboard-data-server      0.7.2\n",
      "tensorflow                   2.15.0\n",
      "tensorflow-estimator         2.15.0\n",
      "tensorflow-io-gcs-filesystem 0.34.0\n",
      "tensorflow-macos             2.15.0\n",
      "tensorflow-metal             1.1.0\n",
      "termcolor                    2.4.0\n",
      "threadpoolctl                2.2.0\n",
      "tifffile                     2023.4.12\n",
      "toolz                        0.12.0\n",
      "tornado                      6.3.3\n",
      "traitlets                    5.14.0\n",
      "trimesh                      4.0.5\n",
      "typing_extensions            4.8.0\n",
      "tzdata                       2023.3\n",
      "urllib3                      2.1.0\n",
      "wcwidth                      0.2.12\n",
      "Werkzeug                     3.0.1\n",
      "wheel                        0.41.2\n",
      "wrapt                        1.14.1\n",
      "zipp                         3.17.0\n"
     ]
    }
   ],
   "source": [
    "!pip list"
   ]
  },
  {
   "cell_type": "markdown",
   "id": "7bcb47d0-23f5-4c0c-8d02-c7427b222e38",
   "metadata": {
    "id": "TnNVPU18FnBY",
    "outputId": "d4be7add-d59b-42fa-cf0b-d1d1e7218a89",
    "tags": []
   },
   "source": [
    "---\n",
    "!python -m pip install *module*   #For Windows\n",
    "\n",
    "#!pip freeze | (grep 'matplotlib\\|numpy\\|jupyter\\|scipy') # For MAC and linux\n",
    "\n",
    "---"
   ]
  },
  {
   "cell_type": "markdown",
   "id": "daab8bde-b1af-49b1-8874-31f02a3f68dd",
   "metadata": {
    "id": "wCh3HM2jFnBZ"
   },
   "source": [
    "### Let's install Some Libraries"
   ]
  },
  {
   "cell_type": "markdown",
   "metadata": {},
   "source": [
    "Install [Numpy](https://numpy.org/):\n",
    "\n",
    "NumPy is a library for the Python programming language, adding support for large, multi-dimensional arrays and matrices, along with a large collection of high-level mathematical functions to operate on these arrays"
   ]
  },
  {
   "cell_type": "code",
   "execution_count": 5,
   "id": "1f47da1d-a575-4f83-a53b-e614541f4161",
   "metadata": {},
   "outputs": [],
   "source": [
    "#!python -m pip install numpy "
   ]
  },
  {
   "cell_type": "code",
   "execution_count": 6,
   "metadata": {},
   "outputs": [],
   "source": [
    "#!pip freeze | (grep 'numpy') # works for linux and Mac\n",
    "\n",
    "# import numpy as np\n",
    "# np.__version__"
   ]
  },
  {
   "cell_type": "code",
   "execution_count": 7,
   "metadata": {},
   "outputs": [],
   "source": [
    "#np. # press <tab> to see available functions"
   ]
  },
  {
   "cell_type": "code",
   "execution_count": 8,
   "metadata": {},
   "outputs": [
    {
     "name": "stdout",
     "output_type": "stream",
     "text": [
      "Object `np` not found.\n"
     ]
    }
   ],
   "source": [
    "np?"
   ]
  },
  {
   "cell_type": "code",
   "execution_count": 9,
   "metadata": {},
   "outputs": [],
   "source": [
    "# a1 = np.array([['Monday', 2, 3, 4], ['Tuesday', 40, 50, 60], ['Wednesday', 66, 'NaN', 88]])\n",
    "# print(a1.shape)\n",
    "# print(a1.ndim)\n",
    "# print(a1.size)"
   ]
  },
  {
   "cell_type": "code",
   "execution_count": 10,
   "metadata": {},
   "outputs": [],
   "source": [
    "# a2 = np.array([[ 0,  1,  2,  3],\n",
    "#        [ 4,  5,  6,  7],\n",
    "#        [ 8,  9, 10,  11],\n",
    "#        [ 12,  13,  14, 15]])\n",
    "# a2\n",
    "# print(a13.shape)"
   ]
  },
  {
   "cell_type": "markdown",
   "metadata": {},
   "source": [
    "Try to install the following packages:\n",
    "\n",
    "1. [pandas](https://pypi.org/project/pandas/)\n",
    "2. [matplotlib](https://pypi.org/project/matplotlib/)\n",
    "\n"
   ]
  },
  {
   "cell_type": "markdown",
   "id": "75f9df6f-dd67-47ab-a13f-ad2d9300572b",
   "metadata": {
    "tags": []
   },
   "source": [
    "## 1.1 Introduction to Python"
   ]
  },
  {
   "cell_type": "markdown",
   "id": "377fced4-ed37-402f-822b-2874ad707f30",
   "metadata": {
    "id": "25b-JNSY2Wnn",
    "tags": []
   },
   "source": [
    "### Elementary Data Types\n",
    "\n",
    "The standard Python library provides support for various elementary data types, including including integers, booleans, floating points, and strings. A summary of the data types is shown in the table below.\n",
    "\n",
    "| &nbsp;  |      Data Type    |   Example   |  Function      |\n",
    "|:--------|:-----------------:|:------------|:-------------  |\n",
    "|Number   | Integer           | x = 4       | `int`            | \n",
    "| &nbsp;  | Floating point    | x = 3.142   | `float`          |\n",
    "| &nbsp;  | Boolean           | x = True    | `bool`           |\n",
    "|Text     | Character         | x = 'c'     | `str`            |\n",
    "| &nbsp;  | String            | x = \"this\" or x = 'this' | `str` |\n",
    "|Sequence | List        | mylist = [\"apple\", \"banana\", \"cherry\"]     | `list`            |\n",
    "| &nbsp;  |Tuple        |mytuple = (\"apple\", \"banana\", \"cherry\")    | `tuple`            |\n",
    "| Mapping |Dictionaries        |thisdict = { \"brand\": \"Ford\",\"model\": \"Mustang\",\"year\": 1964}    | `dict`            |\n",
    "\n"
   ]
  },
  {
   "cell_type": "markdown",
   "id": "ae9c37a3-3f17-493a-aa36-d5fb5cf63ac0",
   "metadata": {
    "tags": []
   },
   "source": [
    "#### (A) Getting the Data Type\n",
    "You can get the data type of any object by using the `type()` function:"
   ]
  },
  {
   "cell_type": "code",
   "execution_count": 11,
   "id": "a43ebb98-5d06-4d3b-b8e5-36ec6fca22be",
   "metadata": {},
   "outputs": [
    {
     "name": "stdout",
     "output_type": "stream",
     "text": [
      "4 <class 'int'>\n",
      "This is a string <class 'str'>\n"
     ]
    }
   ],
   "source": [
    "x = 4 \n",
    "print(x , type(x))\n",
    "\n",
    "s = \"This is a string\" \n",
    "print(s , type(s))"
   ]
  },
  {
   "cell_type": "markdown",
   "id": "b8caf2da-6327-4a77-9d11-1661ba74501c",
   "metadata": {
    "tags": []
   },
   "source": [
    "#### (B) To set a Specific Data Type"
   ]
  },
  {
   "cell_type": "code",
   "execution_count": 12,
   "id": "20f1d494-5853-4f96-a0fd-38fa92a9a8c6",
   "metadata": {
    "tags": []
   },
   "outputs": [
    {
     "name": "stdout",
     "output_type": "stream",
     "text": [
      "4\n",
      "name\n"
     ]
    }
   ],
   "source": [
    "x = int(4)\n",
    "\n",
    "print(x)\n",
    "\n",
    "z = str(\"name\")\n",
    "print (z)"
   ]
  },
  {
   "cell_type": "markdown",
   "id": "b96b7bd8-22f3-4bf1-8a05-62648863ef60",
   "metadata": {
    "tags": []
   },
   "source": [
    "#### (C) Arithmetic operations"
   ]
  },
  {
   "cell_type": "markdown",
   "id": "338754a9-0bc5-430d-a4ec-89ca82b12068",
   "metadata": {},
   "source": [
    "|Operator |Name|Example|\n",
    "|:--------|:-----------------:|:------------|\n",
    "|+|Addition|x + y|\n",
    "|-|Subtraction|x - y|\n",
    "|*|Multiplication|x * y|\n",
    "|/|Division|x / y|\n",
    "|%|Modulus|x % y|\n",
    "|**|Exponentiation|x ** y|\n",
    "|//|Floor division|x // y|\n"
   ]
  },
  {
   "cell_type": "markdown",
   "id": "67b56eae-b32c-4d5b-8a88-7a49d2fe7373",
   "metadata": {
    "tags": []
   },
   "source": [
    "To round of use `round()` function "
   ]
  },
  {
   "cell_type": "markdown",
   "id": "b4e2841a-b4bd-4c0f-9c82-68e029908d59",
   "metadata": {
    "id": "BzrGqFaQ2Wnq"
   },
   "source": [
    "**The following are some of the arithmetic operations available for manipulating integers and floating point numbers**"
   ]
  },
  {
   "cell_type": "code",
   "execution_count": 13,
   "id": "8f338a10-09cb-4d5c-a5f3-001d8ebcfe2d",
   "metadata": {},
   "outputs": [
    {
     "name": "stdout",
     "output_type": "stream",
     "text": [
      "18 11.6 30.4 6 18 0\n",
      "7.6 2.533333333333333 2.0 57.76 7.6 57.76 8 7\n"
     ]
    }
   ],
   "source": [
    "x = 4            # integer\n",
    "y = 7.6          # floating point number\n",
    "\n",
    "x1 = x + y       # addition\n",
    "x2 = x * y       # multiplication\n",
    "x += 2           # equivalent to x = x + 2\n",
    "x3 = x      \n",
    "x *= 3           # equivalent to x = x * 3\n",
    "x4 = x\n",
    "x5 = x % 3       # modulo (remainder) operator\n",
    "\n",
    "y1 = y / 3       # division\n",
    "y2 = y // 3      # integer division\n",
    "y3 = y ** 2      # square of z \n",
    "y4 = y3 ** 0.5   # square root\n",
    "y5 = pow(y,2)    # equivalent to square of z\n",
    "y6 = round(y)    # rounding z to its nearest integer \n",
    "y7 = int(y)      # type casting float to int\n",
    "\n",
    "print (x , x1, x2, x3, x4, x5)\n",
    "print (y, y1, y2, y3, y4, y5, y6, y7)"
   ]
  },
  {
   "cell_type": "markdown",
   "id": "f08715fe-e26b-41ce-b547-d34ea2b0af73",
   "metadata": {
    "tags": []
   },
   "source": [
    "#### (D) Arithmetic operations using `math`"
   ]
  },
  {
   "cell_type": "markdown",
   "id": "480ef6ab-cf63-4f3b-b136-c0cc2ad26ab5",
   "metadata": {
    "id": "a2Aqj2Uz2Wnr"
   },
   "source": [
    "math library\n",
    "The following are some of the functions provided by the **math module** for integers and floating point numbers.\n"
   ]
  },
  {
   "cell_type": "markdown",
   "id": "3ba560dd-8987-4e06-a275-c2fec756e855",
   "metadata": {},
   "source": [
    "|Name|Funtion| Example\n",
    "|:--------|:-----------------:|-----:|\n",
    "|Squareroot |`math.sqrt( )`|$\\sqrt{x}$|\n",
    "|Square|`math.pow(base,exponent)`|  $x^2$| \n",
    "|Exponentia|`math.exp()`| $e^x$ |\n",
    "|Logarithm|`math.log(variable,base)`|  $\\log _{2}x$|\n",
    "|Modulus|`math.fabs()`| $ |-x|$ |\n",
    "|Factorial|`math.factorial()`| $x!$ <br>|\n",
    "|Checks whether a number is infinite or not|`math.isinf()` | $x = \\infty$|\n",
    "|Checks whether a value is NaN (not a number) or not|`math.isnan()`| |\n",
    "| ${\\pi}$ | `math.pi()`|${\\pi}$|\n",
    "| Trigonometry| `math.cos()`| $cos(x)$|\n"
   ]
  },
  {
   "cell_type": "code",
   "execution_count": 14,
   "id": "e71dfdf1-ae98-40ce-b394-c9d49c31e747",
   "metadata": {
    "tags": []
   },
   "outputs": [
    {
     "name": "stdout",
     "output_type": "stream",
     "text": [
      "4.242640687119285\n",
      "324.0\n",
      "65659969.13733051\n",
      "4.169925001442312\n",
      "4.0\n",
      "6402373705728000\n"
     ]
    }
   ],
   "source": [
    "import math \n",
    "print(math.sqrt(x))      # sqrt(4) = 2\n",
    "print(math.pow(x,2))     # 4**2 = 16\n",
    "print(math.exp(x))       # exp(4) = 54.6\n",
    "print(math.log(x,2))     # log based 2  (default is natural logarithm)\n",
    "print(math.fabs(-4))     # absolute value\n",
    "print(math.factorial(x)) # 4! = 4 x 3 x 2 x 1 = 24"
   ]
  },
  {
   "cell_type": "code",
   "execution_count": 15,
   "id": "e3c1f1c6-9d32-4dfb-bed1-c32064c01919",
   "metadata": {},
   "outputs": [
    {
     "name": "stdout",
     "output_type": "stream",
     "text": [
      "True\n",
      "\n",
      "\n",
      "True\n"
     ]
    }
   ],
   "source": [
    "#use identity operators\n",
    "\n",
    "x = math.nan             # not a number\n",
    "print(math.isnan(x))\n",
    "print(\"\\n\")\n",
    "\n",
    "x = math.inf             # infinity\n",
    "print(math.isinf(x))"
   ]
  },
  {
   "cell_type": "markdown",
   "id": "840ad917-ebe3-468a-9db4-fd27f42d9705",
   "metadata": {},
   "source": [
    "The `math.ceil()` method rounds a number upwards to its nearest integer, <br> `math.floor()` method rounds a number downwards to its nearest integer, <br> `math.trunc()` method returns the truncated integer part of a number (truncate: chop of the decimal part)"
   ]
  },
  {
   "cell_type": "code",
   "execution_count": 16,
   "id": "c7b0e74f-e5c3-401b-b788-db24eb937c1d",
   "metadata": {},
   "outputs": [
    {
     "name": "stdout",
     "output_type": "stream",
     "text": [
      "1\n",
      "0\n",
      "0\n",
      "\n",
      "\n"
     ]
    }
   ],
   "source": [
    "z = 0.2\n",
    "print(math.ceil(z))      # ceiling function (to find the smallest integer greater than or equal to z)\n",
    "print(math.floor(z))     # floor function   (to find the largest integer not greater than z)\n",
    "print(math.trunc(z))     # truncate function (to find the interger part of $z$)\n",
    "print(\"\\n\")\n"
   ]
  },
  {
   "cell_type": "markdown",
   "id": "694812bf-378d-4f8e-b5ab-d0cf684be85b",
   "metadata": {
    "tags": []
   },
   "source": [
    "#### (E) Boolean\n"
   ]
  },
  {
   "cell_type": "markdown",
   "id": "088eb119-341b-4ff5-b03f-9a61e06510a7",
   "metadata": {},
   "source": [
    "**The following show how boolean is used to evaluate logical operator;**  <br>\n",
    "Evaluate any expression in Python, and get one of two answers, `True` or `False`\n"
   ]
  },
  {
   "cell_type": "markdown",
   "id": "40cd0582-90af-471f-a391-ca848fc0cb70",
   "metadata": {},
   "source": [
    "|Operator|Description|Example|\n",
    "|:--------|:-----------------:|:------------|\n",
    "|and |Returns True if both statements are true|x < 5 and  x < 10|\n",
    "or|Returns True if one of the statements is true|x < 5 or x < 4|\n",
    "not|Reverse the result, returns False if the result is true|not(x < 5 and x < 10)|"
   ]
  },
  {
   "cell_type": "code",
   "execution_count": 17,
   "id": "ea5eb801-ada1-4199-b273-d1b71e6c6ad2",
   "metadata": {},
   "outputs": [
    {
     "name": "stdout",
     "output_type": "stream",
     "text": [
      "True\n",
      "True\n",
      "False\n"
     ]
    }
   ],
   "source": [
    "x = 4\n",
    "\n",
    "print(x < 5 and x < 10)       # logical AND\n",
    "print(x < 5 or x < 4)        # logical OR\n",
    "print(x < 5 and not x < 10)   # logical NOT"
   ]
  },
  {
   "cell_type": "markdown",
   "id": "a5d0c8c0-516d-4870-8ff8-b3740a1efdf6",
   "metadata": {},
   "source": [
    "**The following are some of the operations and functions for manipulating strings**"
   ]
  },
  {
   "cell_type": "code",
   "execution_count": 18,
   "id": "0ae1e26c-b3c5-45fe-a8d3-821b37f32158",
   "metadata": {},
   "outputs": [
    {
     "name": "stdout",
     "output_type": "stream",
     "text": [
      "his  is a string\n",
      "This  is another string\n",
      "17\n",
      "Length of string is 17\n",
      "THIS  IS A STRING\n",
      "this  is a string\n",
      "9\n",
      "This  is a string This  is a string This  is a string \n",
      "\n",
      "\n"
     ]
    }
   ],
   "source": [
    "s1 = \"This  is a string\"\n",
    "print(s1[1:])                    # print last three characters \n",
    "print(s1.replace('a','another'))  # replace \"a\" with \"another\"\n",
    "print(len(s1))                               # get the string length\n",
    "print(\"Length of string is \" + str(len(s1))) # type casting int to str\n",
    "print(s1.upper())                            # convert to upper case\n",
    "print(s1.lower())                            # convert to lower case\n",
    "print(s1.find(\"a\"))               # find the position of \"a\" in s1\n",
    "print((s1 + \" \")* 3)              # replicate the string 3 times\n",
    "print(\"\\n\")"
   ]
  },
  {
   "cell_type": "markdown",
   "id": "edc14522-5d5f-41df-b1c1-dfb2a4a41ca1",
   "metadata": {},
   "source": [
    "**The following examples shows how to us comparison operator to find true or false  statements**"
   ]
  },
  {
   "cell_type": "code",
   "execution_count": 19,
   "id": "477bca22-aa27-4a03-b8e0-5e835bb69e41",
   "metadata": {},
   "outputs": [
    {
     "name": "stdout",
     "output_type": "stream",
     "text": [
      "False\n",
      "False\n",
      "This too\n"
     ]
    }
   ],
   "source": [
    "s1 = \"This  is a string\"\n",
    "s2 = \"This\"\n",
    "\n",
    "print(s1 == 'This')               # equality comparison\n",
    "print(s1 < 'That')                # inequality comparison\n",
    "print(s2 + \" too\")                # string concatenation"
   ]
  },
  {
   "cell_type": "markdown",
   "id": "87d88443-6236-45d4-a830-964bfdbdec30",
   "metadata": {
    "tags": []
   },
   "source": [
    "# 1.2 Data Types or called Containers\n",
    "\n",
    "\n",
    "| &nbsp;  |      Data Type    |   Example   |  Function      |\n",
    "|:--------|:-----------------:|:------------|:-------------  |\n",
    "|Sequence | List        | mylist = [\"apple\", \"banana\", \"cherry\"]     | `list`            |\n",
    "| &nbsp;  |Tuple        |mytuple = (\"apple\", \"banana\", \"cherry\")    | `tuple`            |\n",
    "| Collection | set        | myset = {\"apple\", \"banana\", \"cherry\"}     | `set`            |\n",
    "| Mapping |Dictionaries        |thisdict = { \"brand\": \"Ford\",\"model\": \"Mustang\",\"year\": 1964}    | `dict`            |\n",
    "\n",
    "\n",
    "**Characteristics of List** <br>\n",
    "\n",
    "* store multiple items in a single variable\n",
    "* The items are ordered, changeable and allows duplicates\n",
    "* items are indexed, the first item has index [0], the second item has index [1] etc.\n",
    "\n",
    "**Characteristics of Tuple**\n",
    "\n",
    "* Used to store multiple items in a single variable\n",
    "* A collection which is ordered and unchangeable\n",
    "* Written with round brackets\n",
    "\n",
    "**Characteristics of Set**\n",
    "\n",
    "* Used to store a collection of objects; we store multiple items in a single variable.\n",
    "* A collection which is unordered, unchangeable and unindexed.\n",
    "* Written with curly brackets.\n",
    "\n",
    "**Characteristics of Dictionary**\n",
    "\n",
    "* Used to store data values in key:value pairs.\n",
    "* A collection which is ordered*, changeable and do not allow duplicates.\n",
    "* written with curly brackets, and have keys and values:"
   ]
  },
  {
   "cell_type": "markdown",
   "id": "e2098cad-6ca4-458a-9e60-e98345300f7d",
   "metadata": {
    "tags": []
   },
   "source": [
    "**The following examples show how to create and manipulate a list object**"
   ]
  },
  {
   "cell_type": "code",
   "execution_count": 20,
   "id": "93770448-e48e-48e8-a00f-12ad47b082c1",
   "metadata": {},
   "outputs": [
    {
     "name": "stdout",
     "output_type": "stream",
     "text": [
      "\n",
      "\n",
      "5\n",
      "25\n",
      "\n",
      "\n",
      "[1, 3, 5, 7, 9, 11]\n",
      "11\n",
      "[1, 3, 5, 7, 9]\n",
      "[1, 3, 5, 7, 9, 11, 13, 15]\n",
      "[1, 3, 5, 7, 9, 1, 3, 5, 7, 9, 1, 3, 5, 7, 9]\n",
      "[1, 3, 4, 5, 7, 9]\n",
      "[9, 7, 5, 4, 3, 1]\n"
     ]
    }
   ],
   "source": [
    "intlist = [1, 3, 5, 7, 9]\n",
    "\n",
    "\n",
    "print(\"\\n\")\n",
    "print(intlist[2])                # get the third element of the list\n",
    "\n",
    "print(sum(intlist))              # sums up elements of the list\n",
    "print(\"\\n\")\n",
    "\n",
    "intlist.append(11)               # insert 11 to end of the list\n",
    "print(intlist)\n",
    "print(intlist.pop())             # remove last element of the list\n",
    "print(intlist)\n",
    "\n",
    "print(intlist + [11,13,15])      # concatenate two lists (means conbine two list) \n",
    "\n",
    "print(intlist * 3)               # replicate the list\n",
    "\n",
    "intlist.insert(2,4)              # insert item 4 at index 2  \n",
    "print(intlist)\n",
    "intlist.sort(reverse=True)       # sort elements in descending order\n",
    "print(intlist)"
   ]
  },
  {
   "cell_type": "markdown",
   "id": "8356f06b-e2f1-4757-a61f-8a1b9bdd6195",
   "metadata": {},
   "source": [
    "**The following examples show how to create a list between 0 and 12 with the stepsize of two**"
   ]
  },
  {
   "cell_type": "code",
   "execution_count": 21,
   "id": "901eb341-7b0a-402f-bb70-c46028d1d47a",
   "metadata": {},
   "outputs": [
    {
     "name": "stdout",
     "output_type": "stream",
     "text": [
      "\n",
      "\n",
      "[0, 2, 4, 6, 8, 10]\n"
     ]
    }
   ],
   "source": [
    "print(\"\\n\")\n",
    "intlist2 = list(range(0,12,2))   # range[startvalue, endvalue, stepsize]\n",
    "print(intlist2)"
   ]
  },
  {
   "cell_type": "markdown",
   "id": "b97408d5-94ab-459e-9b6f-cd952aa3806a",
   "metadata": {
    "tags": []
   },
   "source": [
    "**The following examples show how to create and manipulate a dictionary object**\n",
    "    "
   ]
  },
  {
   "cell_type": "code",
   "execution_count": 22,
   "id": "9d7d8f72-683b-4e1d-9cb2-310fde12b49f",
   "metadata": {},
   "outputs": [
    {
     "name": "stdout",
     "output_type": "stream",
     "text": [
      "{'MI': 'Michigan', 'MN': 'Minnesota', 'TX': 'Texas', 'CA': 'California'}\n",
      "dict_keys(['MI', 'MN', 'TX', 'CA'])\n",
      "dict_values(['Michigan', 'Minnesota', 'Texas', 'California'])\n",
      "4\n",
      "Michigan\n",
      "False\n",
      "True\n"
     ]
    }
   ],
   "source": [
    "abbrev = {}\n",
    "abbrev['MI'] = \"Michigan\"\n",
    "abbrev['MN'] = \"Minnesota\"\n",
    "abbrev['TX'] = \"Texas\"\n",
    "abbrev['CA'] = \"California\"\n",
    "\n",
    "print(abbrev)\n",
    "print(abbrev.keys())            # get the keys of the dictionary\n",
    "print(abbrev.values())          # get the values of the dictionary\n",
    "print(len(abbrev))              # get number of key-value pairs\n",
    "\n",
    "print(abbrev.get('MI'))\n",
    "print(\"FL\" in abbrev)          # to check do \"FL\" key enlisted in dictionary\n",
    "print(\"CA\" in abbrev)          # to check do \"CA\" key enlisted in dictionary"
   ]
  },
  {
   "cell_type": "code",
   "execution_count": 23,
   "id": "cfc1675f-d1de-47e2-962a-5b59913375c7",
   "metadata": {
    "colab": {
     "base_uri": "https://localhost:8080/"
    },
    "executionInfo": {
     "elapsed": 354,
     "status": "ok",
     "timestamp": 1665442465000,
     "user": {
      "displayName": "GOBITHAASAN RUDRUSAMY",
      "userId": "08574307174068943119"
     },
     "user_tz": -480
    },
    "id": "yHvPMivk2Wnw",
    "outputId": "a90c1273-ae58-4f8a-ab59-f2326d2baf7c"
   },
   "outputs": [
    {
     "name": "stdout",
     "output_type": "stream",
     "text": [
      "{'apples': 3, 'oranges': 4, 'bananas': 2, 'cherries': 10}\n",
      "['apples', 'bananas', 'cherries', 'oranges']\n",
      "[('apples', 3), ('bananas', 2), ('cherries', 10), ('oranges', 4)]\n",
      "[('bananas', 2), ('apples', 3), ('oranges', 4), ('cherries', 10)]\n"
     ]
    }
   ],
   "source": [
    "keys = ['apples', 'oranges', 'bananas', 'cherries']  #list 1\n",
    "values = [3, 4, 2, 10]                              #list 2                         \n",
    "fruits = dict(zip(keys, values))    #define a dictionary \n",
    "print(fruits)\n",
    "print(sorted(fruits))     # sort keys of dictionary\n",
    "\n",
    "from operator import itemgetter\n",
    "print(sorted(fruits.items(), key=itemgetter(0)))    # sort by key of dictionary\n",
    "print(sorted(fruits.items(), key=itemgetter(1)))    # sort by value of dictionary"
   ]
  },
  {
   "cell_type": "markdown",
   "id": "0c12396a-9107-4e5c-8a6f-41777a45987e",
   "metadata": {
    "id": "ltpYMjBo2Wnw"
   },
   "source": [
    "**The following examples show how to create and manipulate a tuple object. Unlike a list, a tuple object is immutable, i.e., they cannot be modified after creation.**"
   ]
  },
  {
   "cell_type": "code",
   "execution_count": 24,
   "id": "45d52840-47bc-4511-a40e-7635d9aea5db",
   "metadata": {
    "colab": {
     "base_uri": "https://localhost:8080/"
    },
    "executionInfo": {
     "elapsed": 353,
     "status": "ok",
     "timestamp": 1665442470409,
     "user": {
      "displayName": "GOBITHAASAN RUDRUSAMY",
      "userId": "08574307174068943119"
     },
     "user_tz": -480
    },
    "id": "9Gse-ZQK2Wnw",
    "outputId": "a1f788f6-fd16-4297-bb9d-d809d767bddb"
   },
   "outputs": [
    {
     "name": "stdout",
     "output_type": "stream",
     "text": [
      "('MI', 'Michigan', 'Lansing')\n",
      "('Michigan', 'Lansing')\n",
      "[('MI', 'Michigan', 'Lansing'), ('CA', 'California', 'Sacramento'), ('TX', 'Texas', 'Austin')]\n",
      "('TX', 'Texas', 'Austin')\n",
      "('TX', 'Texas', 'Austin')\n",
      "('Texas', 'Austin')\n",
      "[('TX', 'Texas', 'Austin'), ('MI', 'Michigan', 'Lansing'), ('CA', 'California', 'Sacramento')]\n"
     ]
    }
   ],
   "source": [
    "MItuple = ('MI', 'Michigan', 'Lansing')\n",
    "CAtuple = ('CA', 'California', 'Sacramento')\n",
    "TXtuple = ('TX', 'Texas', 'Austin')\n",
    "\n",
    "print(MItuple)\n",
    "print(MItuple[1:])   #slice the second element\n",
    "\n",
    "states = [MItuple, CAtuple, TXtuple]    # this will create a list of tuples\n",
    "print(states)         #\n",
    "print(states[2])      # second index from states\n",
    "print(states[2][:])   # to get  all the elements from TXtuple\n",
    "print(states[2][1:])  # to get last two  elements from TXtuple\n",
    "\n",
    "states.sort(key=lambda state: state[2])  # sort the states by their capital cities\n",
    "print(states)"
   ]
  },
  {
   "cell_type": "markdown",
   "id": "983160ba-ec85-4d0c-9a60-267a80d20b0c",
   "metadata": {
    "id": "OBL67Pj0G7Pf"
   },
   "source": [
    "**The following examples show how to create and manipulate a set object. Unlike a tuple object, the order of elements in set object is insignificant."
   ]
  },
  {
   "cell_type": "code",
   "execution_count": 25,
   "id": "1f6abf15-2cbd-4d5a-b77c-d4db05d206db",
   "metadata": {
    "tags": []
   },
   "outputs": [
    {
     "name": "stdout",
     "output_type": "stream",
     "text": [
      "set()\n"
     ]
    }
   ],
   "source": [
    "y0 = set() #to define empty set\n",
    "print(y0)"
   ]
  },
  {
   "cell_type": "code",
   "execution_count": 26,
   "id": "8d270d2d-3c59-40e7-92a9-75516be109f6",
   "metadata": {
    "colab": {
     "base_uri": "https://localhost:8080/"
    },
    "executionInfo": {
     "elapsed": 328,
     "status": "ok",
     "timestamp": 1665442757162,
     "user": {
      "displayName": "GOBITHAASAN RUDRUSAMY",
      "userId": "08574307174068943119"
     },
     "user_tz": -480
    },
    "id": "oA6pbeRhEved",
    "outputId": "5ab512d5-28b9-46e5-f3bf-3a276c251417"
   },
   "outputs": [
    {
     "name": "stdout",
     "output_type": "stream",
     "text": [
      "True\n",
      "False\n"
     ]
    },
    {
     "data": {
      "text/plain": [
       "{'c'}"
      ]
     },
     "execution_count": 26,
     "metadata": {},
     "output_type": "execute_result"
    }
   ],
   "source": [
    "y1 = {'c', 'd', 'e', 'f','e'} \n",
    "\n",
    "print ('d' in y1)  # to find is 'd' in y1\n",
    "y2 = {'x','c','d', 'f', 'e'}\n",
    "\n",
    "print (y1 == y2 ) #to find is y1 is equals to y2\n",
    " \n",
    "y3 = {'c','a','t'}  #To find the common element in y2 and y3\n",
    "y2.intersection(y3)"
   ]
  },
  {
   "cell_type": "markdown",
   "id": "1df374ac-baa6-413e-9c39-bdbb37d8462d",
   "metadata": {
    "tags": []
   },
   "source": [
    "### Control Flow Statement\n",
    "\n",
    "* if-else statement\n",
    "* if-elif-else statement \n",
    "    > Decision making is required when we want to execute a code only if a certain condition is satisfied.\n",
    "\n",
    "* for loop\n",
    "    > A for loop is used for iterating over a sequence (that is either a list, a tuple, a dictionary, a set, or a string).\n",
    "\n",
    "* whlie loop \n",
    "     > With the while loop we can execute a set of statements as long as a condition is true\n"
   ]
  },
  {
   "cell_type": "markdown",
   "id": "b9a64d57-8207-4538-afc6-4dcd6790066b",
   "metadata": {
    "tags": []
   },
   "source": [
    "#### if-else and if-elif STATEMENT "
   ]
  },
  {
   "cell_type": "raw",
   "id": "40e08a5d-8f81-4fdd-9efc-aec023f487ac",
   "metadata": {},
   "source": [
    "if <exprression>:\n",
    "    <statement A>\n",
    "else:\n",
    "    <statement B>\n",
    "    \n",
    "    \n",
    "    \n",
    "if <exprression>:\n",
    "    <statement A>\n",
    "elif:\n",
    "    <statement B>\n",
    "else:\n",
    "    <statement C>"
   ]
  },
  {
   "cell_type": "code",
   "execution_count": 27,
   "id": "5e632749-c377-4039-b378-504d62159f89",
   "metadata": {},
   "outputs": [
    {
     "name": "stdout",
     "output_type": "stream",
     "text": [
      "b is greater than a\n",
      "b is smaller than a\n"
     ]
    }
   ],
   "source": [
    "#simple example\n",
    "\n",
    "a = 33\n",
    "b = 200\n",
    "if b > a:\n",
    "  print(\"b is greater than a\")\n",
    "\n",
    "\n",
    "a = 333\n",
    "b = 200\n",
    "if b < a:\n",
    "    print(\"b is smaller than a\")\n",
    "elif b > a:\n",
    "    print(\"b is greater than a\")\n",
    "else:\n",
    "    print(\"a is equals to b\")"
   ]
  },
  {
   "cell_type": "code",
   "execution_count": 28,
   "id": "db83c80d-896f-4b0d-96b7-4abc67cd13f3",
   "metadata": {},
   "outputs": [
    {
     "name": "stdout",
     "output_type": "stream",
     "text": [
      "x = 10 is even\n",
      "\n",
      "\n",
      "x = 10 is positive\n"
     ]
    }
   ],
   "source": [
    "x = 10\n",
    "\n",
    "if x % 2 == 0:\n",
    "    print(\"x =\", x, \"is even\")\n",
    "else:\n",
    "    print(\"x =\", x, \"is odd\")\n",
    "print(\"\\n\")\n",
    "\n",
    "if x > 0:\n",
    "    print(\"x =\", x, \"is positive\")\n",
    "elif x < 0:\n",
    "    print(\"x =\", x, \"is negative\")\n",
    "else:\n",
    "    print(\"x =\", x, \"is neither positive nor negative\")"
   ]
  },
  {
   "cell_type": "markdown",
   "id": "fb57f72a-f24c-436a-b17e-fe7e7d99af1a",
   "metadata": {
    "tags": []
   },
   "source": [
    "#### for LOOP "
   ]
  },
  {
   "cell_type": "code",
   "execution_count": 29,
   "id": "9ed29e4f-8bf8-4ddc-8336-0a75a4efd3ff",
   "metadata": {},
   "outputs": [
    {
     "name": "stdout",
     "output_type": "stream",
     "text": [
      "apple\n",
      "banana\n",
      "cherry\n"
     ]
    }
   ],
   "source": [
    "#simple example\n",
    "\n",
    "fruits = [\"apple\", \"banana\", \"cherry\"]\n",
    "for x in fruits:\n",
    "  print(x)"
   ]
  },
  {
   "cell_type": "code",
   "execution_count": 30,
   "id": "182ddd00-4aa0-43d2-b8b9-781b2f744676",
   "metadata": {},
   "outputs": [
    {
     "name": "stdout",
     "output_type": "stream",
     "text": [
      "that\n",
      "at\n",
      "a\n",
      "latt\n",
      "[4, 2, 1, 4]\n",
      "\n",
      "\n"
     ]
    }
   ],
   "source": [
    "# using for loop with a list\n",
    "\n",
    "mylist = ['this', 'is', 'a', 'list']\n",
    "for word in mylist:\n",
    "    print(word.replace(\"is\", \"at\"))\n",
    "    \n",
    "mylist2 = [len(word) for word in mylist]   # number of characters in each word\n",
    "print(mylist2)\n",
    "print(\"\\n\")"
   ]
  },
  {
   "cell_type": "code",
   "execution_count": 31,
   "id": "6c45d371-7aa5-4aed-8761-984f00b9417e",
   "metadata": {},
   "outputs": [
    {
     "name": "stdout",
     "output_type": "stream",
     "text": [
      "['Austin', 'Lansing', 'Sacramento']\n",
      "\n",
      "\n"
     ]
    }
   ],
   "source": [
    "# using for loop with list of tuples\n",
    "\n",
    "states = [('MI', 'Michigan', 'Lansing'),('CA', 'California', 'Sacramento'),\n",
    "          ('TX', 'Texas', 'Austin')]\n",
    "\n",
    "sorted_capitals = [state[2] for state in states]\n",
    "sorted_capitals.sort()\n",
    "print(sorted_capitals)\n",
    "print(\"\\n\")"
   ]
  },
  {
   "cell_type": "code",
   "execution_count": 32,
   "id": "c04f3138-0d47-4d41-a170-ee79e0fe4503",
   "metadata": {},
   "outputs": [
    {
     "name": "stdout",
     "output_type": "stream",
     "text": [
      "['apples', 'oranges', 'bananas', 'cherries']\n"
     ]
    }
   ],
   "source": [
    "# using for loop with dictionary\n",
    "\n",
    "fruits = {'apples': 3, 'oranges': 4, 'bananas': 2, 'cherries': 10}\n",
    "fruitnames = [k for (k,v) in fruits.items()]\n",
    "print(fruitnames)"
   ]
  },
  {
   "cell_type": "markdown",
   "id": "f5bca5d0-18a2-444b-96c1-a1171f0e761e",
   "metadata": {
    "tags": []
   },
   "source": [
    "#### while LOOP "
   ]
  },
  {
   "cell_type": "code",
   "execution_count": 33,
   "id": "5acb9b3c-6a57-4c38-8819-d5ea1296df90",
   "metadata": {},
   "outputs": [
    {
     "name": "stdout",
     "output_type": "stream",
     "text": [
      "1\n",
      "2\n",
      "3\n",
      "4\n",
      "5\n"
     ]
    }
   ],
   "source": [
    "#simple example\n",
    "\n",
    "i = 1\n",
    "while i < 6:\n",
    "  print(i)\n",
    "  i += 1"
   ]
  },
  {
   "cell_type": "code",
   "execution_count": 34,
   "id": "2fc16958-6600-45bf-8126-4f0696a21ed4",
   "metadata": {},
   "outputs": [
    {
     "name": "stdout",
     "output_type": "stream",
     "text": [
      "[-10, -9, -8, -7, -6, -5, -4, -3, -2, -1, 0, 1, 2, 3, 4, 5, 6, 7, 8, 9]\n"
     ]
    }
   ],
   "source": [
    "# using while loop\n",
    "\n",
    "mylist = list(range(-10,10))\n",
    "print(mylist)\n",
    "\n",
    "i = 0\n",
    "while (mylist[i] < 0):\n",
    "    i = i + 1\n",
    "    "
   ]
  },
  {
   "cell_type": "markdown",
   "id": "0c01d905-0062-45e8-a2cf-5d198bf99d61",
   "metadata": {
    "id": "2O96srvk2Wnx",
    "tags": []
   },
   "source": [
    "### User-Defined Functions\n",
    "You can create your own functions in Python, which can be named or unnamed. Unnamed functions are defined using the lambda keyword as shown in the previous example for sorting a list of tuples. \n",
    "\n",
    " \n",
    "def function(): <br>\n",
    "   > statement \n",
    "\n",
    " "
   ]
  },
  {
   "cell_type": "code",
   "execution_count": 35,
   "id": "748d0950-190c-49f5-b593-41708da0b421",
   "metadata": {},
   "outputs": [
    {
     "name": "stdout",
     "output_type": "stream",
     "text": [
      "Apa Khabar Candace!\n"
     ]
    }
   ],
   "source": [
    "# function definition\n",
    "def Greet(name):\n",
    "    \n",
    "    print(\"Apa Khabar \" + name + \"!\")\n",
    "    \n",
    "\n",
    "#function call\n",
    "Greet('Candace')\n"
   ]
  },
  {
   "cell_type": "markdown",
   "id": "87e013d3-7c42-40b7-b7e8-4ffb4af3e1a2",
   "metadata": {},
   "source": [
    "<b> The following show how to perform a query on even number. <b>"
   ]
  },
  {
   "cell_type": "code",
   "execution_count": 36,
   "id": "005c6436-af61-43c9-b81c-c9529175c84a",
   "metadata": {},
   "outputs": [
    {
     "name": "stdout",
     "output_type": "stream",
     "text": [
      "False\n",
      "True\n",
      "False\n"
     ]
    }
   ],
   "source": [
    "def QEven(num):\n",
    "    '''\n",
    "    Query on even number:\n",
    "    PRINTS a boolean output for an as integer\": true if even number, otherwise false'''\n",
    "    print(num % 2 == 0)\n",
    "    \n",
    "QEven(3)\n",
    "QEven(60)\n",
    "QEven(4.2)"
   ]
  },
  {
   "cell_type": "markdown",
   "id": "bce30e62-b931-4bcf-9373-6c0930530bd5",
   "metadata": {},
   "source": [
    "**The following shows the how to use user defined function and if-else statement**"
   ]
  },
  {
   "cell_type": "code",
   "execution_count": 37,
   "id": "8c3240c2-420e-4b53-bd12-39cb31202236",
   "metadata": {},
   "outputs": [
    {
     "name": "stdout",
     "output_type": "stream",
     "text": [
      "720\n"
     ]
    }
   ],
   "source": [
    "def Factorial(x):\n",
    "    if x == 0:\n",
    "        return 1\n",
    "    else:\n",
    "        return (x) * Factorial(x-1)\n",
    "\n",
    "x = 6   \n",
    "print(Factorial(x))"
   ]
  },
  {
   "cell_type": "markdown",
   "id": "880dd344-a80f-4a2b-8d1a-19e5f3cff26f",
   "metadata": {},
   "source": [
    "<b> Let $f2(x,y,z) = x^2+y^3+\\sqrt{z}$. What is $f2(x)$\n",
    "    when $x=2$, $y=3$, $z=4$ and $x=3$, $y=5$,  $z=2.4$ <b>"
   ]
  },
  {
   "cell_type": "code",
   "execution_count": 38,
   "id": "7923223f-090c-4051-a048-a7c02c615f1e",
   "metadata": {
    "colab": {
     "base_uri": "https://localhost:8080/"
    },
    "executionInfo": {
     "elapsed": 3,
     "status": "ok",
     "timestamp": 1665443099702,
     "user": {
      "displayName": "GOBITHAASAN RUDRUSAMY",
      "userId": "08574307174068943119"
     },
     "user_tz": -480
    },
    "id": "KUKPbD9LJObY",
    "outputId": "b54f77a0-9051-468d-c6b7-587c42bcf1b0"
   },
   "outputs": [
    {
     "name": "stdout",
     "output_type": "stream",
     "text": [
      "33.0\n",
      "135.54919333848298\n"
     ]
    }
   ],
   "source": [
    "def f2(x,y,z):\n",
    "    from math import sqrt\n",
    "    return x**2 + y**3 + sqrt(z)\n",
    "\n",
    "print(f2(2,3,4))\n",
    "print(f2(3,5,2.4))"
   ]
  },
  {
   "cell_type": "markdown",
   "id": "d07c6d4b",
   "metadata": {},
   "source": [
    "# 1.3 Working with Dataset"
   ]
  },
  {
   "cell_type": "markdown",
   "id": "1f4abbfe",
   "metadata": {},
   "source": [
    "Given areas in Penang and their details:\n",
    "\n",
    "[('G', 'Gelugor', 11700),('M', 'Minden', 11800), ('J', 'Jelutong', 11600), ('BL', 'Bayan Lepas', 11900)] \n",
    "\n",
    "a. First, let's save the list of tuples as a CSV file using Numpy. (`python -m pip install numpy`)\n",
    "\n",
    "b. Next call the CSV file  as 'dataset' into this notebook and print each area, e.g., as follows: Area= Gelugor ( G ) Postcode: 11700  <b>\n"
   ]
  },
  {
   "cell_type": "code",
   "execution_count": 39,
   "id": "7667ec96",
   "metadata": {},
   "outputs": [
    {
     "name": "stdout",
     "output_type": "stream",
     "text": [
      "Area= Gelugor ( G ) Postcode: 11700\n",
      "\n",
      "Area= Minden ( M ) Postcode: 11800\n",
      "\n",
      "Area= Jelutong ( J ) Postcode: 11600\n",
      "\n",
      "Area= Bayan Lepas ( BL ) Postcode: 11900\n"
     ]
    }
   ],
   "source": [
    "areas = [('G', 'Gelugor', 11700),('M', 'Minden', 11800), ('J', 'Jelutong', 11600), ('BL', 'Bayan Lepas', 11900)] \n",
    "\n",
    "with open('areas.csv', 'w') as f:\n",
    "    f.write('\\n'.join('%s,%s,%s' % area for area in areas))\n",
    "    \n",
    "with open('areas.csv', 'r') as f:\n",
    "    for line in f:\n",
    "        fields = line.split(sep=',')    # split each line into its respective fields\n",
    "        print('Area=',fields[1],'(',fields[0],')','Postcode:', fields[2])"
   ]
  },
  {
   "cell_type": "markdown",
   "id": "af00624e",
   "metadata": {},
   "source": [
    "### Using Pandas\n",
    "1. Loading external dataset: Load the csv file using located in `.\\data\\populations.csv` function using Pandas package as Dataframe. (`python -m pip install pandas`)\n",
    "\n",
    " Tips: \n",
    " - Dataset: there is a file in the folder called `data` named `populations.csv`. Make sure it is in right location. The data describes the populations of hares and lynxes (and carrots) in northern Canada during 20 years.\n",
    "\n",
    "- A [DataFrame](https://pandas.pydata.org/docs/getting_started/intro_tutorials/01_table_oriented.html#) is a 2-dimensional data structure that can store data of different types (including characters, integers, floating point values, categorical data and more) in columns. It is similar to a spreadsheet, an array or a table.\n",
    "\n",
    "2. Compute its basic statistics."
   ]
  },
  {
   "cell_type": "markdown",
   "id": "d88f3cda",
   "metadata": {},
   "source": []
  },
  {
   "cell_type": "code",
   "execution_count": 40,
   "id": "c75aa159",
   "metadata": {},
   "outputs": [
    {
     "name": "stdout",
     "output_type": "stream",
     "text": [
      "<class 'pandas.core.frame.DataFrame'>\n",
      "RangeIndex: 21 entries, 0 to 20\n",
      "Data columns (total 4 columns):\n",
      " #   Column  Non-Null Count  Dtype  \n",
      "---  ------  --------------  -----  \n",
      " 0   # year  21 non-null     int64  \n",
      " 1   hare    21 non-null     float64\n",
      " 2   lynx    21 non-null     float64\n",
      " 3   carrot  21 non-null     int64  \n",
      "dtypes: float64(2), int64(2)\n",
      "memory usage: 800.0 bytes\n"
     ]
    }
   ],
   "source": [
    "import pandas as pd\n",
    "pd.__version__\n",
    "populations = pd.read_csv(\"../data/populations.csv\")\n",
    "\n",
    "populations.info()"
   ]
  },
  {
   "cell_type": "code",
   "execution_count": 41,
   "id": "fa341967",
   "metadata": {},
   "outputs": [
    {
     "data": {
      "text/html": [
       "<div>\n",
       "<style scoped>\n",
       "    .dataframe tbody tr th:only-of-type {\n",
       "        vertical-align: middle;\n",
       "    }\n",
       "\n",
       "    .dataframe tbody tr th {\n",
       "        vertical-align: top;\n",
       "    }\n",
       "\n",
       "    .dataframe thead th {\n",
       "        text-align: right;\n",
       "    }\n",
       "</style>\n",
       "<table border=\"1\" class=\"dataframe\">\n",
       "  <thead>\n",
       "    <tr style=\"text-align: right;\">\n",
       "      <th></th>\n",
       "      <th># year</th>\n",
       "      <th>hare</th>\n",
       "      <th>lynx</th>\n",
       "      <th>carrot</th>\n",
       "    </tr>\n",
       "  </thead>\n",
       "  <tbody>\n",
       "    <tr>\n",
       "      <th>count</th>\n",
       "      <td>21.000000</td>\n",
       "      <td>21.000000</td>\n",
       "      <td>21.000000</td>\n",
       "      <td>21.000000</td>\n",
       "    </tr>\n",
       "    <tr>\n",
       "      <th>mean</th>\n",
       "      <td>1910.000000</td>\n",
       "      <td>34080.952381</td>\n",
       "      <td>20166.666667</td>\n",
       "      <td>42400.000000</td>\n",
       "    </tr>\n",
       "    <tr>\n",
       "      <th>std</th>\n",
       "      <td>6.204837</td>\n",
       "      <td>21413.981859</td>\n",
       "      <td>16655.999920</td>\n",
       "      <td>3404.555771</td>\n",
       "    </tr>\n",
       "    <tr>\n",
       "      <th>min</th>\n",
       "      <td>1900.000000</td>\n",
       "      <td>7600.000000</td>\n",
       "      <td>4000.000000</td>\n",
       "      <td>36700.000000</td>\n",
       "    </tr>\n",
       "    <tr>\n",
       "      <th>25%</th>\n",
       "      <td>1905.000000</td>\n",
       "      <td>19500.000000</td>\n",
       "      <td>8600.000000</td>\n",
       "      <td>39800.000000</td>\n",
       "    </tr>\n",
       "    <tr>\n",
       "      <th>50%</th>\n",
       "      <td>1910.000000</td>\n",
       "      <td>25400.000000</td>\n",
       "      <td>12300.000000</td>\n",
       "      <td>41800.000000</td>\n",
       "    </tr>\n",
       "    <tr>\n",
       "      <th>75%</th>\n",
       "      <td>1915.000000</td>\n",
       "      <td>47200.000000</td>\n",
       "      <td>29700.000000</td>\n",
       "      <td>44500.000000</td>\n",
       "    </tr>\n",
       "    <tr>\n",
       "      <th>max</th>\n",
       "      <td>1920.000000</td>\n",
       "      <td>77400.000000</td>\n",
       "      <td>59400.000000</td>\n",
       "      <td>48300.000000</td>\n",
       "    </tr>\n",
       "  </tbody>\n",
       "</table>\n",
       "</div>"
      ],
      "text/plain": [
       "            # year          hare          lynx        carrot\n",
       "count    21.000000     21.000000     21.000000     21.000000\n",
       "mean   1910.000000  34080.952381  20166.666667  42400.000000\n",
       "std       6.204837  21413.981859  16655.999920   3404.555771\n",
       "min    1900.000000   7600.000000   4000.000000  36700.000000\n",
       "25%    1905.000000  19500.000000   8600.000000  39800.000000\n",
       "50%    1910.000000  25400.000000  12300.000000  41800.000000\n",
       "75%    1915.000000  47200.000000  29700.000000  44500.000000\n",
       "max    1920.000000  77400.000000  59400.000000  48300.000000"
      ]
     },
     "execution_count": 41,
     "metadata": {},
     "output_type": "execute_result"
    }
   ],
   "source": [
    "populations.describe()"
   ]
  },
  {
   "cell_type": "markdown",
   "id": "3b4902be",
   "metadata": {},
   "source": []
  }
 ],
 "metadata": {
  "kernelspec": {
   "display_name": "Python 3 (ipykernel)",
   "language": "python",
   "name": "python3"
  },
  "language_info": {
   "codemirror_mode": {
    "name": "ipython",
    "version": 3
   },
   "file_extension": ".py",
   "mimetype": "text/x-python",
   "name": "python",
   "nbconvert_exporter": "python",
   "pygments_lexer": "ipython3",
   "version": "3.10.13"
  }
 },
 "nbformat": 4,
 "nbformat_minor": 5
}
