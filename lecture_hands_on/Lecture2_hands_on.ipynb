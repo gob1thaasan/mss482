{
 "cells": [
  {
   "cell_type": "markdown",
   "id": "6027a45f-d731-4ff1-8527-b4db811bb2f9",
   "metadata": {
    "id": "fRuRcAt3F_wS"
   },
   "source": [
    "\n",
    "# MSS482 - GRAPHING TECHNOLOGY IN MATHEMATICS AND SCIENCE\n",
    "\n",
    "**SEMESTER 1 2023/2024**\n",
    "\n",
    "\n",
    ">R.U.Gobithaasan (2023). School of Mathematical Sciences, Universiti Sains Malaysia.\n",
    "[Official Website](https://math.usm.my/academic-profile/705-gobithaasan-rudrusamy) \n",
    "\n",
    "\n",
    "<p align=\"center\">\n",
    "     © 2023 R.U. Gobithaasan All Rights Reserved.\n",
    "</p>"
   ]
  },
  {
   "cell_type": "markdown",
   "id": "ac9069ae-3da6-41b9-88f1-cb26da15581c",
   "metadata": {},
   "source": [
    "# Hands-on: Graphing Data with Python"
   ]
  },
  {
   "cell_type": "markdown",
   "id": "db82e975-28ad-49ac-9960-82538ce11fd0",
   "metadata": {},
   "source": [
    "2.1 Dataset <br>\n",
    "    a) Data types (see powerpoint) <br>\n",
    "    b) Dataset: sources  <br>\n",
    "  \n",
    "2.2. Visualizing Dataset and Investigating its \n",
    "Descriptive Statistics <br>\n",
    "    a) Histogram <br>\n",
    "    b) Frequency Distribution <br>\n",
    "    c) boxplot <br>\n",
    "    d) Stem-and-leaf plot <br>\n",
    "\n",
    "\n"
   ]
  },
  {
   "cell_type": "markdown",
   "id": "d14ade7d",
   "metadata": {},
   "source": [
    "## Prelimineries:\n",
    "\n",
    "> Install the following: `!python -m pip install pandas`\n",
    "1. pandas\n",
    "2. sklearn\n",
    "3. numpy\n",
    "4. matplotlib\n",
    "5. seaborn\n",
    "6. plotly\n"
   ]
  },
  {
   "cell_type": "markdown",
   "id": "31aad3b9-a5ff-430c-bda0-922d8e3de635",
   "metadata": {
    "tags": []
   },
   "source": [
    "## Dataset: Online Dataset sources\n",
    "\n",
    "**Online Sources:** \n",
    "- Google Dataset Search: https://datasetsearch.research.google.com/ \n",
    "- Kaggle: https://www.kaggle.com/datasets \n",
    "- UCI Machine Learning Repository: https://archive.ics.uci.edu/ml/datasets.php \n",
    "- Earth Data: https://www.earthdata.nasa.gov/\n",
    "- Scikit Dataset: https://scikit-learn.org/stable/datasets.html \n"
   ]
  },
  {
   "cell_type": "markdown",
   "id": "683da9a6",
   "metadata": {},
   "source": [
    "## Simple Stats of Given Data"
   ]
  },
  {
   "cell_type": "markdown",
   "metadata": {},
   "source": [
    "### Histograms for various types of distributions\n",
    "- https://www.geeksforgeeks.org/interpretations-of-histogram/?ref=lbp"
   ]
  },
  {
   "cell_type": "code",
   "execution_count": null,
   "metadata": {},
   "outputs": [],
   "source": [
    "# Imports \n",
    "import numpy as np\n",
    "import matplotlib.pyplot as plt\n",
    "import seaborn as sns\n",
    "\n",
    "# Normal histogram plot\n",
    "data = np.random.normal(10.0, 3, 500)\n",
    "sns.displot(data, kde= True, bins=10, color='black')\n",
    "\n",
    "# Left-skewed Histogram\n",
    "wc_goals =[0]* 19 + [1]*49 + [2]*60 + [3] *47 + [4]*32 + [5]* 18+ [6]*3 + [7]*3 + [8]\n",
    "sns.displot(wc_goals, bins=8, kde= True, alpha =0.6,color='blue')\n",
    "\n",
    "# Right-skewed Histogram\n",
    "wc_goals_conc =[0]* 19 + [-1]*49 + [-2]*60 + [-3] *47 + [-4]*32 + [-5]* 18+ [-6]*3 + [-7]*3 + [-8]\n",
    "sns.displot(wc_goals_conc, kde = True,bins=8, alpha=0.6, color='red')\n",
    "\n",
    "# Bi-modal histogram\n",
    "N=400\n",
    "mu_1, sigma_1 = 80, 10\n",
    "mu_2, sigma_2 = 20, 10\n",
    "# Generate two normal distributions of given mean sd and concatenate\n",
    "X_1 = np.random.normal(mu_1, sigma_1, N)\n",
    "X_2 = np.random.normal(mu_2, sigma_2, N)\n",
    "X = np.concatenate([X_1, X_2])\n",
    "sns.displot(X,bins=10,kde=True , color='green')\n",
    "\n",
    "# Uniform histogram (an example of die roll with N=600)\n",
    "die_roll = [1]*89 + [2]*94 + [3]*110 + [4]*101 + [5]*90 +[6]*116\n",
    "sns.displot(die_roll, kde=True, bins =6)\n",
    "\n",
    "# Normal distribution with an outlier\n",
    "X_1 = np.random.normal(mu_1, sigma_1, N)\n",
    "X_1 =np.concatenate([X_1, [200]*30])\n",
    "sns.displot(X_1, kde= True, bins=13)\n"
   ]
  },
  {
   "cell_type": "code",
   "execution_count": null,
   "metadata": {},
   "outputs": [],
   "source": [
    "import matplotlib.pyplot as plt \n",
    "\n",
    "data = [16, 25, 47, 47, 56, 23, 45, 19, 55, 55, 55, 44, 27, 90] \n",
    "\n",
    "# Plot a histogram\n",
    "plt.hist(data, bins=10)\n",
    "\n",
    "# Add x-axis and y-axis titles\n",
    "plt.xlabel('Data Values')\n",
    "plt.ylabel('Frequency')\n",
    "\n",
    "# Display the plot\n",
    "plt.show()\n"
   ]
  },
  {
   "cell_type": "code",
   "execution_count": null,
   "id": "40ea4a90-0586-46e9-aca3-cbd3a5ec641b",
   "metadata": {},
   "outputs": [],
   "source": [
    "# you may convert from one type of Python container to another easily and access its built-in functions\n",
    "import numpy as np \n",
    "data_np_array = np.array(data)"
   ]
  },
  {
   "cell_type": "code",
   "execution_count": null,
   "id": "d7aedc2c-e914-4a60-842d-b1d436700956",
   "metadata": {},
   "outputs": [],
   "source": [
    "# two ways to access built-in functions\n",
    "print(data_np_array.mean())\n",
    "print(np.mean(data_np_array))"
   ]
  },
  {
   "cell_type": "markdown",
   "id": "19ea4f24",
   "metadata": {},
   "source": [
    "#### Descriptive Statistics with Numpy\n",
    "-  https://numpy.org/doc/stable/reference/routines.statistics.html\n"
   ]
  },
  {
   "cell_type": "code",
   "execution_count": null,
   "id": "c3f5b5b1",
   "metadata": {},
   "outputs": [],
   "source": [
    "import numpy as np \n",
    "data_np_array = np.array(data)\n",
    "print(data_np_array)\n",
    "print('mean:', data_np_array.mean())\n",
    "print('median:',np.median(data_np_array))\n",
    "print('min, max:', data_np_array.min(),data_np_array.max())\n",
    "print('std, var:', data_np_array.std(),data_np_array.var())"
   ]
  },
  {
   "cell_type": "markdown",
   "metadata": {},
   "source": [
    "### Descriptive Statistics with Scipy"
   ]
  },
  {
   "cell_type": "code",
   "execution_count": null,
   "metadata": {},
   "outputs": [],
   "source": [
    "from scipy.stats import mode, describe\n",
    "print(mode(data_np_array))\n",
    "describe(data_np_array)"
   ]
  },
  {
   "cell_type": "code",
   "execution_count": null,
   "id": "7db81caa",
   "metadata": {},
   "outputs": [],
   "source": [
    "np.percentile(data_np_array, 25)"
   ]
  },
  {
   "cell_type": "code",
   "execution_count": null,
   "metadata": {},
   "outputs": [],
   "source": [
    "print('0.0 quantile:', np.quantile(data_np_array,0.0))\n",
    "print('0.25 quantile:', np.quantile(data_np_array,0.25))\n",
    "print('0.5 quantile:', np.quantile(data_np_array,0.5))\n",
    "print('0.75 quantile:', np.quantile(data_np_array,0.75))\n",
    "print('1.0 quantile:', np.quantile(data_np_array,1.0))"
   ]
  },
  {
   "cell_type": "markdown",
   "id": "ac3f9d04",
   "metadata": {},
   "source": [
    "### Descriptive Statistics with Pandas\n",
    "A [DataFrame](https://pandas.pydata.org/docs/getting_started/intro_tutorials/01_table_oriented.html#) is a 2-dimensional data structure that can store data of different types (including characters, integers, floating point values, categorical data and more) in columns. \n",
    ">It is similar to a spreadsheet, a SQL table or the data.frame in R.\n",
    "\n",
    "- Each column in a DataFrame is a **Series**. \n",
    "- If you are familiar to Python dictionaries, the selection of a single column is very similar to selection of dictionary values based on the key.\n",
    "- we use `info` to inspect the DataFrame representation"
   ]
  },
  {
   "cell_type": "code",
   "execution_count": null,
   "id": "5927d2a0",
   "metadata": {},
   "outputs": [],
   "source": [
    "# you may convert from one type of Python container to another easily and access its built-in functions\n",
    "import pandas as pd \n",
    "data_dataframe = pd.DataFrame(data)\n",
    "data_dataframe.info()"
   ]
  },
  {
   "cell_type": "code",
   "execution_count": null,
   "id": "388cb296",
   "metadata": {},
   "outputs": [],
   "source": [
    "data_dataframe.head()"
   ]
  },
  {
   "cell_type": "code",
   "execution_count": null,
   "id": "613b3af7",
   "metadata": {},
   "outputs": [],
   "source": [
    "data_dataframe.describe()"
   ]
  },
  {
   "cell_type": "markdown",
   "metadata": {},
   "source": [
    "### Boxplot\n",
    " https://www.geeksforgeeks.org/box-plot/"
   ]
  },
  {
   "cell_type": "code",
   "execution_count": null,
   "id": "4297afea",
   "metadata": {},
   "outputs": [],
   "source": [
    "import matplotlib.pyplot as plt \n",
    "\n",
    "plt.boxplot(data_np_array,showmeans=True)\n",
    "\n",
    "# Add labels to the plot\n",
    "plt.xlabel('Data')\n",
    "plt.ylabel('Values')\n",
    "plt.title('Box plot of the data')\n",
    "\n",
    "plt.show()"
   ]
  },
  {
   "cell_type": "code",
   "execution_count": null,
   "id": "7f9b3abc",
   "metadata": {},
   "outputs": [],
   "source": [
    "sns.set_style(\"whitegrid\") \n",
    "sns.boxplot(data_np_array) "
   ]
  },
  {
   "cell_type": "code",
   "execution_count": null,
   "id": "9a02d83a",
   "metadata": {},
   "outputs": [],
   "source": [
    "data_dataframe.boxplot()"
   ]
  },
  {
   "cell_type": "markdown",
   "metadata": {},
   "source": [
    "### Stem-and-leaf plot"
   ]
  },
  {
   "cell_type": "code",
   "execution_count": null,
   "metadata": {},
   "outputs": [],
   "source": [
    "sorted_data = np.sort(data_np_array)"
   ]
  },
  {
   "cell_type": "code",
   "execution_count": null,
   "metadata": {},
   "outputs": [],
   "source": [
    "sorted_data"
   ]
  },
  {
   "cell_type": "code",
   "execution_count": null,
   "id": "f753dc3e",
   "metadata": {},
   "outputs": [],
   "source": [
    "# separating the stem parts \n",
    "stems = [1, 1, 2, 2, 2, 4, 4, 4, 4, 5, 5, 5, 5, 9] \n",
    "\n",
    "plt.ylabel('Data') # for label at y-axis \n",
    "plt.xlabel('stems') # for label at x-axis \n",
    "plt.xlim(0, 10) # limit of the values at x axis \n",
    "\n",
    "plt.stem(stems, sorted_data) # required plot \n"
   ]
  },
  {
   "cell_type": "code",
   "execution_count": null,
   "id": "30189fda",
   "metadata": {},
   "outputs": [],
   "source": [
    "#python -m pip install stemgraphic\n",
    "import stemgraphic\n",
    "\n",
    "# data and scale \n",
    "stemgraphic.stem_graphic(data_np_array, scale = 10) "
   ]
  },
  {
   "cell_type": "markdown",
   "id": "be0e7a5a",
   "metadata": {},
   "source": [
    "### Simulation of Random Data: Normal"
   ]
  },
  {
   "cell_type": "code",
   "execution_count": null,
   "id": "769ac589",
   "metadata": {},
   "outputs": [],
   "source": [
    "import matplotlib.pyplot as plt\n",
    "import numpy as np\n",
    "\n",
    "# Generate some random data normally distributed\n",
    "data_normal = np.random.normal(size=1010)\n",
    "print(data_normal.size)\n",
    "# Plot a histogram\n",
    "plt.hist(data_normal, bins=30)\n",
    "\n",
    "# Add x-axis and y-axis titles\n",
    "plt.xlabel('Data Values')\n",
    "plt.ylabel('Frequency')\n",
    "\n",
    "# Display the plot\n",
    "plt.show()"
   ]
  },
  {
   "cell_type": "code",
   "execution_count": null,
   "metadata": {},
   "outputs": [],
   "source": [
    "import seaborn as sns\n",
    "\n",
    "# Plot a density plot\n",
    "sns.kdeplot(data_normal)\n",
    "\n",
    "# Add labels to the plot\n",
    "plt.xlabel('Data Values')\n",
    "plt.ylabel('Density')\n",
    "\n",
    "plt.show()"
   ]
  },
  {
   "cell_type": "code",
   "execution_count": null,
   "metadata": {},
   "outputs": [],
   "source": [
    "sns.catplot(data=data_normal, kind=\"swarm\")"
   ]
  },
  {
   "cell_type": "code",
   "execution_count": null,
   "id": "16f54ac8",
   "metadata": {},
   "outputs": [],
   "source": [
    "data_normal"
   ]
  },
  {
   "cell_type": "code",
   "execution_count": null,
   "metadata": {},
   "outputs": [],
   "source": [
    "from scipy.stats import mode, describe\n",
    "describe(data_normal)"
   ]
  },
  {
   "cell_type": "code",
   "execution_count": null,
   "id": "26d9c28e",
   "metadata": {},
   "outputs": [],
   "source": [
    "# Add labels to the plot\n",
    "plt.boxplot(data_normal,showmeans=True)\n",
    "plt.xlabel('Data')\n",
    "plt.ylabel('Values')\n",
    "plt.title('Box plot of the data')\n",
    "\n",
    "plt.show()"
   ]
  },
  {
   "cell_type": "markdown",
   "id": "cbea1320",
   "metadata": {},
   "source": [
    "### Simulation of Random Data: not normal (left skewed)"
   ]
  },
  {
   "cell_type": "code",
   "execution_count": null,
   "id": "fe33f869",
   "metadata": {},
   "outputs": [],
   "source": [
    "np.random.exponential?"
   ]
  },
  {
   "cell_type": "code",
   "execution_count": null,
   "id": "90c9a52b",
   "metadata": {},
   "outputs": [],
   "source": [
    "import matplotlib.pyplot as plt\n",
    "import numpy as np\n",
    "\n",
    "# Generate some random data: exponential(scale=1.0, size=None)\n",
    "data_exp = np.random.exponential(2.5, 1010)\n",
    "print(data_exp.size)\n",
    "# Plot a histogram\n",
    "\n",
    "plt.hist(data_exp, bins=30, alpha=0.7, color='green', edgecolor='black')\n",
    "plt.title('Right-Skewed Distribution')\n",
    "plt.xlabel('Values')\n",
    "plt.ylabel('Frequency')\n",
    "plt.grid(True)\n",
    "plt.show()"
   ]
  },
  {
   "cell_type": "code",
   "execution_count": null,
   "metadata": {},
   "outputs": [],
   "source": [
    "#result is a positive skewness. This means that the distribution is skewed to the right\n",
    "import seaborn as sns\n",
    "\n",
    "# Plot a density plot\n",
    "sns.kdeplot(data_exp)\n",
    "\n",
    "\n",
    "# Add labels to the plot\n",
    "plt.xlabel('Data Values')\n",
    "plt.ylabel('Density')\n",
    "\n",
    "plt.show()"
   ]
  },
  {
   "cell_type": "code",
   "execution_count": null,
   "metadata": {},
   "outputs": [],
   "source": [
    "from scipy.stats import mode, describe\n",
    "describe(data_exp)"
   ]
  },
  {
   "cell_type": "markdown",
   "metadata": {},
   "source": [
    "- The density curve has a longer tail to the right.\n",
    "- This is a distribution that is skewed to the right.\n",
    "- It is also said to be positively skewed since its coefficient of skewness is positive."
   ]
  },
  {
   "cell_type": "code",
   "execution_count": null,
   "id": "296aa93c",
   "metadata": {},
   "outputs": [],
   "source": [
    "# Add labels to the plot\n",
    "plt.boxplot(data_exp,showmeans=True)\n",
    "plt.xlabel('Data')\n",
    "plt.ylabel('Values')\n",
    "plt.title('Box plot of the data')\n",
    "\n",
    "plt.show()"
   ]
  },
  {
   "cell_type": "markdown",
   "metadata": {},
   "source": [
    "### Simulation of Random Data: not normal (left skewed)"
   ]
  },
  {
   "cell_type": "code",
   "execution_count": null,
   "metadata": {},
   "outputs": [],
   "source": [
    "import numpy as np\n",
    "import matplotlib.pyplot as plt\n",
    "\n",
    "# Generating right-skewed data using the Weibull distribution\n",
    "data_size = 1010\n",
    "shape_parameter = 20.0  # Adjust this parameter to control skewness\n",
    "\n",
    "# Generate data following a Weibull distribution\n",
    "data_weibull = 5*np.random.weibull(shape_parameter, size=data_size)\n",
    "\n",
    "# Plotting histogram to visualize the distribution\n",
    "plt.hist(data_weibull, bins=30, alpha=0.7, color='orange', edgecolor='black')\n",
    "plt.title('Left-Skewed Weibull Distribution')\n",
    "plt.xlabel('Values')\n",
    "plt.ylabel('Frequency')\n",
    "plt.grid(True)\n",
    "plt.show()\n"
   ]
  },
  {
   "cell_type": "code",
   "execution_count": null,
   "metadata": {},
   "outputs": [],
   "source": [
    "#result is a positive skewness. This means that the distribution is skewed to the right\n",
    "import seaborn as sns\n",
    "\n",
    "# Plot a density plot\n",
    "sns.kdeplot(data_weibull)\n",
    "\n",
    "\n",
    "# Add labels to the plot\n",
    "plt.xlabel('Data Values')\n",
    "plt.ylabel('Density')\n",
    "\n",
    "plt.show()\n",
    "\n",
    "from scipy.stats import mode, describe\n",
    "describe(data_weibull)"
   ]
  },
  {
   "cell_type": "markdown",
   "metadata": {},
   "source": [
    "- The density curve has a longer tail to the left.\n",
    "- This is a distribution that is skewed to the left.\n",
    "- It is also said to be negatively skewed since its coefficient of skewness is negative."
   ]
  },
  {
   "cell_type": "code",
   "execution_count": null,
   "metadata": {},
   "outputs": [],
   "source": [
    "# Add labels to the plot\n",
    "plt.boxplot(data_weibull,showmeans=True)\n",
    "plt.xlabel('Data')\n",
    "plt.ylabel('Values')\n",
    "plt.title('Box plot of the data')\n",
    "\n",
    "plt.show()"
   ]
  },
  {
   "cell_type": "code",
   "execution_count": null,
   "id": "34e00b15",
   "metadata": {},
   "outputs": [],
   "source": [
    "type(data_weibull)"
   ]
  },
  {
   "cell_type": "markdown",
   "id": "fee5db69",
   "metadata": {},
   "source": [
    "### Comparing dataset"
   ]
  },
  {
   "cell_type": "code",
   "execution_count": null,
   "id": "46715ed0",
   "metadata": {},
   "outputs": [],
   "source": [
    "import pandas as pd\n",
    "dataset = {'Normal': data_normal.T,\n",
    "           'Skew right': data_exp.T,\n",
    "           'Skew left': data_weibull.T}\n",
    "df = pd.DataFrame(dataset)\n",
    "\n",
    "df.head()"
   ]
  },
  {
   "cell_type": "code",
   "execution_count": null,
   "id": "0ebad3e8",
   "metadata": {},
   "outputs": [],
   "source": [
    "df.boxplot()"
   ]
  },
  {
   "cell_type": "markdown",
   "id": "3ad92ea0",
   "metadata": {},
   "source": [
    "## Data Acquisition from scikit learn: Iris Dataset"
   ]
  },
  {
   "cell_type": "markdown",
   "id": "f4d7e013",
   "metadata": {},
   "source": [
    "<b>Let's load Iris dataset from SK learn and do the following:</b>\n",
    "\n",
    "1. What is the type of the data? \n",
    ">TIPS: They extend dictionaries by enabling values to be accessed by key, bunch[\"value_key\"], or by an attribute, bunch.value_key.\n",
    "\n",
    "2. Identify the keys in this dataset.\n",
    "3. Print its target, target names, desciption and feature names. Explain the code for each types of flower\n",
    "4. Print iris data and identify the type of iris data.\n"
   ]
  },
  {
   "cell_type": "code",
   "execution_count": null,
   "id": "3d6e7363",
   "metadata": {},
   "outputs": [],
   "source": [
    "from sklearn import datasets\n",
    "iris = datasets.load_iris() #Loading the dataset\n",
    "type(iris)"
   ]
  },
  {
   "cell_type": "code",
   "execution_count": null,
   "id": "2972c7a5",
   "metadata": {},
   "outputs": [],
   "source": [
    "iris.DESCR"
   ]
  },
  {
   "cell_type": "code",
   "execution_count": null,
   "id": "9ef91687",
   "metadata": {},
   "outputs": [],
   "source": [
    "iris.keys()"
   ]
  },
  {
   "cell_type": "code",
   "execution_count": null,
   "id": "7a732375",
   "metadata": {},
   "outputs": [],
   "source": [
    "iris.target"
   ]
  },
  {
   "cell_type": "code",
   "execution_count": null,
   "id": "a16f0bcd",
   "metadata": {},
   "outputs": [],
   "source": [
    "iris.target_names"
   ]
  },
  {
   "cell_type": "code",
   "execution_count": null,
   "id": "7e7d30eb",
   "metadata": {},
   "outputs": [],
   "source": [
    "iris.feature_names"
   ]
  },
  {
   "cell_type": "code",
   "execution_count": null,
   "id": "521c3131",
   "metadata": {},
   "outputs": [],
   "source": [
    "iris.data"
   ]
  },
  {
   "cell_type": "code",
   "execution_count": null,
   "id": "83510e3a",
   "metadata": {},
   "outputs": [],
   "source": [
    "type(iris.data)"
   ]
  },
  {
   "cell_type": "markdown",
   "id": "c729bb8f",
   "metadata": {},
   "source": [
    "<b>Based on loaded Iris dataset, let's do the following:</b>\n",
    "\n",
    "1. Save the iris data in the form of Pandas Dataframe and name it as iris_data. Also, name the attributes based on the info obtained above. \n",
    "2. next add an extra column: the target name as its fifth attribute and print the data matrix\n",
    "3. identify the type of each attributes\n",
    "4. Use `head` and `tail` to inspect the first/last 5 rows\n",
    "5. Compute basic statistics of this data"
   ]
  },
  {
   "cell_type": "code",
   "execution_count": null,
   "id": "1da400cd",
   "metadata": {},
   "outputs": [],
   "source": [
    "import pandas as pd\n",
    "iris_data = pd.DataFrame(iris.data, columns = iris.feature_names)"
   ]
  },
  {
   "cell_type": "code",
   "execution_count": null,
   "id": "4d5e022b",
   "metadata": {},
   "outputs": [],
   "source": [
    "iris_data['target'] = iris.target"
   ]
  },
  {
   "cell_type": "code",
   "execution_count": null,
   "id": "e4ea169d",
   "metadata": {},
   "outputs": [],
   "source": [
    "iris_data"
   ]
  },
  {
   "cell_type": "code",
   "execution_count": null,
   "id": "9e1eb798",
   "metadata": {},
   "outputs": [],
   "source": [
    "iris_data['target'].value_counts()"
   ]
  },
  {
   "cell_type": "code",
   "execution_count": null,
   "id": "a9a2826d",
   "metadata": {},
   "outputs": [],
   "source": [
    "iris_data.info()"
   ]
  },
  {
   "cell_type": "code",
   "execution_count": null,
   "id": "c01d8048",
   "metadata": {},
   "outputs": [],
   "source": [
    "sepal_length= iris_data[\"sepal length (cm)\"]\n",
    "type(sepal_length)"
   ]
  },
  {
   "cell_type": "code",
   "execution_count": null,
   "id": "2f228998",
   "metadata": {},
   "outputs": [],
   "source": [
    "iris_data.tail(5)"
   ]
  },
  {
   "cell_type": "code",
   "execution_count": null,
   "id": "3c5d359c",
   "metadata": {},
   "outputs": [],
   "source": [
    "iris_data.describe()"
   ]
  },
  {
   "cell_type": "code",
   "execution_count": null,
   "id": "53d1c0e6",
   "metadata": {},
   "outputs": [],
   "source": [
    "print('sepal_length mean',sepal_length.mean()) # compute mean\n",
    "# importing matplotlib library\n",
    "import matplotlib.pyplot as plt\n",
    "print('sepal_length sd', sepal_length.std()) # std deviation"
   ]
  },
  {
   "cell_type": "code",
   "execution_count": null,
   "id": "90abdc8d",
   "metadata": {},
   "outputs": [],
   "source": [
    "# importing matplotlib library\n",
    "import matplotlib.pyplot as plt\n",
    "\n",
    "# plotting a two attributes:\n",
    "plt.plot(iris_data[\"sepal length (cm)\"])\n",
    "plt.plot(iris_data[\"sepal width (cm)\"])\n",
    "plt.title(\"Sepal Length  and Sepal Width\")\n",
    "plt.ylabel(\"Sepal Length / Sepal Width in cm\")\n",
    "plt.xlabel(\"Instances\")\n",
    "\n",
    "\n",
    "# Function add a legend  \n",
    "plt.legend([\"blue: sepal length\", \"orange: sepal width\"], loc =\"lower right\")\n",
    "\n",
    "plt.show()"
   ]
  },
  {
   "cell_type": "code",
   "execution_count": null,
   "id": "b29ac036",
   "metadata": {},
   "outputs": [],
   "source": [
    "\n",
    "# plotting a histogram\n",
    "plt.hist(iris_data[\"sepal length (cm)\"])\n",
    "plt.show()"
   ]
  },
  {
   "cell_type": "markdown",
   "id": "cd1eece6",
   "metadata": {},
   "source": [
    "> The pandas plot extenstion can be used to make a scatterplot\n",
    "- Display your plot with plt.show"
   ]
  },
  {
   "cell_type": "code",
   "execution_count": null,
   "id": "aaa8316f",
   "metadata": {},
   "outputs": [],
   "source": [
    "[iris_data.target]"
   ]
  },
  {
   "cell_type": "code",
   "execution_count": null,
   "id": "a943a5f5",
   "metadata": {},
   "outputs": [],
   "source": [
    "iris_data.plot(kind=\"scatter\", x=\"sepal length (cm)\", y=\"sepal width (cm)\",color=[iris_data.target],s=30)\n",
    "plt.show()"
   ]
  },
  {
   "cell_type": "code",
   "execution_count": null,
   "id": "27e948b1",
   "metadata": {},
   "outputs": [],
   "source": [
    "iris_data.head()"
   ]
  },
  {
   "cell_type": "code",
   "execution_count": null,
   "id": "bd00aeb5",
   "metadata": {},
   "outputs": [],
   "source": [
    "iris_data.iloc[:, 0:4].boxplot()"
   ]
  },
  {
   "cell_type": "markdown",
   "id": "af00624e",
   "metadata": {},
   "source": [
    "### Loanding local data from a machine\n",
    "1. Loading external dataset: Load the csv file using located in `../data/populations.csv` function using Pandas package as Dataframe. (`python -m pip install pandas`)\n",
    "\n",
    " Tips: \n",
    " - Dataset: there is a file in the folder called `data` named `populations.csv`. Make sure it is in right location. The data describes the populations of hares and lynxes (and carrots) in northern Canada during 20 years.\n",
    "\n",
    "- A [DataFrame](https://pandas.pydata.org/docs/getting_started/intro_tutorials/01_table_oriented.html#) is a 2-dimensional data structure that can store data of different types (including characters, integers, floating point values, categorical data and more) in columns. It is similar to a spreadsheet, an array or a table.\n",
    "\n",
    "2. Compute its basic statistics."
   ]
  },
  {
   "cell_type": "code",
   "execution_count": null,
   "id": "c75aa159",
   "metadata": {},
   "outputs": [],
   "source": [
    "import pandas as pd\n",
    "pd.__version__\n",
    "populations = pd.read_csv(\"../data/populations.csv\")\n",
    "\n",
    "populations.info()"
   ]
  },
  {
   "cell_type": "code",
   "execution_count": null,
   "id": "fa341967",
   "metadata": {},
   "outputs": [],
   "source": [
    "populations.describe()"
   ]
  },
  {
   "cell_type": "markdown",
   "id": "1c91a3d1",
   "metadata": {},
   "source": [
    "# Exercise:\n",
    "1. carry out simple visualzation for the data above.\n",
    "2. Try loading seaborn dataset carry out descriptive statistics. \n",
    "    - TIPS: refer to examples shown in: https://seaborn.pydata.org/tutorial/distributions.html\n",
    "    - the list of dataset can be obtained from https://github.com/mwaskom/seaborn-data"
   ]
  }
 ],
 "metadata": {
  "kernelspec": {
   "display_name": "Python 3 (ipykernel)",
   "language": "python",
   "name": "python3"
  },
  "language_info": {
   "codemirror_mode": {
    "name": "ipython",
    "version": 3
   },
   "file_extension": ".py",
   "mimetype": "text/x-python",
   "name": "python",
   "nbconvert_exporter": "python",
   "pygments_lexer": "ipython3",
   "version": "3.11.6"
  }
 },
 "nbformat": 4,
 "nbformat_minor": 5
}
