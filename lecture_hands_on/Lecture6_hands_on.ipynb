{
 "cells": [
  {
   "cell_type": "markdown",
   "id": "6027a45f-d731-4ff1-8527-b4db811bb2f9",
   "metadata": {
    "id": "fRuRcAt3F_wS"
   },
   "source": [
    "\n",
    "# MSS482 - GRAPHING TECHNOLOGY IN MATHEMATICS AND SCIENCE\n",
    "\n",
    "**SEMESTER 1 2023/2024**\n",
    "\n",
    "\n",
    ">R.U.Gobithaasan (2023). School of Mathematical Sciences, Universiti Sains Malaysia.\n",
    "[Official Website](https://math.usm.my/academic-profile/705-gobithaasan-rudrusamy) \n",
    "\n",
    "\n",
    "<p align=\"center\">\n",
    "     © 2023 R.U. Gobithaasan All Rights Reserved.\n",
    "</p>"
   ]
  },
  {
   "cell_type": "markdown",
   "id": "ac9069ae-3da6-41b9-88f1-cb26da15581c",
   "metadata": {},
   "source": [
    "# Analysis of Categorical Data\n",
    "- https://www.pythonfordatascience.org/chi-square-test-of-independence-python/"
   ]
  },
  {
   "cell_type": "markdown",
   "id": "db82e975-28ad-49ac-9960-82538ce11fd0",
   "metadata": {},
   "source": [
    "6.1 Introduction to Categorical Data Analysis\n",
    "\n",
    "6.2. Introduction to Chi-squared $\\chi^2$ goodness of fit test\n",
    "\n",
    "6.3 Chi-squared $\\chi^2$ test of independence and homogeneity.\n"
   ]
  },
  {
   "cell_type": "markdown",
   "id": "d14ade7d",
   "metadata": {},
   "source": [
    "### requirements\n",
    "\n",
    "> Install the following: `!python -m pip install pandas`\n",
    "1. pandas\n",
    "2. researchpy\n",
    "3. statsmodels\n",
    "4. matplotlib\n",
    "5. seaborn"
   ]
  },
  {
   "cell_type": "markdown",
   "id": "31aad3b9-a5ff-430c-bda0-922d8e3de635",
   "metadata": {
    "tags": []
   },
   "source": [
    "### Dataset: Online Dataset sources\n",
    "\n",
    "**Online Sources:** \n",
    "-  Kühne, R. (2017). Categorical Data Analysis. The International Encyclopedia of Communication Research Methods, 1–10. doi:10.1002/9781118901731.iecrm0021\n"
   ]
  },
  {
   "cell_type": "markdown",
   "id": "fe0cf54e",
   "metadata": {},
   "source": [
    "### Tips"
   ]
  },
  {
   "cell_type": "code",
   "execution_count": null,
   "id": "1ba723a9",
   "metadata": {},
   "outputs": [],
   "source": [
    "# Magic command to display Matplotlib plots inline :https://ipython.readthedocs.io/en/stable/interactive/magics.html\n",
    "%matplotlib inline\n",
    "# To ignore warnings, use the following code to make the display more attractive.\n",
    "# Import seaborn and matplotlib.\n",
    "import warnings\n",
    "warnings.filterwarnings(\"ignore\")"
   ]
  },
  {
   "cell_type": "markdown",
   "id": "aa413f35",
   "metadata": {},
   "source": [
    "# 6.1 Introduction to Categorical Data Analysis\n"
   ]
  },
  {
   "cell_type": "markdown",
   "id": "4ff1473b",
   "metadata": {},
   "source": [
    "**Categorical data** consists of non-numeric information, such as gender, colors, categories, etc. \n",
    "\n",
    "- Analyzing **categorical data** involves using various statistical techniques to understand patterns, relationships, and distributions within the data. Here's a step-by-step guide on how to analyze categorical data:\n",
    "\n",
    "1. **Data Preparation**: Organize your data into a tabular format, making it easier to work with.\n",
    "2. **Frequency Distribution**: Create a frequency table or use visualization tools like bar charts, histograms, or pie charts to represent the frequency distribution.\n",
    "3. **Central Tendency Measures**: For categorical data, **mode** is the measure of central tendency that indicates the most frequently occurring category. Calculate the mode to identify the most common category in your dataset.\n",
    "4. **Cross-tabulation (Contingency Tables)**: When you want to understand relationships between two or more categorical variables, create cross-tabulations or contingency tables. Use tools like `pd.crosstab()` in Python if working with `Pandas` to create these tables.\n",
    "5. **Chi-Square $\\chi^2$ Test**: to assess the association or independence between two categorical variables, use a Chi-Square test. The test measures how expected frequencies differ from observed frequencies. It determines whether there is a significant relationship between the variables.\n",
    "6. **Clustering**: For more complex analyzes, consider techniques like clustering to identify patterns and groupings within categorical data.\n",
    "7. **Interpretation and Conclusion**: After performing the analysis, interpret the results and draw conclusions based on the findings. Explain any relationships, patterns, or insights revealed by the analysis."
   ]
  },
  {
   "cell_type": "markdown",
   "id": "958c0812",
   "metadata": {},
   "source": [
    "# 6.1 Introduction to Chi-squared test\n",
    "https://www.pythonfordatascience.org/chi-square-test-of-independence-python/"
   ]
  },
  {
   "cell_type": "markdown",
   "id": "7fa1fe4b",
   "metadata": {},
   "source": [
    "The Chi-Square $\\chi^2$ test is a statistical method used to **determine the association or independence between categorical variables**. \n",
    "> It's particularly useful for analyzing the **relationship between two categorical variables** in a contingency table(also known as a cross-tabulation or a two-way frequency table).\n",
    "\n",
    "- The test evaluates whether there is a difference between the observed frequencies and the frequencies that would be expected if the variables were independent of each other.\n",
    "\n",
    "- Chi-Square $\\chi^2$ test is an **omnibus test**; if a significant relationship is found and one wants to test for differences between groups then post-hoc testing will need to be conducted. Typically, a proportions test is used as a follow-up post-hoc test.\n",
    "\n",
    "\n",
    "\n",
    "### How the Chi-Square Test Works\n",
    "\n",
    "1. **Hypotheses:**\n",
    "   - H0 (Null Hypothesis): Assumes independence between variables.\n",
    "   - H1 (Alternative Hypothesis): Assumes association between variables.\n",
    "\n",
    "2. **Contingency Table:**\n",
    "   - Organize categorical data into a table format.\n",
    "\n",
    "3. **Expected Frequencies:**\n",
    "   - Calculate expected frequencies under the assumption of independence.\n",
    "\n",
    "4. **Chi-Square Statistic:**\n",
    "   - Compute the Chi-Square statistic using the formula.\n",
    "\n",
    "5. **Degrees of Freedom (df):**\n",
    "   - Calculate degrees of freedom based on table dimensions.\n",
    "\n",
    "6. **Chi-Square Distribution:**\n",
    "   - Compare calculated Chi-Square value to critical value.\n",
    "\n",
    "7. **Interpretation:**\n",
    "   - Determine significance and make conclusions based on results.\n",
    "\n"
   ]
  },
  {
   "cell_type": "markdown",
   "id": "5e67c2ee",
   "metadata": {},
   "source": [
    "> $\\chi^2$ test of independence assumptions:\n",
    "1. The two samples are independent: This means that the occurrence of an event in one cell should not influence the occurrence of an event in another cell.\n",
    "2. No expected cell count is = 0. There should be no empty cells in the contingency table.\n",
    "3. Expected frequencies should be greater than 5 for most cells. When expected frequencies are too small, the chi-square test may not be reliable.\n"
   ]
  },
  {
   "cell_type": "markdown",
   "id": "3122d221",
   "metadata": {},
   "source": [
    "---"
   ]
  },
  {
   "cell_type": "markdown",
   "id": "ba4df426",
   "metadata": {},
   "source": [
    "> toy example: Two Categories; \n",
    "1. `Team`; {'A', 'B'} \n",
    "2. `Outcome`; {'Success', 'Failure'}"
   ]
  },
  {
   "cell_type": "markdown",
   "id": "47b46124",
   "metadata": {},
   "source": [
    ">Setting up data for Categorical Data Analysis: Contingency Table"
   ]
  },
  {
   "cell_type": "markdown",
   "id": "688dcf96",
   "metadata": {},
   "source": [
    "> In the context of Python's pandas library, `pd.crosstab` is a convenient function for creating **contingency tables, also known as cross-tabulations or pivot tables**. It is particularly useful for analyzing the relationship between two or more categorical variables. \n"
   ]
  },
  {
   "cell_type": "code",
   "execution_count": null,
   "id": "669060d0",
   "metadata": {},
   "outputs": [],
   "source": [
    "import pandas as pd\n",
    "\n",
    "# Sample DataFrame\n",
    "data = {'Team': ['A', 'B', 'A', 'B', 'A', 'B', 'A', 'A', 'B'],\n",
    "        'Outcome': ['Success', 'Failure', 'Success', 'Success', 'Failure', 'Failure', 'Success', 'Failure','Failure']}\n",
    "df = pd.DataFrame(data)\n",
    "df\n"
   ]
  },
  {
   "cell_type": "markdown",
   "id": "76cea20a",
   "metadata": {},
   "source": [
    "> example of contigency table from dataframe"
   ]
  },
  {
   "cell_type": "code",
   "execution_count": null,
   "id": "fa0ad346",
   "metadata": {},
   "outputs": [],
   "source": [
    "# Create a contingency table using pd.crosstab\n",
    "contingency_table = pd.crosstab(index=df['Team'], columns=df['Outcome'])\n",
    "\n",
    "# Display the contingency table\n",
    "print(contingency_table)\n",
    "\n"
   ]
  },
  {
   "cell_type": "code",
   "execution_count": null,
   "id": "6af349e5",
   "metadata": {},
   "outputs": [],
   "source": [
    "import matplotlib.pyplot as plt\n",
    "# Plotting\n",
    "contingency_table.plot(kind='bar', stacked=True, figsize=(4,3))\n",
    "\n",
    "# Adding labels and title\n",
    "plt.xlabel('Team')\n",
    "plt.ylabel('Count')\n",
    "plt.title('Bar chart from contingency table')\n",
    "\n",
    "# Show the plot\n",
    "plt.show()"
   ]
  },
  {
   "cell_type": "code",
   "execution_count": null,
   "id": "153902c5",
   "metadata": {},
   "outputs": [],
   "source": [
    "#Descriptive statistics\n",
    "row_percentages = pd.crosstab(index=df['Team'], columns=df['Outcome'], normalize='index') * 100\n",
    "column_percentages = pd.crosstab(index=df['Team'], columns=df['Outcome'], normalize='columns') * 100\n",
    "mode_team = df['Team'].mode()[0]\n",
    "mode_outcome = df['Outcome'].mode()[0]\n",
    "\n",
    "# Display descriptive statistics\n",
    "print(\"\\nRow Percentages:\")\n",
    "print(row_percentages)\n",
    "print(\"\\nColumn Percentages:\")\n",
    "print(column_percentages)\n",
    "print(f\"\\nMode of Team: {mode_team}\")\n",
    "print(f\"Mode of Outcome: {mode_outcome}\")"
   ]
  },
  {
   "cell_type": "markdown",
   "id": "f8c8e199",
   "metadata": {},
   "source": [
    "<div class=\"alert alert-block alert-danger\">\n",
    "<b>Question:</b> Determine if `outcome` between `Team` are similar or different.\n",
    "</div>\n",
    "\n",
    "        H0: there is no association between the two categorical variables (independence). \n",
    "        H1: The alternative hypothesis is that there is an association."
   ]
  },
  {
   "cell_type": "code",
   "execution_count": null,
   "id": "182e1163",
   "metadata": {},
   "outputs": [],
   "source": [
    "from scipy.stats import chi2_contingency\n",
    "\n",
    "# Perform the chi-square test\n",
    "chi2, p, dof, expected_freq = chi2_contingency(contingency_table)\n",
    "\n",
    "# Display the test statistics and p-value\n",
    "print(f\"\\nChi-Square Value: {chi2}\")\n",
    "print(f\"P-value: {p}\")\n",
    "\n",
    "# Check the significance level (e.g., 0.05)\n",
    "alpha = 0.05\n",
    "print(\"\\nSignificance Test:\")\n",
    "if p < alpha:\n",
    "    print(\"The association between Team and Outcome is statistically significant.\")\n",
    "else:\n",
    "    print(\"There is no significant association between Team and Outcome, thus they are independent.\")"
   ]
  },
  {
   "cell_type": "code",
   "execution_count": null,
   "id": "100318a2",
   "metadata": {},
   "outputs": [],
   "source": [
    "expected_freq"
   ]
  },
  {
   "cell_type": "markdown",
   "id": "0c9af469",
   "metadata": {},
   "source": [
    "> In summary, we have reason to believe that there is likely a **NO meaningful connection between 'Team' and 'Outcome', hence they are independent** in the dataset."
   ]
  },
  {
   "cell_type": "code",
   "execution_count": null,
   "id": "02e1ab0f",
   "metadata": {},
   "outputs": [],
   "source": [
    "from scipy.stats import chi2_contingency\n",
    "\n",
    "# Create DataFrames for observed and expected frequencies\n",
    "observed_df = pd.DataFrame(contingency_table.values, index=contingency_table.index, columns=contingency_table.columns)\n",
    "expected_df = pd.DataFrame(expected_freq, index=contingency_table.index, columns=contingency_table.columns)\n",
    "\n",
    "# Rename columns with prefixes\n",
    "observed_df.columns = [f'Observed_{col}' for col in observed_df.columns]\n",
    "expected_df.columns = [f'Expected_{col}' for col in expected_df.columns]\n",
    "\n",
    "# Display the combined DataFrame\n",
    "result_df = pd.concat([observed_df, expected_df], axis=1)\n",
    "print(\"Contingency Table with Observed and Expected Frequencies:\")\n",
    "print(result_df)\n"
   ]
  },
  {
   "cell_type": "markdown",
   "id": "bd436cc7",
   "metadata": {},
   "source": [
    "> the assumption (3) was not met: **All** of the cells have expected frequencies < 5.\n",
    "\n",
    "$\\chi^2$ test might not be reliable!"
   ]
  },
  {
   "cell_type": "markdown",
   "id": "8bd4f63a",
   "metadata": {},
   "source": [
    "---"
   ]
  },
  {
   "cell_type": "markdown",
   "id": "2f6f39c6",
   "metadata": {},
   "source": [
    "> Interpreting the Chi-Square Statistic\n",
    "\n",
    "The Chi-Square statistic obtained from a Chi-Square test is a measure used **to determine whether there is a significant association or independence between categorical variables**. Interpreting the Chi-Square statistic involves understanding its magnitude and comparing it to a critical value from a Chi-Square distribution table with appropriate degrees of freedom.\n",
    "\n",
    "> How to Interpret the Chi-Square Statistic\n",
    "\n",
    "**Magnitude of the Chi-Square Statistic:**\n",
    "- A high chi-square value indicates that **there is a notable association between the categorical variables being analyzed**.\n",
    "\n",
    "**Comparison with Critical Value:**\n",
    "- Compare the calculated Chi-Square value to the critical value from the Chi-Square distribution table.\n",
    "- The critical value depends on the chosen significance level (often 0.05 or 0.01) and degrees of freedom.\n",
    "\n",
    "**P-Value Interpretation:**\n",
    "- Often, the Chi-Square test also provides a p-value.\n",
    "- If the p-value is less than the chosen significance level (e.g., 0.05), it indicates a significant association between the variables.\n",
    "\n",
    "**Conclusion based on Comparison:**\n",
    "- If the calculated Chi-Square statistic is greater than the critical value, you reject the null hypothesis.\n",
    "  - **Result:** Indicates a **significant association** between the variables.\n",
    "- If the calculated Chi-Square statistic is less than the critical value, you fail to reject the null hypothesis.\n",
    "  - **Result:** Suggests no significant association (independence) between the variables.\n",
    "\n"
   ]
  },
  {
   "cell_type": "markdown",
   "id": "f48b34c7",
   "metadata": {},
   "source": [
    ">Examining residuals of your data can provide additional insights after finding a significant association in a Chi-squared test.\n",
    "\n",
    " -  the standardized residuals help identify the cells in a contingency table that contribute the most to the observed association. \n",
    "\n",
    "**How to interpret the standardized residuals:**\n",
    "\n",
    "1. **Positive Residuals**: If a standardized residual is positive, it indicates that the observed \n",
    "count is higher than what would be expected by chance. In the context of the Chi-squared test, positive residuals suggest an over-representation of cases in that cell.\n",
    "2. **Negative Residuals**: Conversely, if a standardized residual is negative, it indicates that the observed count is lower than expected. Negative residuals suggest an under-representation of cases in that cell.\n",
    "3. **Magnitude of Residuals**: The larger the magnitude of the standardized residual, the more the observed count deviates from what would be expected. A larger magnitude suggests a greater contribution to the overall Chi-squared statistic.\n"
   ]
  },
  {
   "cell_type": "code",
   "execution_count": null,
   "id": "0bb70c97",
   "metadata": {},
   "outputs": [],
   "source": [
    "import numpy as np\n",
    "import scipy.stats as stats\n",
    "\n",
    "\n",
    "# Standardized residuals:\n",
    "expected = stats.contingency.expected_freq(observed_df)\n",
    "residuals = (observed_df - expected) / np.sqrt(expected)\n",
    "\n",
    "# Print standardized residuals\n",
    "print(\"Standardized Residuals:\")\n",
    "print(residuals)"
   ]
  },
  {
   "cell_type": "markdown",
   "id": "4129833c",
   "metadata": {},
   "source": [
    "> comparing the residual table with stacked bar chart gives a clearer picture."
   ]
  },
  {
   "cell_type": "code",
   "execution_count": null,
   "id": "11ee5ab4",
   "metadata": {},
   "outputs": [],
   "source": [
    "import matplotlib.pyplot as plt\n",
    "# Plotting\n",
    "contingency_table.plot(kind='bar', stacked=True, figsize=(4,3))\n",
    "\n",
    "# Adding labels and title\n",
    "plt.xlabel('Team')\n",
    "plt.ylabel('Count')\n",
    "plt.title('Bar chart from contingency table')\n",
    "\n",
    "# Show the plot\n",
    "plt.show()"
   ]
  },
  {
   "cell_type": "markdown",
   "id": "cd37371e",
   "metadata": {},
   "source": [
    "---"
   ]
  },
  {
   "cell_type": "markdown",
   "id": "353f8249",
   "metadata": {},
   "source": [
    "> example from https://www.pythonfordatascience.org/chi-square-test-of-independence-python/"
   ]
  },
  {
   "cell_type": "markdown",
   "id": "099237ef",
   "metadata": {},
   "source": [
    ">The data used in this example comes from Stata and is 1980 U.S. census data from 956 cities."
   ]
  },
  {
   "cell_type": "markdown",
   "id": "e8576cfc",
   "metadata": {},
   "source": [
    "<div class=\"alert alert-block alert-warning\">\n",
    "<b> The research question: </b>  \n",
    "Is there a relationship between the region and age?\n",
    "</div>\n",
    "\n",
    "- Before testing this relationship, let's see some basic univariate statistics\n",
    "- The chi-square test for independence is generally robust to imbalances in the levels of categorical variables, especially when the sample size is large. "
   ]
  },
  {
   "cell_type": "code",
   "execution_count": null,
   "id": "61fdc463",
   "metadata": {},
   "outputs": [],
   "source": [
    "import pandas as pd\n",
    "import scipy.stats as stats\n",
    "\n",
    "# To load a sample dataset for this demonstration\n",
    "import statsmodels.api as sm\n",
    "\n",
    "df = sm.datasets.webuse(\"citytemp2\")"
   ]
  },
  {
   "cell_type": "code",
   "execution_count": null,
   "id": "b30ee591",
   "metadata": {},
   "outputs": [],
   "source": [
    "df.info()"
   ]
  },
  {
   "cell_type": "code",
   "execution_count": null,
   "id": "7fc16107",
   "metadata": {},
   "outputs": [],
   "source": [
    "df['region'].describe()"
   ]
  },
  {
   "cell_type": "code",
   "execution_count": null,
   "id": "1ab9b063",
   "metadata": {},
   "outputs": [],
   "source": [
    "df['region'].value_counts()"
   ]
  },
  {
   "cell_type": "code",
   "execution_count": null,
   "id": "884a2f9e",
   "metadata": {},
   "outputs": [],
   "source": [
    "df['agecat'].describe()"
   ]
  },
  {
   "cell_type": "code",
   "execution_count": null,
   "id": "e006abe8",
   "metadata": {},
   "outputs": [],
   "source": [
    "df['agecat'].value_counts()"
   ]
  },
  {
   "cell_type": "code",
   "execution_count": null,
   "id": "f64658a6",
   "metadata": {},
   "outputs": [],
   "source": [
    "contingency_table = pd.crosstab(df[\"region\"], df[\"agecat\"])\n",
    "contingency_table"
   ]
  },
  {
   "cell_type": "code",
   "execution_count": null,
   "id": "5d066cfc",
   "metadata": {},
   "outputs": [],
   "source": [
    "import matplotlib.pyplot as plt\n",
    "# Plotting\n",
    "contingency_table.plot(kind='bar', stacked=True, figsize=(4,3))\n",
    "\n",
    "# Adding labels and title\n",
    "plt.xlabel('Team')\n",
    "plt.ylabel('Count')\n",
    "plt.title('Bar chart from contingency table')\n",
    "\n",
    "# Show the plot\n",
    "plt.show()"
   ]
  },
  {
   "cell_type": "code",
   "execution_count": null,
   "id": "5d495f44",
   "metadata": {},
   "outputs": [],
   "source": [
    "from scipy.stats import chi2_contingency\n",
    "\n",
    "# Perform the chi-square test\n",
    "chi2, p, dof, expected_freq = chi2_contingency(contingency_table)\n",
    "\n",
    "# Display the test statistics and p-value\n",
    "print(f\"\\nChi-Square Value: {chi2}\")\n",
    "print(f\"P-value: {p}\")\n",
    "\n",
    "# Check the significance level (e.g., 0.05)\n",
    "alpha = 0.05\n",
    "print(\"\\nSignificance Test:\")\n",
    "if p < alpha:\n",
    "    print(\"The association between region and age is statistically significant.\")\n",
    "else:\n",
    "    print(\"There is no significant association between region and age, thus they are independent.\")"
   ]
  },
  {
   "cell_type": "markdown",
   "id": "fbebc266",
   "metadata": {},
   "source": [
    "> There is a relationship between region and the age distribution, \n",
    "$\\chi(6) = 61.29, p< 0.0001$."
   ]
  },
  {
   "cell_type": "markdown",
   "id": "8cbf57bd",
   "metadata": {},
   "source": [
    "> ASSUMPTION CHECK\n",
    "\n",
    "1. The two samples are independent:\n",
    "\n",
    "        - The variables were collected independently of each other, i.e. the answer from one variable was not dependent on the answer of the other.\n",
    "\n",
    "2. No expected cell count is = 0.\n",
    "3. No more than 20% of the cells have and expected cell count < 5.\n",
    "\n"
   ]
  },
  {
   "cell_type": "code",
   "execution_count": null,
   "id": "1f7d2123",
   "metadata": {},
   "outputs": [],
   "source": [
    "from scipy.stats import chi2_contingency\n",
    "\n",
    "# Create DataFrames for observed and expected frequencies\n",
    "observed_df = pd.DataFrame(contingency_table.values, index=contingency_table.index, columns=contingency_table.columns)\n",
    "expected_df = pd.DataFrame(expected_freq, index=contingency_table.index, columns=contingency_table.columns)\n",
    "\n",
    "# Rename columns with prefixes\n",
    "observed_df.columns = [f'Observed_{col}' for col in observed_df.columns]\n",
    "expected_df.columns = [f'Expected_{col}' for col in expected_df.columns]\n",
    "\n",
    "# Display the combined DataFrame\n",
    "result_df = pd.concat([observed_df, expected_df], axis=1)\n",
    "print(\"Contingency Table with Observed and Expected Frequencies:\")\n",
    "print(result_df)\n"
   ]
  },
  {
   "cell_type": "code",
   "execution_count": null,
   "id": "3892b6a8",
   "metadata": {},
   "outputs": [],
   "source": [
    "import numpy as np\n",
    "# Standardized residuals:\n",
    "expected = stats.contingency.expected_freq(observed_df)\n",
    "residuals = (observed_df - expected) / np.sqrt(expected)\n",
    "\n",
    "# Print standardized residuals\n",
    "print(\"Standardized Residuals:\")\n",
    "print(residuals)"
   ]
  },
  {
   "cell_type": "markdown",
   "id": "0cf5ceae",
   "metadata": {},
   "source": [
    "> comparing the residual table with stacked bar chart gives a clearer picture."
   ]
  },
  {
   "cell_type": "code",
   "execution_count": null,
   "id": "aa4f08f1",
   "metadata": {},
   "outputs": [],
   "source": [
    "import matplotlib.pyplot as plt\n",
    "# Plotting\n",
    "contingency_table.plot(kind='bar', stacked=True, figsize=(4,3))\n",
    "\n",
    "# Adding labels and title\n",
    "plt.xlabel('Team')\n",
    "plt.ylabel('Count')\n",
    "plt.title('Bar chart from contingency table')\n",
    "\n",
    "# Show the plot\n",
    "plt.show()"
   ]
  },
  {
   "cell_type": "markdown",
   "id": "d320fe90",
   "metadata": {},
   "source": [
    "---"
   ]
  },
  {
   "cell_type": "markdown",
   "id": "e4432c9d",
   "metadata": {},
   "source": [
    "<div class=\"alert alert-block alert-danger\">\n",
    "<b>Exercise:</b> Is there a relationship between the division and age?\n",
    "\n",
    "</div>"
   ]
  },
  {
   "cell_type": "code",
   "execution_count": null,
   "id": "0fb2322d",
   "metadata": {},
   "outputs": [],
   "source": [
    "df['division'].value_counts()"
   ]
  },
  {
   "cell_type": "markdown",
   "id": "911798d4",
   "metadata": {},
   "source": [
    "---"
   ]
  }
 ],
 "metadata": {
  "kernelspec": {
   "display_name": "Python 3 (ipykernel)",
   "language": "python",
   "name": "python3"
  },
  "language_info": {
   "codemirror_mode": {
    "name": "ipython",
    "version": 3
   },
   "file_extension": ".py",
   "mimetype": "text/x-python",
   "name": "python",
   "nbconvert_exporter": "python",
   "pygments_lexer": "ipython3",
   "version": "3.11.6"
  }
 },
 "nbformat": 4,
 "nbformat_minor": 5
}
