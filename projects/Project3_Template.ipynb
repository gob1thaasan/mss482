{
 "cells": [
  {
   "cell_type": "markdown",
   "metadata": {},
   "source": [
    "---\n",
    "<h1 style=\"text-align: center;\">\n",
    "\n",
    "School of Mathematical Sciences,\n",
    "Universiti Sains Malaysia\n",
    "\n",
    "MSS482: Graphing Technology in Mathematics and Science\n",
    "\n",
    "Semester I: Academic Session 2023/2024\n",
    "\n",
    "</h1>\n",
    "\n",
    ">R.U.Gobithaasan (2023). School of Mathematical Sciences, Universiti Sains Malaysia.\\\n",
    "[Official Website](https://math.usm.my/academic-profile/705-gobithaasan-rudrusamy) \n",
    "---"
   ]
  },
  {
   "cell_type": "markdown",
   "metadata": {},
   "source": [
    "## Project 2: 7.5%\n",
    "- CLO1 – 7.5%,\n",
    "- CLO2 – 10%,\n",
    "- CLO3 – 2.5%\n",
    "\n",
    "### Due: 22nd January 2023 (5.00 PM)\n",
    "\n",
    "1. This is a group work (2 to 5 students per group).\n",
    "2. Write a complete report using the given Jupyter Notebook to demonstrate the following tasks:\n",
    "\n",
    "    - [CLO1, C3] Choose a suitable dataset from various sources, such as books, the internet, or any relevant references, and use Python to build a regression model. (7.5M)\n",
    "\n",
    "    -  [CLO2, P4] Conduct suitable statistical techniques to develop the regression model. (5M)\n",
    "\n",
    "\n",
    "    - [CLO2, P4] Construct and execute the most suitable Python codes to develop the regression model effectively. (5M)\n",
    "\n",
    "\n",
    "    - [CLO3, A3] Adopt suitable references for this project. (2.5M)\n",
    "\n",
    "\n",
    "For guidelines, you may refer to the following examples/problems:\n",
    "\n",
    "•\tAn Introduction to Python Environment and Datasets\n",
    "•\tDistribution Statistics & Data Visualization\n",
    "•\tAnalyzing More Than One Variable Data\n",
    "•\tScatterplots, Linear & Multiple Regression\n",
    "\n",
    "**COPYING CASES WILL BE PENALIZED BETWEEN GROUPS; 0 MARKS WILL BE GIVEN TO BOTH PARTIES.** \n"
   ]
  },
  {
   "cell_type": "markdown",
   "metadata": {},
   "source": [
    "## Fill up the following declaration details (agreed and signed by team leader):\n",
    "**We certify that this report is my own work, based on my personal study and/or research. We also certify that this report has not previously been submitted for assessment in any other unit, and that we have not copied in part or whole or otherwise plagiarised the work of other students and/or persons.**\n",
    "\n",
    "| NO. | NAME | MATRIC NUMBER | ROLE|\n",
    "|---|---|---| ---| \n",
    "|1|| | \n",
    "|2| | |\n",
    "|3| ||\n",
    "|4| | |\n",
    "|5| | |\n",
    "\n",
    "\n",
    "- Name (Group Leader): \n",
    "- Matrix Number: \n",
    "- Date: \n",
    "\n",
    "---"
   ]
  },
  {
   "cell_type": "markdown",
   "metadata": {
    "tags": []
   },
   "source": [
    "<h3 style=\"text-align: center;\">\n",
    "\n",
    "Assessment Rubric for Project 2: (please refer to the pdf file).\n",
    "\n",
    "</h3>\n",
    "\n",
    "|Attribute |Assessment Criteria |Weightage (%) | Marks |\n",
    "|:---:|:---:|:---:|:---:|\n",
    "|Cognitive Domain I (CO1,P01,C3)| (a) Title and details of the problem. |2.5||\n",
    "|Cognitive Domain II (CO1,P01,C3)| (b) The details of the dataset, dependent and independent variable(s). |5.0||\n",
    "| Psychomotor Domain I (CO2,PO2,P4) |(c) Construction and execution the packages/methods/functions of Python codes for developing the regression model. |4.0| |\n",
    "| Psychomotor Domain II (CO2,PO2,P4) |(d) Display the results and discussion with detailed visualization. |4.0| |\n",
    "| Psychomotor Domain III (CO2,PO2,P4) |(e) Conclusion of the project which may lead to an informed decision by administrators. |2.0| |\n",
    "| Communication Skills (CO3,PO4,A3)|(f) References |2.5| |\n",
    "| |Total/Score|20 | ||\n",
    "\n"
   ]
  },
  {
   "cell_type": "markdown",
   "metadata": {
    "tags": []
   },
   "source": [
    "---\n",
    "\n",
    "# 1. PROJECT TITLE: XXX\n",
    "\n",
    "---\n",
    "\n",
    "(a) Title and details of the problem.\n"
   ]
  },
  {
   "cell_type": "code",
   "execution_count": null,
   "metadata": {
    "vscode": {
     "languageId": "plaintext"
    }
   },
   "outputs": [],
   "source": []
  },
  {
   "cell_type": "markdown",
   "metadata": {},
   "source": [
    "# 2. ABOUT DATASET\n",
    "\n",
    "(b) The details of the dataset, dependent and independent variable(s).\n"
   ]
  },
  {
   "cell_type": "code",
   "execution_count": null,
   "metadata": {
    "vscode": {
     "languageId": "plaintext"
    }
   },
   "outputs": [],
   "source": []
  },
  {
   "cell_type": "markdown",
   "metadata": {},
   "source": []
  },
  {
   "cell_type": "markdown",
   "metadata": {},
   "source": [
    "# 3 METHODOLOGY & RESULTS"
   ]
  },
  {
   "cell_type": "markdown",
   "metadata": {},
   "source": [
    "## 3.1 METHODOLOGY"
   ]
  },
  {
   "cell_type": "markdown",
   "metadata": {},
   "source": [
    "(c) Construction and execution the packages/methods/functions of Python codes for developing the regression model.\n"
   ]
  },
  {
   "cell_type": "code",
   "execution_count": null,
   "metadata": {
    "vscode": {
     "languageId": "plaintext"
    }
   },
   "outputs": [],
   "source": []
  },
  {
   "cell_type": "markdown",
   "metadata": {},
   "source": [
    "## 3.2 RESULTS"
   ]
  },
  {
   "cell_type": "markdown",
   "metadata": {},
   "source": [
    "(d) Display the results and discussion with detailed visualization."
   ]
  },
  {
   "cell_type": "markdown",
   "metadata": {},
   "source": []
  },
  {
   "cell_type": "markdown",
   "metadata": {},
   "source": [
    "## 3.3 CONCLUSION"
   ]
  },
  {
   "cell_type": "markdown",
   "metadata": {},
   "source": [
    "(e) Conclusion of the project which may lead to an informed decision by administrators."
   ]
  },
  {
   "cell_type": "markdown",
   "metadata": {},
   "source": []
  },
  {
   "cell_type": "markdown",
   "metadata": {},
   "source": [
    "# 4. REFERENCES"
   ]
  },
  {
   "cell_type": "code",
   "execution_count": null,
   "metadata": {
    "vscode": {
     "languageId": "plaintext"
    }
   },
   "outputs": [],
   "source": []
  }
 ],
 "metadata": {
  "kernelspec": {
   "display_name": "Python 3 (ipykernel)",
   "language": "python",
   "name": "python3"
  },
  "language_info": {
   "codemirror_mode": {
    "name": "ipython",
    "version": 3
   },
   "file_extension": ".py",
   "mimetype": "text/x-python",
   "name": "python",
   "nbconvert_exporter": "python",
   "pygments_lexer": "ipython3",
   "version": "3.11.6"
  },
  "toc-autonumbering": false,
  "toc-showcode": false,
  "toc-showmarkdowntxt": false,
  "toc-showtags": false
 },
 "nbformat": 4,
 "nbformat_minor": 4
}
